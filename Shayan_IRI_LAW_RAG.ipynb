{
  "cells": [
    {
      "cell_type": "code",
      "source": [
        "from google.colab import drive\n",
        "drive.mount('/content/drive')"
      ],
      "metadata": {
        "colab": {
          "base_uri": "https://localhost:8080/"
        },
        "id": "b22ah9hn-XYW",
        "outputId": "c21764e1-3dd3-45b3-968b-f485a20b7090"
      },
      "execution_count": 1,
      "outputs": [
        {
          "output_type": "stream",
          "name": "stdout",
          "text": [
            "Mounted at /content/drive\n"
          ]
        }
      ]
    },
    {
      "cell_type": "code",
      "execution_count": 2,
      "metadata": {
        "colab": {
          "base_uri": "https://localhost:8080/"
        },
        "id": "rD6UKIWPYjYW",
        "outputId": "cd9e391e-57c2-4993-f284-0b1688da7caf"
      },
      "outputs": [
        {
          "output_type": "stream",
          "name": "stdout",
          "text": [
            "\u001b[2K     \u001b[90m━━━━━━━━━━━━━━━━━━━━━━━━━━━━━━━━━━━━━━━━\u001b[0m \u001b[32m280.0/280.0 kB\u001b[0m \u001b[31m6.3 MB/s\u001b[0m eta \u001b[36m0:00:00\u001b[0m\n",
            "\u001b[2K     \u001b[90m━━━━━━━━━━━━━━━━━━━━━━━━━━━━━━━━━━━━━━━━\u001b[0m \u001b[32m817.0/817.0 kB\u001b[0m \u001b[31m14.7 MB/s\u001b[0m eta \u001b[36m0:00:00\u001b[0m\n",
            "\u001b[2K     \u001b[90m━━━━━━━━━━━━━━━━━━━━━━━━━━━━━━━━━━━━━━━━\u001b[0m \u001b[32m1.7/1.7 MB\u001b[0m \u001b[31m19.8 MB/s\u001b[0m eta \u001b[36m0:00:00\u001b[0m\n",
            "\u001b[2K     \u001b[90m━━━━━━━━━━━━━━━━━━━━━━━━━━━━━━━━━━━━━━━━\u001b[0m \u001b[32m1.8/1.8 MB\u001b[0m \u001b[31m28.9 MB/s\u001b[0m eta \u001b[36m0:00:00\u001b[0m\n",
            "\u001b[2K     \u001b[90m━━━━━━━━━━━━━━━━━━━━━━━━━━━━━━━━━━━━━━━━\u001b[0m \u001b[32m156.3/156.3 kB\u001b[0m \u001b[31m21.5 MB/s\u001b[0m eta \u001b[36m0:00:00\u001b[0m\n",
            "\u001b[2K     \u001b[90m━━━━━━━━━━━━━━━━━━━━━━━━━━━━━━━━━━━━━━━━\u001b[0m \u001b[32m525.5/525.5 kB\u001b[0m \u001b[31m26.9 MB/s\u001b[0m eta \u001b[36m0:00:00\u001b[0m\n",
            "\u001b[2K     \u001b[90m━━━━━━━━━━━━━━━━━━━━━━━━━━━━━━━━━━━━━━━━\u001b[0m \u001b[32m16.9/16.9 MB\u001b[0m \u001b[31m61.6 MB/s\u001b[0m eta \u001b[36m0:00:00\u001b[0m\n",
            "\u001b[2K     \u001b[90m━━━━━━━━━━━━━━━━━━━━━━━━━━━━━━━━━━━━━━━━\u001b[0m \u001b[32m227.4/227.4 kB\u001b[0m \u001b[31m26.9 MB/s\u001b[0m eta \u001b[36m0:00:00\u001b[0m\n",
            "\u001b[2K     \u001b[90m━━━━━━━━━━━━━━━━━━━━━━━━━━━━━━━━━━━━━━━━\u001b[0m \u001b[32m69.7/69.7 kB\u001b[0m \u001b[31m10.1 MB/s\u001b[0m eta \u001b[36m0:00:00\u001b[0m\n",
            "\u001b[2K     \u001b[90m━━━━━━━━━━━━━━━━━━━━━━━━━━━━━━━━━━━━━━━━\u001b[0m \u001b[32m250.8/250.8 kB\u001b[0m \u001b[31m31.9 MB/s\u001b[0m eta \u001b[36m0:00:00\u001b[0m\n",
            "\u001b[2K     \u001b[90m━━━━━━━━━━━━━━━━━━━━━━━━━━━━━━━━━━━━━━━━\u001b[0m \u001b[32m63.1/63.1 kB\u001b[0m \u001b[31m8.2 MB/s\u001b[0m eta \u001b[36m0:00:00\u001b[0m\n",
            "\u001b[2K     \u001b[90m━━━━━━━━━━━━━━━━━━━━━━━━━━━━━━━━━━━━━━━━\u001b[0m \u001b[32m421.5/421.5 kB\u001b[0m \u001b[31m47.3 MB/s\u001b[0m eta \u001b[36m0:00:00\u001b[0m\n",
            "\u001b[2K     \u001b[90m━━━━━━━━━━━━━━━━━━━━━━━━━━━━━━━━━━━━━━━━\u001b[0m \u001b[32m274.7/274.7 kB\u001b[0m \u001b[31m34.2 MB/s\u001b[0m eta \u001b[36m0:00:00\u001b[0m\n",
            "\u001b[2K     \u001b[90m━━━━━━━━━━━━━━━━━━━━━━━━━━━━━━━━━━━━━━━━\u001b[0m \u001b[32m981.5/981.5 kB\u001b[0m \u001b[31m73.0 MB/s\u001b[0m eta \u001b[36m0:00:00\u001b[0m\n",
            "\u001b[?25h  Preparing metadata (setup.py) ... \u001b[?25l\u001b[?25hdone\n",
            "\u001b[2K     \u001b[90m━━━━━━━━━━━━━━━━━━━━━━━━━━━━━━━━━━━━━━━━\u001b[0m \u001b[32m3.4/3.4 MB\u001b[0m \u001b[31m105.8 MB/s\u001b[0m eta \u001b[36m0:00:00\u001b[0m\n",
            "\u001b[2K     \u001b[90m━━━━━━━━━━━━━━━━━━━━━━━━━━━━━━━━━━━━━━━━\u001b[0m \u001b[32m2.4/2.4 MB\u001b[0m \u001b[31m94.4 MB/s\u001b[0m eta \u001b[36m0:00:00\u001b[0m\n",
            "\u001b[2K     \u001b[90m━━━━━━━━━━━━━━━━━━━━━━━━━━━━━━━━━━━━━━━━\u001b[0m \u001b[32m92.1/92.1 kB\u001b[0m \u001b[31m12.2 MB/s\u001b[0m eta \u001b[36m0:00:00\u001b[0m\n",
            "\u001b[2K     \u001b[90m━━━━━━━━━━━━━━━━━━━━━━━━━━━━━━━━━━━━━━━━\u001b[0m \u001b[32m60.8/60.8 kB\u001b[0m \u001b[31m8.2 MB/s\u001b[0m eta \u001b[36m0:00:00\u001b[0m\n",
            "\u001b[2K     \u001b[90m━━━━━━━━━━━━━━━━━━━━━━━━━━━━━━━━━━━━━━━━\u001b[0m \u001b[32m41.2/41.2 kB\u001b[0m \u001b[31m5.1 MB/s\u001b[0m eta \u001b[36m0:00:00\u001b[0m\n",
            "\u001b[2K     \u001b[90m━━━━━━━━━━━━━━━━━━━━━━━━━━━━━━━━━━━━━━━━\u001b[0m \u001b[32m5.4/5.4 MB\u001b[0m \u001b[31m115.6 MB/s\u001b[0m eta \u001b[36m0:00:00\u001b[0m\n",
            "\u001b[2K     \u001b[90m━━━━━━━━━━━━━━━━━━━━━━━━━━━━━━━━━━━━━━━━\u001b[0m \u001b[32m6.8/6.8 MB\u001b[0m \u001b[31m113.7 MB/s\u001b[0m eta \u001b[36m0:00:00\u001b[0m\n",
            "\u001b[2K     \u001b[90m━━━━━━━━━━━━━━━━━━━━━━━━━━━━━━━━━━━━━━━━\u001b[0m \u001b[32m58.4/58.4 kB\u001b[0m \u001b[31m5.9 MB/s\u001b[0m eta \u001b[36m0:00:00\u001b[0m\n",
            "\u001b[2K     \u001b[90m━━━━━━━━━━━━━━━━━━━━━━━━━━━━━━━━━━━━━━━━\u001b[0m \u001b[32m105.7/105.7 kB\u001b[0m \u001b[31m14.1 MB/s\u001b[0m eta \u001b[36m0:00:00\u001b[0m\n",
            "\u001b[2K     \u001b[90m━━━━━━━━━━━━━━━━━━━━━━━━━━━━━━━━━━━━━━━━\u001b[0m \u001b[32m67.3/67.3 kB\u001b[0m \u001b[31m9.3 MB/s\u001b[0m eta \u001b[36m0:00:00\u001b[0m\n",
            "\u001b[?25h  Installing build dependencies ... \u001b[?25l\u001b[?25hdone\n",
            "  Getting requirements to build wheel ... \u001b[?25l\u001b[?25hdone\n",
            "  Preparing metadata (pyproject.toml) ... \u001b[?25l\u001b[?25hdone\n",
            "\u001b[2K     \u001b[90m━━━━━━━━━━━━━━━━━━━━━━━━━━━━━━━━━━━━━━━━\u001b[0m \u001b[32m698.9/698.9 kB\u001b[0m \u001b[31m57.0 MB/s\u001b[0m eta \u001b[36m0:00:00\u001b[0m\n",
            "\u001b[2K     \u001b[90m━━━━━━━━━━━━━━━━━━━━━━━━━━━━━━━━━━━━━━━━\u001b[0m \u001b[32m1.6/1.6 MB\u001b[0m \u001b[31m90.5 MB/s\u001b[0m eta \u001b[36m0:00:00\u001b[0m\n",
            "\u001b[2K     \u001b[90m━━━━━━━━━━━━━━━━━━━━━━━━━━━━━━━━━━━━━━━━\u001b[0m \u001b[32m67.6/67.6 kB\u001b[0m \u001b[31m8.0 MB/s\u001b[0m eta \u001b[36m0:00:00\u001b[0m\n",
            "\u001b[2K     \u001b[90m━━━━━━━━━━━━━━━━━━━━━━━━━━━━━━━━━━━━━━━━\u001b[0m \u001b[32m138.5/138.5 kB\u001b[0m \u001b[31m17.6 MB/s\u001b[0m eta \u001b[36m0:00:00\u001b[0m\n",
            "\u001b[?25h  Preparing metadata (setup.py) ... \u001b[?25l\u001b[?25hdone\n",
            "\u001b[2K     \u001b[90m━━━━━━━━━━━━━━━━━━━━━━━━━━━━━━━━━━━━━━━━\u001b[0m \u001b[32m307.9/307.9 kB\u001b[0m \u001b[31m35.7 MB/s\u001b[0m eta \u001b[36m0:00:00\u001b[0m\n",
            "\u001b[2K     \u001b[90m━━━━━━━━━━━━━━━━━━━━━━━━━━━━━━━━━━━━━━━━\u001b[0m \u001b[32m75.6/75.6 kB\u001b[0m \u001b[31m9.5 MB/s\u001b[0m eta \u001b[36m0:00:00\u001b[0m\n",
            "\u001b[2K     \u001b[90m━━━━━━━━━━━━━━━━━━━━━━━━━━━━━━━━━━━━━━━━\u001b[0m \u001b[32m7.8/7.8 MB\u001b[0m \u001b[31m78.2 MB/s\u001b[0m eta \u001b[36m0:00:00\u001b[0m\n",
            "\u001b[2K     \u001b[90m━━━━━━━━━━━━━━━━━━━━━━━━━━━━━━━━━━━━━━━━\u001b[0m \u001b[32m129.9/129.9 kB\u001b[0m \u001b[31m15.5 MB/s\u001b[0m eta \u001b[36m0:00:00\u001b[0m\n",
            "\u001b[2K     \u001b[90m━━━━━━━━━━━━━━━━━━━━━━━━━━━━━━━━━━━━━━━━\u001b[0m \u001b[32m1.8/1.8 MB\u001b[0m \u001b[31m63.1 MB/s\u001b[0m eta \u001b[36m0:00:00\u001b[0m\n",
            "\u001b[2K     \u001b[90m━━━━━━━━━━━━━━━━━━━━━━━━━━━━━━━━━━━━━━━━\u001b[0m \u001b[32m536.7/536.7 kB\u001b[0m \u001b[31m39.0 MB/s\u001b[0m eta \u001b[36m0:00:00\u001b[0m\n",
            "\u001b[2K     \u001b[90m━━━━━━━━━━━━━━━━━━━━━━━━━━━━━━━━━━━━━━━━\u001b[0m \u001b[32m71.1/71.1 kB\u001b[0m \u001b[31m8.6 MB/s\u001b[0m eta \u001b[36m0:00:00\u001b[0m\n",
            "\u001b[2K     \u001b[90m━━━━━━━━━━━━━━━━━━━━━━━━━━━━━━━━━━━━━━━━\u001b[0m \u001b[32m49.4/49.4 kB\u001b[0m \u001b[31m5.9 MB/s\u001b[0m eta \u001b[36m0:00:00\u001b[0m\n",
            "\u001b[2K     \u001b[90m━━━━━━━━━━━━━━━━━━━━━━━━━━━━━━━━━━━━━━━━\u001b[0m \u001b[32m71.5/71.5 kB\u001b[0m \u001b[31m9.0 MB/s\u001b[0m eta \u001b[36m0:00:00\u001b[0m\n",
            "\u001b[2K     \u001b[90m━━━━━━━━━━━━━━━━━━━━━━━━━━━━━━━━━━━━━━━━\u001b[0m \u001b[32m77.8/77.8 kB\u001b[0m \u001b[31m9.5 MB/s\u001b[0m eta \u001b[36m0:00:00\u001b[0m\n",
            "\u001b[2K     \u001b[90m━━━━━━━━━━━━━━━━━━━━━━━━━━━━━━━━━━━━━━━━\u001b[0m \u001b[32m58.3/58.3 kB\u001b[0m \u001b[31m7.3 MB/s\u001b[0m eta \u001b[36m0:00:00\u001b[0m\n",
            "\u001b[2K     \u001b[90m━━━━━━━━━━━━━━━━━━━━━━━━━━━━━━━━━━━━━━━━\u001b[0m \u001b[32m46.0/46.0 kB\u001b[0m \u001b[31m5.7 MB/s\u001b[0m eta \u001b[36m0:00:00\u001b[0m\n",
            "\u001b[2K     \u001b[90m━━━━━━━━━━━━━━━━━━━━━━━━━━━━━━━━━━━━━━━━\u001b[0m \u001b[32m50.8/50.8 kB\u001b[0m \u001b[31m6.9 MB/s\u001b[0m eta \u001b[36m0:00:00\u001b[0m\n",
            "\u001b[2K     \u001b[90m━━━━━━━━━━━━━━━━━━━━━━━━━━━━━━━━━━━━━━━━\u001b[0m \u001b[32m341.4/341.4 kB\u001b[0m \u001b[31m39.4 MB/s\u001b[0m eta \u001b[36m0:00:00\u001b[0m\n",
            "\u001b[2K     \u001b[90m━━━━━━━━━━━━━━━━━━━━━━━━━━━━━━━━━━━━━━━━\u001b[0m \u001b[32m3.4/3.4 MB\u001b[0m \u001b[31m94.8 MB/s\u001b[0m eta \u001b[36m0:00:00\u001b[0m\n",
            "\u001b[2K     \u001b[90m━━━━━━━━━━━━━━━━━━━━━━━━━━━━━━━━━━━━━━━━\u001b[0m \u001b[32m1.3/1.3 MB\u001b[0m \u001b[31m80.2 MB/s\u001b[0m eta \u001b[36m0:00:00\u001b[0m\n",
            "\u001b[2K     \u001b[90m━━━━━━━━━━━━━━━━━━━━━━━━━━━━━━━━━━━━━━━━\u001b[0m \u001b[32m116.3/116.3 kB\u001b[0m \u001b[31m15.4 MB/s\u001b[0m eta \u001b[36m0:00:00\u001b[0m\n",
            "\u001b[2K     \u001b[90m━━━━━━━━━━━━━━━━━━━━━━━━━━━━━━━━━━━━━━━━\u001b[0m \u001b[32m134.8/134.8 kB\u001b[0m \u001b[31m16.5 MB/s\u001b[0m eta \u001b[36m0:00:00\u001b[0m\n",
            "\u001b[2K     \u001b[90m━━━━━━━━━━━━━━━━━━━━━━━━━━━━━━━━━━━━━━━━\u001b[0m \u001b[32m86.8/86.8 kB\u001b[0m \u001b[31m10.7 MB/s\u001b[0m eta \u001b[36m0:00:00\u001b[0m\n",
            "\u001b[?25h  Building wheel for pypika (pyproject.toml) ... \u001b[?25l\u001b[?25hdone\n",
            "  Building wheel for ffmpy (setup.py) ... \u001b[?25l\u001b[?25hdone\n",
            "  Building wheel for langdetect (setup.py) ... \u001b[?25l\u001b[?25hdone\n"
          ]
        }
      ],
      "source": [
        "!pip install -q accelerate langchain langchain_community unstructured sentence-transformers chromadb gradio openai langchain-openai tqdm ragas"
      ]
    },
    {
      "cell_type": "code",
      "source": [
        "from langchain.document_loaders import DirectoryLoader\n",
        "from langchain.text_splitter import RecursiveCharacterTextSplitter\n",
        "from langchain.schema import Document\n",
        "from langchain_community.embeddings import HuggingFaceEmbeddings\n",
        "from langchain.vectorstores.chroma import Chroma\n",
        "import os\n",
        "import shutil\n",
        "import torch\n",
        "import openai\n",
        "from getpass import getpass\n",
        "import re"
      ],
      "metadata": {
        "id": "M-9mYdfBwmPx"
      },
      "execution_count": 3,
      "outputs": []
    },
    {
      "cell_type": "code",
      "source": [
        "openai.api_key = getpass(\"Please provide your OpenAI Key: \")\n",
        "os.environ[\"OPENAI_API_KEY\"] = openai.api_key"
      ],
      "metadata": {
        "colab": {
          "base_uri": "https://localhost:8080/"
        },
        "id": "oX4puMM5-r8N",
        "outputId": "beb0cb93-5335-4d46-f89e-731bb99da50c"
      },
      "execution_count": 4,
      "outputs": [
        {
          "name": "stdout",
          "output_type": "stream",
          "text": [
            "Please provide your OpenAI Key: ··········\n"
          ]
        }
      ]
    },
    {
      "cell_type": "code",
      "execution_count": 5,
      "metadata": {
        "id": "NZ4kWNHuY0me"
      },
      "outputs": [],
      "source": [
        "device = torch.device('cuda' if torch.cuda.is_available() else 'cpu')"
      ]
    },
    {
      "cell_type": "markdown",
      "metadata": {
        "id": "rs1gEJcnXVFm"
      },
      "source": [
        "# Build the Vector DB"
      ]
    },
    {
      "cell_type": "code",
      "execution_count": null,
      "metadata": {
        "id": "Y2rc8KMUZGPE"
      },
      "outputs": [],
      "source": [
        "%%capture\n",
        "CHROMA_PATH = \"./chroma\"\n",
        "DATA_PATH = \"./datasets\"\n",
        "\n",
        "embeding_model_name = \"sentence-transformers/LaBSE\"\n",
        "embeding_model_kwargs = {'device': device}\n",
        "embeding_encode_kwargs = {'normalize_embeddings': False}\n",
        "\n",
        "embedding_function = HuggingFaceEmbeddings(model_name=embeding_model_name,model_kwargs=embeding_model_kwargs,encode_kwargs=embeding_encode_kwargs)"
      ]
    },
    {
      "cell_type": "markdown",
      "source": [
        "## Naive Document Splitting"
      ],
      "metadata": {
        "id": "jHrmtUyPrjCr"
      }
    },
    {
      "cell_type": "code",
      "source": [
        "with open('/content/business_law.txt', 'r') as file:\n",
        "  text = file.read()"
      ],
      "metadata": {
        "id": "G7cBYCFE-TAC"
      },
      "execution_count": null,
      "outputs": []
    },
    {
      "cell_type": "code",
      "execution_count": null,
      "metadata": {
        "id": "M3hITnhIZGwU"
      },
      "outputs": [],
      "source": [
        "def generate_data_store():\n",
        "    documents = load_documents()\n",
        "    chunks = split_text(documents)\n",
        "    save_to_chroma(chunks)\n",
        "\n",
        "\n",
        "def load_documents():\n",
        "    loader = DirectoryLoader(DATA_PATH, glob=\"*.txt\")\n",
        "    documents = loader.load()\n",
        "    return documents\n",
        "\n",
        "\n",
        "def split_text(documents: list[Document]):\n",
        "    text_splitter = RecursiveCharacterTextSplitter(\n",
        "        chunk_size=300,\n",
        "        chunk_overlap=100,\n",
        "        length_function=len,\n",
        "        add_start_index=True,\n",
        "    )\n",
        "    chunks = text_splitter.split_documents(documents)\n",
        "    print(f\"Split {len(documents)} documents into {len(chunks)} chunks.\")\n",
        "\n",
        "    return chunks\n",
        "\n",
        "\n",
        "def save_to_chroma(chunks: list[Document]):\n",
        "    if os.path.exists(CHROMA_PATH):\n",
        "        shutil.rmtree(CHROMA_PATH)\n",
        "\n",
        "    db = Chroma.from_documents(\n",
        "        chunks,\n",
        "        embedding_function,\n",
        "        persist_directory=CHROMA_PATH\n",
        "    )\n",
        "\n",
        "    db.persist()\n",
        "    print(f\"Saved {len(chunks)} chunks to {CHROMA_PATH}.\")"
      ]
    },
    {
      "cell_type": "code",
      "execution_count": null,
      "metadata": {
        "id": "xm8nco-PZVhC"
      },
      "outputs": [],
      "source": [
        "generate_data_store()"
      ]
    },
    {
      "cell_type": "code",
      "execution_count": null,
      "metadata": {
        "id": "L0U_1NBagUQq"
      },
      "outputs": [],
      "source": [
        "# backup the sqlite database"
      ]
    },
    {
      "cell_type": "markdown",
      "source": [
        "## Chunking based on Law Articles"
      ],
      "metadata": {
        "id": "r3AUMgyjrrE_"
      }
    },
    {
      "cell_type": "code",
      "source": [
        "BUSINESS_LAW_TXT_PATH = '/content/drive/MyDrive/IRI_LAW/datasets/business_law.txt'\n",
        "\n",
        "with open(BUSINESS_LAW_TXT_PATH, 'r') as file:\n",
        "  text = file.read()\n",
        "\n",
        "# preprocess\n",
        "temp = ''\n",
        "for c in text:\n",
        "  if c != '\\u200c':\n",
        "    temp += c\n",
        "\n",
        "text = temp"
      ],
      "metadata": {
        "id": "p_DUbZ6gejN9"
      },
      "execution_count": 7,
      "outputs": []
    },
    {
      "cell_type": "code",
      "source": [
        "pattern = r'(^ماده) (\\d+)'\n",
        "\n",
        "matches = re.finditer(pattern, text, re.MULTILINE)\n",
        "indexes = [m.start() for m in matches]\n",
        "\n",
        "splitted = []\n",
        "for i, j in zip([0] + indexes, indexes + [len(text)]):\n",
        "  splitted.append(text[i:j])"
      ],
      "metadata": {
        "id": "0bQ9nDNee2By"
      },
      "execution_count": 8,
      "outputs": []
    },
    {
      "cell_type": "code",
      "source": [
        "from langchain.docstore.document import Document\n",
        "\n",
        "chunks = []\n",
        "for d in splitted:\n",
        "  chunks.append(Document(page_content=d))"
      ],
      "metadata": {
        "id": "VTYxtdu2eD3W"
      },
      "execution_count": 9,
      "outputs": []
    },
    {
      "cell_type": "code",
      "source": [
        "db = Chroma.from_documents(\n",
        "    chunks,\n",
        "    embedding_function,\n",
        "    # persist_directory='/content/'\n",
        ")"
      ],
      "metadata": {
        "id": "g6379DiEeFi4"
      },
      "execution_count": 10,
      "outputs": []
    },
    {
      "cell_type": "code",
      "source": [
        "question = 'شرایط تاجر بودن چیست؟'\n",
        "r = db.similarity_search_with_relevance_scores(question, k=5)\n",
        "r"
      ],
      "metadata": {
        "colab": {
          "base_uri": "https://localhost:8080/"
        },
        "id": "PGEk-Qi_eYhd",
        "outputId": "19b192cb-b82f-4c89-cfd3-6f941ec3e23d"
      },
      "execution_count": 11,
      "outputs": [
        {
          "output_type": "execute_result",
          "data": {
            "text/plain": [
              "[(Document(page_content='ماده 1 - تاجر كسي است كه شغل معمولي خود را معاملات تجارتي قرار بدهد.\\n\\n'),\n",
              "  0.304079919638911),\n",
              " (Document(page_content='ماده 3 - معاملات ذيل باعتبار تاجر بودن متعاملين يا يكي از آنها تجارتي محسوب ميشود:\\n1) كليه معاملات بين تجار و كسبه و صرافان و بانكها.\\n2) كليه معاملاتي كه تاجر يا غير تاجر براي حوائج تجارتي خود مينمايد.\\n3) كليه معاملاتيكه اجزاء يا خدمه يا شاگرد تاجر براي امور تجارتي ارباب خود مينمايد.\\n4) كليه معاملات شركت هاي تجارتي.\\n\\n'),\n",
              "  0.2532847906946726),\n",
              " (Document(page_content='ماده 345 - هر گاه طرفين معامله يا يكي از آنها باعتبار تعهد شخص دلال معامله نمود دلال ضامن معامله است.\\n\\n'),\n",
              "  0.2285157621743964),\n",
              " (Document(page_content='ماده 577 - صاحب تجارتخانة كه شريك در تجارتخانه ندارد نميتواند اسمي براي تجارتخانه خود انتخاب كند كه موهم وجود شريك باشد.\\n\\n'),\n",
              "  0.22637790543052982),\n",
              " (Document(page_content='ماده 7 - دفتر روزنامه دفتري است كه تاجر بايد همه روزه مطالبات و ديون و داد و ستد تجارتي و معاملات راجع به اوراق تجارتي (از قبيل خريد و فروش و ظهرنويسي) و بطور كلي جميع واردات و صادرات تجارتي خود را بهر اسم و رسمي كه باشد و وجوهي را كه براي مخارج شخصي خود برداشت ميكند در آن دفتر ثبت نمايد.\\n\\n'),\n",
              "  0.21471224781859344)]"
            ]
          },
          "metadata": {},
          "execution_count": 11
        }
      ]
    },
    {
      "cell_type": "code",
      "source": [
        "# db.persist()"
      ],
      "metadata": {
        "id": "4xOHcgBtsspM"
      },
      "execution_count": 117,
      "outputs": []
    },
    {
      "cell_type": "code",
      "source": [
        "# backup the sqlite database"
      ],
      "metadata": {
        "id": "CePNk2lds2bu"
      },
      "execution_count": null,
      "outputs": []
    },
    {
      "cell_type": "markdown",
      "metadata": {
        "id": "po6_FyCKZbyy"
      },
      "source": [
        "# Load the Vector DB"
      ]
    },
    {
      "cell_type": "code",
      "execution_count": 7,
      "metadata": {
        "id": "DI2BzS6LgWXw"
      },
      "outputs": [],
      "source": [
        "# vector database for business law\n",
        "!cp -r /content/drive/MyDrive/IRI_LAW/chroma ./chroma"
      ]
    },
    {
      "cell_type": "code",
      "execution_count": 8,
      "metadata": {
        "id": "kKj8NsY9ZhJ_"
      },
      "outputs": [],
      "source": [
        "db = Chroma(persist_directory=CHROMA_PATH, embedding_function=embedding_function)"
      ]
    },
    {
      "cell_type": "code",
      "execution_count": 9,
      "metadata": {
        "id": "mdq2HmK1hVfV"
      },
      "outputs": [],
      "source": [
        "def find_relevant_results(query, k=3):\n",
        "  results = db.similarity_search_with_relevance_scores(query, k=k)\n",
        "  return results"
      ]
    },
    {
      "cell_type": "code",
      "execution_count": 10,
      "metadata": {
        "colab": {
          "base_uri": "https://localhost:8080/"
        },
        "id": "uWW4U3J3_0AH",
        "outputId": "68b0b167-ce15-45f1-8e05-4a942b12210e"
      },
      "outputs": [
        {
          "output_type": "execute_result",
          "data": {
            "text/plain": [
              "[(Document(page_content='امضاي مجاز شركت رسيده و مشتمل بر نكات زير باشد: الف - نام و شماره ثبت شركت. ب - موضوع شركت و نوع فعاليتهاي آن ج - مركز اصلي شركت و در صورتيكه شركت شعبي داشته باشد نشاني شعب آن د - در صورتيكه شركت براي مدت محدود تشكيل شده باشد تاريخ انقضاء مدت آن هـ - سرمايه شركت و مبلغ پرداخت شده آن. و - اگر سهام', metadata={'source': 'datasets/business_law.txt', 'start_index': 108869}),\n",
              "  0.40191792789816005),\n",
              " (Document(page_content='ماده 8(الحاقي 24ˏ12ˏ1347)- طرح اساسنامه بايد با قيد تاريخ به امضاء مؤسسين رسيده و مشتمل بر مطالب زير باشد: 1 - نام شركت 2 - موضوع شركت بطور صريح و منجز 3 - مدت شركت 4 - مركز اصلي شركت و محل شعب آن اگر تأسيس شعبه مورد نظر باشد. 5 - مبلغ سرمايه شركت و تعيين مقدار نقد و غير نقد آن به تفكيك. 6 - تعداد', metadata={'source': 'datasets/business_law.txt', 'start_index': 8311}),\n",
              "  0.3983542432691699),\n",
              " (Document(page_content='ماده 60(الحاقي 24ˏ12ˏ1347)- ورقه قرضه بايد شامل نكات زير بوده و بهمان ترتيبي كه براي امضاي اوراق سهام مقرر شده است امضاء بشود:\\n\\n1\\n\\nنام شركت\\n\\n2 - شماره و تاريخ ثبت شركت\\n\\n3\\n\\nمركز اصلي شركت.\\n\\n4\\n\\nمبلغ سرمايه شركت\\n\\n5\\n\\nمدت شركت.\\n\\n6 - مبلغ اسمي و شماره ترتيب و تاريخ صدور ورقه قرضه.', metadata={'source': 'datasets/business_law.txt', 'start_index': 29174}),\n",
              "  0.3907885467866763)]"
            ]
          },
          "metadata": {},
          "execution_count": 10
        }
      ],
      "source": [
        "res = find_relevant_results('چگونه می‌توان شرکتی را به ثبت رساند و چه مدارکی لازم است؟')\n",
        "res"
      ]
    },
    {
      "cell_type": "code",
      "execution_count": 11,
      "metadata": {
        "colab": {
          "base_uri": "https://localhost:8080/"
        },
        "id": "KbpZBEANAKHj",
        "outputId": "bd95a01c-10fc-42d0-95e4-017d2bee5a3a"
      },
      "outputs": [
        {
          "output_type": "stream",
          "name": "stdout",
          "text": [
            "امضاي مجاز شركت رسيده و مشتمل بر نكات زير باشد: الف - نام و شماره ثبت شركت. ب - موضوع شركت و نوع فعاليتهاي آن ج - مركز اصلي شركت و در صورتيكه شركت شعبي داشته باشد نشاني شعب آن د - در صورتيكه شركت براي مدت محدود تشكيل شده باشد تاريخ انقضاء مدت آن هـ - سرمايه شركت و مبلغ پرداخت شده آن. و - اگر سهام\n"
          ]
        }
      ],
      "source": [
        "print(res[0][0].page_content)"
      ]
    },
    {
      "cell_type": "markdown",
      "metadata": {
        "id": "c_psFXw3kAad"
      },
      "source": [
        "# Configure RAG\n",
        "\n"
      ]
    },
    {
      "cell_type": "markdown",
      "source": [
        "## Init Language Model"
      ],
      "metadata": {
        "id": "e1120PcctrMO"
      }
    },
    {
      "cell_type": "markdown",
      "source": [
        "## MaralGPT-7B"
      ],
      "metadata": {
        "id": "nbOCzKUsQ3Qn"
      }
    },
    {
      "cell_type": "code",
      "execution_count": null,
      "metadata": {
        "id": "CzwdojH-kJui"
      },
      "outputs": [],
      "source": [
        "from transformers import AutoModelForCausalLM, AutoTokenizer, GenerationConfig\n",
        "\n",
        "model_name_or_id = \"MaralGPT/Maral-7B-alpha-1\"\n",
        "tokenizer = AutoTokenizer.from_pretrained(model_name_or_id)\n",
        "llm = AutoModelForCausalLM.from_pretrained(model_name_or_id, torch_dtype=torch.bfloat16, device_map=\"auto\")"
      ]
    },
    {
      "cell_type": "code",
      "execution_count": null,
      "metadata": {
        "id": "QvY_s4FeT_SC"
      },
      "outputs": [],
      "source": [
        "from typing import Any, List, Mapping, Optional\n",
        "\n",
        "from langchain_core.callbacks.manager import CallbackManagerForLLMRun\n",
        "from langchain_core.language_models.llms import LLM\n",
        "\n",
        "\n",
        "class CustomLLM(LLM):\n",
        "\n",
        "    @property\n",
        "    def _llm_type(self) -> str:\n",
        "        return \"MistralForCausalLM\"\n",
        "\n",
        "    def _call(\n",
        "        self,\n",
        "        prompt: str,\n",
        "        stop: Optional[List[str]] = None,\n",
        "        run_manager: Optional[CallbackManagerForLLMRun] = None,\n",
        "        **kwargs: Any,\n",
        "    ) -> str:\n",
        "      inputs = tokenizer(prompt, return_tensors=\"pt\").to(\"cuda\")\n",
        "      outputs = llm.generate(**inputs, generation_config=generation_config)\n",
        "      return tokenizer.decode(outputs[0], skip_special_tokens=True)\n",
        "\n",
        "llm = CustomLLM()"
      ]
    },
    {
      "cell_type": "code",
      "execution_count": null,
      "metadata": {
        "id": "Sr0vSOOflHME"
      },
      "outputs": [],
      "source": [
        "generation_config = GenerationConfig(\n",
        "    do_sample=True,\n",
        "    top_k=1,\n",
        "    temperature=0.5,\n",
        "    max_new_tokens=300,\n",
        "    pad_token_id=tokenizer.eos_token_id\n",
        ")\n",
        "def process_query(query):\n",
        "    results = find_relevant_results(query)\n",
        "    if len(results) == 0 or results[0][1] < 0.25:\n",
        "        return (\"اطلاعاتی که مرتبط با سوال شما باشد را در پایگاه دانش خود پیدا نکردم!\")\n",
        "    context = \"\\n\\n---\\n\\n\".join([doc.page_content for doc, _score in results])\n",
        "    prompt = prompt.format(context=context, question=query)\n",
        "    inputs = tokenizer(prompt, return_tensors=\"pt\").to(device)\n",
        "    outputs = llm.generate(**inputs, generation_config=generation_config)\n",
        "    return tokenizer.decode(outputs[0], skip_special_tokens=True)"
      ]
    },
    {
      "cell_type": "markdown",
      "source": [
        "## GPT 3.5-turbu"
      ],
      "metadata": {
        "id": "MP0XHU-DQ_36"
      }
    },
    {
      "cell_type": "code",
      "source": [
        "from langchain_openai import ChatOpenAI\n",
        "\n",
        "llm = ChatOpenAI(model_name=\"gpt-3.5-turbo\", temperature=0)"
      ],
      "metadata": {
        "id": "1g0kqyIB4ZLi"
      },
      "execution_count": 13,
      "outputs": []
    },
    {
      "cell_type": "markdown",
      "source": [
        "## Create Prompt Template"
      ],
      "metadata": {
        "id": "91XN8rlAtvey"
      }
    },
    {
      "cell_type": "code",
      "execution_count": 12,
      "metadata": {
        "id": "ihA0PdmTlbC1"
      },
      "outputs": [],
      "source": [
        "from langchain.prompts import ChatPromptTemplate\n",
        "\n",
        "PROMPT_TEMPLATE = \"\"\"\n",
        "فقط بر اساس متن زیر به سوال پاسخ دهید:\n",
        "\n",
        "{context}\n",
        "\n",
        "---\n",
        "\n",
        "با توجه به متن بالا به سوال پاسخ دهید:\n",
        "{question}\n",
        "\n",
        "پاسخ:\n",
        "\"\"\"\n",
        "\n",
        "prompt = ChatPromptTemplate.from_template(PROMPT_TEMPLATE)"
      ]
    },
    {
      "cell_type": "markdown",
      "metadata": {
        "id": "fBcB0gzgNTvV"
      },
      "source": [
        "## Chain All Elements"
      ]
    },
    {
      "cell_type": "code",
      "source": [
        "retriever = db.as_retriever(search_type=\"similarity_score_threshold\", search_kwargs={\"score_threshold\": .25, \"k\": 3})"
      ],
      "metadata": {
        "id": "xwqdDR5DOrjW"
      },
      "execution_count": 14,
      "outputs": []
    },
    {
      "cell_type": "code",
      "source": [
        "from operator import itemgetter\n",
        "from langchain_core.runnables import RunnablePassthrough\n",
        "\n",
        "qa_chain = (\n",
        "    {\"context\": itemgetter(\"question\") | retriever, \"question\": itemgetter(\"question\")}\n",
        "    | RunnablePassthrough.assign(context=itemgetter(\"context\"))\n",
        "    | {\"response\": prompt | llm, \"context\": itemgetter(\"context\")}\n",
        ")"
      ],
      "metadata": {
        "id": "PiRwJ1dqNAtj"
      },
      "execution_count": 15,
      "outputs": []
    },
    {
      "cell_type": "markdown",
      "metadata": {
        "id": "s_mp4GXmNL73"
      },
      "source": [
        "# Process a Single Question"
      ]
    },
    {
      "cell_type": "markdown",
      "metadata": {
        "id": "NxTdDblKJsvk"
      },
      "source": [
        "## Serve in Gradio"
      ]
    },
    {
      "cell_type": "code",
      "execution_count": 16,
      "metadata": {
        "id": "MKG25KjoVONc",
        "colab": {
          "base_uri": "https://localhost:8080/",
          "height": 643
        },
        "outputId": "597dd40a-4111-43d8-9666-02433eb2668c"
      },
      "outputs": [
        {
          "output_type": "stream",
          "name": "stdout",
          "text": [
            "Setting queue=True in a Colab notebook requires sharing enabled. Setting `share=True` (you can turn this off by setting `share=False` in `launch()` explicitly).\n",
            "\n",
            "Colab notebook detected. To show errors in colab notebook, set debug=True in launch()\n",
            "Running on public URL: https://3e9c6ba962cf00ac5e.gradio.live\n",
            "\n",
            "This share link expires in 72 hours. For free permanent hosting and GPU upgrades, run `gradio deploy` from Terminal to deploy to Spaces (https://huggingface.co/spaces)\n"
          ]
        },
        {
          "output_type": "display_data",
          "data": {
            "text/plain": [
              "<IPython.core.display.HTML object>"
            ],
            "text/html": [
              "<div><iframe src=\"https://3e9c6ba962cf00ac5e.gradio.live\" width=\"100%\" height=\"500\" allow=\"autoplay; camera; microphone; clipboard-read; clipboard-write;\" frameborder=\"0\" allowfullscreen></iframe></div>"
            ]
          },
          "metadata": {}
        }
      ],
      "source": [
        "import gradio as gr\n",
        "\n",
        "def run_query(query):\n",
        "  resp = qa_chain.invoke({\"question\" : query})\n",
        "  return resp[\"response\"].content\n",
        "\n",
        "with gr.Blocks() as demo:\n",
        "    query = gr.Textbox(label=\"Question\", rtl=True, lines=5)\n",
        "    output = gr.Textbox(label=\"Answer\", rtl=True, lines=10)\n",
        "    greet_btn = gr.Button(\"Query\")\n",
        "    greet_btn.click(fn=run_query, inputs=query, outputs=output, api_name=\"run_query\")\n",
        "\n",
        "demo.launch();"
      ]
    },
    {
      "cell_type": "code",
      "source": [
        "demo.close()"
      ],
      "metadata": {
        "colab": {
          "base_uri": "https://localhost:8080/"
        },
        "id": "YhFXOKbgSqp0",
        "outputId": "8f32a314-349e-4f0b-942b-a687b48b2852"
      },
      "execution_count": 17,
      "outputs": [
        {
          "output_type": "stream",
          "name": "stdout",
          "text": [
            "Closing server running on port: 7860\n"
          ]
        }
      ]
    },
    {
      "cell_type": "markdown",
      "metadata": {
        "id": "Rqegq27Yweq0"
      },
      "source": [
        "# Evaluation"
      ]
    },
    {
      "cell_type": "code",
      "execution_count": null,
      "metadata": {
        "id": "n5XXjsg3BFu7"
      },
      "outputs": [],
      "source": [
        "# import locale\n",
        "# locale.getpreferredencoding = lambda: \"UTF-8\""
      ]
    },
    {
      "cell_type": "code",
      "execution_count": 15,
      "metadata": {
        "id": "v2Osn1gLwq9n"
      },
      "outputs": [],
      "source": [
        "!cp -r /content/drive/MyDrive/IRI_LAW/evaluation ./evaluation"
      ]
    },
    {
      "cell_type": "code",
      "execution_count": 16,
      "metadata": {
        "colab": {
          "base_uri": "https://localhost:8080/",
          "height": 204
        },
        "id": "1Ifz6cbmw3Ic",
        "outputId": "95d04222-2350-4da9-eaa4-f65458fa53dd"
      },
      "outputs": [
        {
          "output_type": "execute_result",
          "data": {
            "text/plain": [
              "                                            Question  \\\n",
              "0                              شرایط تاجر بودن چیست؟   \n",
              "1  خرید یا تحصیل مال منقول برای چه منظوری جزء معا...   \n",
              "2  انواع عملیاتی که جزء معاملات تجارتی محسوب می‌ش...   \n",
              "3  تأسیس و به کار انداختن کارخانه تحت چه شرایطی ج...   \n",
              "4  چه نوع معاملاتی بین تجار و کسبه تجارتی محسوب م...   \n",
              "\n",
              "                                              Answer  \n",
              "0  تاجر کسی است که شغل معمولی خود را معاملات تجار...  \n",
              "1  برای فروش یا اجاره، چه تصرفاتی در آن شده باشد ...  \n",
              "2  عملیات دلالی، حق‌العمل‌کاری، عاملی و تأسیسات م...  \n",
              "3                برای رفع حوائج شخصی نباشد. (ماده 2)  \n",
              "4  کلیه معاملات بین تجار و کسبه و صرافان و بانک‌ه...  "
            ],
            "text/html": [
              "\n",
              "  <div id=\"df-fd758116-3359-4c32-a2dc-ec4ab4cda545\" class=\"colab-df-container\">\n",
              "    <div>\n",
              "<style scoped>\n",
              "    .dataframe tbody tr th:only-of-type {\n",
              "        vertical-align: middle;\n",
              "    }\n",
              "\n",
              "    .dataframe tbody tr th {\n",
              "        vertical-align: top;\n",
              "    }\n",
              "\n",
              "    .dataframe thead th {\n",
              "        text-align: right;\n",
              "    }\n",
              "</style>\n",
              "<table border=\"1\" class=\"dataframe\">\n",
              "  <thead>\n",
              "    <tr style=\"text-align: right;\">\n",
              "      <th></th>\n",
              "      <th>Question</th>\n",
              "      <th>Answer</th>\n",
              "    </tr>\n",
              "  </thead>\n",
              "  <tbody>\n",
              "    <tr>\n",
              "      <th>0</th>\n",
              "      <td>شرایط تاجر بودن چیست؟</td>\n",
              "      <td>تاجر کسی است که شغل معمولی خود را معاملات تجار...</td>\n",
              "    </tr>\n",
              "    <tr>\n",
              "      <th>1</th>\n",
              "      <td>خرید یا تحصیل مال منقول برای چه منظوری جزء معا...</td>\n",
              "      <td>برای فروش یا اجاره، چه تصرفاتی در آن شده باشد ...</td>\n",
              "    </tr>\n",
              "    <tr>\n",
              "      <th>2</th>\n",
              "      <td>انواع عملیاتی که جزء معاملات تجارتی محسوب می‌ش...</td>\n",
              "      <td>عملیات دلالی، حق‌العمل‌کاری، عاملی و تأسیسات م...</td>\n",
              "    </tr>\n",
              "    <tr>\n",
              "      <th>3</th>\n",
              "      <td>تأسیس و به کار انداختن کارخانه تحت چه شرایطی ج...</td>\n",
              "      <td>برای رفع حوائج شخصی نباشد. (ماده 2)</td>\n",
              "    </tr>\n",
              "    <tr>\n",
              "      <th>4</th>\n",
              "      <td>چه نوع معاملاتی بین تجار و کسبه تجارتی محسوب م...</td>\n",
              "      <td>کلیه معاملات بین تجار و کسبه و صرافان و بانک‌ه...</td>\n",
              "    </tr>\n",
              "  </tbody>\n",
              "</table>\n",
              "</div>\n",
              "    <div class=\"colab-df-buttons\">\n",
              "\n",
              "  <div class=\"colab-df-container\">\n",
              "    <button class=\"colab-df-convert\" onclick=\"convertToInteractive('df-fd758116-3359-4c32-a2dc-ec4ab4cda545')\"\n",
              "            title=\"Convert this dataframe to an interactive table.\"\n",
              "            style=\"display:none;\">\n",
              "\n",
              "  <svg xmlns=\"http://www.w3.org/2000/svg\" height=\"24px\" viewBox=\"0 -960 960 960\">\n",
              "    <path d=\"M120-120v-720h720v720H120Zm60-500h600v-160H180v160Zm220 220h160v-160H400v160Zm0 220h160v-160H400v160ZM180-400h160v-160H180v160Zm440 0h160v-160H620v160ZM180-180h160v-160H180v160Zm440 0h160v-160H620v160Z\"/>\n",
              "  </svg>\n",
              "    </button>\n",
              "\n",
              "  <style>\n",
              "    .colab-df-container {\n",
              "      display:flex;\n",
              "      gap: 12px;\n",
              "    }\n",
              "\n",
              "    .colab-df-convert {\n",
              "      background-color: #E8F0FE;\n",
              "      border: none;\n",
              "      border-radius: 50%;\n",
              "      cursor: pointer;\n",
              "      display: none;\n",
              "      fill: #1967D2;\n",
              "      height: 32px;\n",
              "      padding: 0 0 0 0;\n",
              "      width: 32px;\n",
              "    }\n",
              "\n",
              "    .colab-df-convert:hover {\n",
              "      background-color: #E2EBFA;\n",
              "      box-shadow: 0px 1px 2px rgba(60, 64, 67, 0.3), 0px 1px 3px 1px rgba(60, 64, 67, 0.15);\n",
              "      fill: #174EA6;\n",
              "    }\n",
              "\n",
              "    .colab-df-buttons div {\n",
              "      margin-bottom: 4px;\n",
              "    }\n",
              "\n",
              "    [theme=dark] .colab-df-convert {\n",
              "      background-color: #3B4455;\n",
              "      fill: #D2E3FC;\n",
              "    }\n",
              "\n",
              "    [theme=dark] .colab-df-convert:hover {\n",
              "      background-color: #434B5C;\n",
              "      box-shadow: 0px 1px 3px 1px rgba(0, 0, 0, 0.15);\n",
              "      filter: drop-shadow(0px 1px 2px rgba(0, 0, 0, 0.3));\n",
              "      fill: #FFFFFF;\n",
              "    }\n",
              "  </style>\n",
              "\n",
              "    <script>\n",
              "      const buttonEl =\n",
              "        document.querySelector('#df-fd758116-3359-4c32-a2dc-ec4ab4cda545 button.colab-df-convert');\n",
              "      buttonEl.style.display =\n",
              "        google.colab.kernel.accessAllowed ? 'block' : 'none';\n",
              "\n",
              "      async function convertToInteractive(key) {\n",
              "        const element = document.querySelector('#df-fd758116-3359-4c32-a2dc-ec4ab4cda545');\n",
              "        const dataTable =\n",
              "          await google.colab.kernel.invokeFunction('convertToInteractive',\n",
              "                                                    [key], {});\n",
              "        if (!dataTable) return;\n",
              "\n",
              "        const docLinkHtml = 'Like what you see? Visit the ' +\n",
              "          '<a target=\"_blank\" href=https://colab.research.google.com/notebooks/data_table.ipynb>data table notebook</a>'\n",
              "          + ' to learn more about interactive tables.';\n",
              "        element.innerHTML = '';\n",
              "        dataTable['output_type'] = 'display_data';\n",
              "        await google.colab.output.renderOutput(dataTable, element);\n",
              "        const docLink = document.createElement('div');\n",
              "        docLink.innerHTML = docLinkHtml;\n",
              "        element.appendChild(docLink);\n",
              "      }\n",
              "    </script>\n",
              "  </div>\n",
              "\n",
              "\n",
              "<div id=\"df-aeab2e4b-2d77-4456-a25f-05e85a31d9b2\">\n",
              "  <button class=\"colab-df-quickchart\" onclick=\"quickchart('df-aeab2e4b-2d77-4456-a25f-05e85a31d9b2')\"\n",
              "            title=\"Suggest charts\"\n",
              "            style=\"display:none;\">\n",
              "\n",
              "<svg xmlns=\"http://www.w3.org/2000/svg\" height=\"24px\"viewBox=\"0 0 24 24\"\n",
              "     width=\"24px\">\n",
              "    <g>\n",
              "        <path d=\"M19 3H5c-1.1 0-2 .9-2 2v14c0 1.1.9 2 2 2h14c1.1 0 2-.9 2-2V5c0-1.1-.9-2-2-2zM9 17H7v-7h2v7zm4 0h-2V7h2v10zm4 0h-2v-4h2v4z\"/>\n",
              "    </g>\n",
              "</svg>\n",
              "  </button>\n",
              "\n",
              "<style>\n",
              "  .colab-df-quickchart {\n",
              "      --bg-color: #E8F0FE;\n",
              "      --fill-color: #1967D2;\n",
              "      --hover-bg-color: #E2EBFA;\n",
              "      --hover-fill-color: #174EA6;\n",
              "      --disabled-fill-color: #AAA;\n",
              "      --disabled-bg-color: #DDD;\n",
              "  }\n",
              "\n",
              "  [theme=dark] .colab-df-quickchart {\n",
              "      --bg-color: #3B4455;\n",
              "      --fill-color: #D2E3FC;\n",
              "      --hover-bg-color: #434B5C;\n",
              "      --hover-fill-color: #FFFFFF;\n",
              "      --disabled-bg-color: #3B4455;\n",
              "      --disabled-fill-color: #666;\n",
              "  }\n",
              "\n",
              "  .colab-df-quickchart {\n",
              "    background-color: var(--bg-color);\n",
              "    border: none;\n",
              "    border-radius: 50%;\n",
              "    cursor: pointer;\n",
              "    display: none;\n",
              "    fill: var(--fill-color);\n",
              "    height: 32px;\n",
              "    padding: 0;\n",
              "    width: 32px;\n",
              "  }\n",
              "\n",
              "  .colab-df-quickchart:hover {\n",
              "    background-color: var(--hover-bg-color);\n",
              "    box-shadow: 0 1px 2px rgba(60, 64, 67, 0.3), 0 1px 3px 1px rgba(60, 64, 67, 0.15);\n",
              "    fill: var(--button-hover-fill-color);\n",
              "  }\n",
              "\n",
              "  .colab-df-quickchart-complete:disabled,\n",
              "  .colab-df-quickchart-complete:disabled:hover {\n",
              "    background-color: var(--disabled-bg-color);\n",
              "    fill: var(--disabled-fill-color);\n",
              "    box-shadow: none;\n",
              "  }\n",
              "\n",
              "  .colab-df-spinner {\n",
              "    border: 2px solid var(--fill-color);\n",
              "    border-color: transparent;\n",
              "    border-bottom-color: var(--fill-color);\n",
              "    animation:\n",
              "      spin 1s steps(1) infinite;\n",
              "  }\n",
              "\n",
              "  @keyframes spin {\n",
              "    0% {\n",
              "      border-color: transparent;\n",
              "      border-bottom-color: var(--fill-color);\n",
              "      border-left-color: var(--fill-color);\n",
              "    }\n",
              "    20% {\n",
              "      border-color: transparent;\n",
              "      border-left-color: var(--fill-color);\n",
              "      border-top-color: var(--fill-color);\n",
              "    }\n",
              "    30% {\n",
              "      border-color: transparent;\n",
              "      border-left-color: var(--fill-color);\n",
              "      border-top-color: var(--fill-color);\n",
              "      border-right-color: var(--fill-color);\n",
              "    }\n",
              "    40% {\n",
              "      border-color: transparent;\n",
              "      border-right-color: var(--fill-color);\n",
              "      border-top-color: var(--fill-color);\n",
              "    }\n",
              "    60% {\n",
              "      border-color: transparent;\n",
              "      border-right-color: var(--fill-color);\n",
              "    }\n",
              "    80% {\n",
              "      border-color: transparent;\n",
              "      border-right-color: var(--fill-color);\n",
              "      border-bottom-color: var(--fill-color);\n",
              "    }\n",
              "    90% {\n",
              "      border-color: transparent;\n",
              "      border-bottom-color: var(--fill-color);\n",
              "    }\n",
              "  }\n",
              "</style>\n",
              "\n",
              "  <script>\n",
              "    async function quickchart(key) {\n",
              "      const quickchartButtonEl =\n",
              "        document.querySelector('#' + key + ' button');\n",
              "      quickchartButtonEl.disabled = true;  // To prevent multiple clicks.\n",
              "      quickchartButtonEl.classList.add('colab-df-spinner');\n",
              "      try {\n",
              "        const charts = await google.colab.kernel.invokeFunction(\n",
              "            'suggestCharts', [key], {});\n",
              "      } catch (error) {\n",
              "        console.error('Error during call to suggestCharts:', error);\n",
              "      }\n",
              "      quickchartButtonEl.classList.remove('colab-df-spinner');\n",
              "      quickchartButtonEl.classList.add('colab-df-quickchart-complete');\n",
              "    }\n",
              "    (() => {\n",
              "      let quickchartButtonEl =\n",
              "        document.querySelector('#df-aeab2e4b-2d77-4456-a25f-05e85a31d9b2 button');\n",
              "      quickchartButtonEl.style.display =\n",
              "        google.colab.kernel.accessAllowed ? 'block' : 'none';\n",
              "    })();\n",
              "  </script>\n",
              "</div>\n",
              "    </div>\n",
              "  </div>\n"
            ],
            "application/vnd.google.colaboratory.intrinsic+json": {
              "type": "dataframe",
              "variable_name": "df",
              "summary": "{\n  \"name\": \"df\",\n  \"rows\": 20,\n  \"fields\": [\n    {\n      \"column\": \"Question\",\n      \"properties\": {\n        \"dtype\": \"string\",\n        \"num_unique_values\": 20,\n        \"samples\": [\n          \"\\u0634\\u0631\\u0627\\u06cc\\u0637 \\u062a\\u0627\\u062c\\u0631 \\u0628\\u0648\\u062f\\u0646 \\u0686\\u06cc\\u0633\\u062a\\u061f\",\n          \"\\u062a\\u0627\\u062c\\u0631 \\u0628\\u0627\\u06cc\\u062f \\u0686\\u0647 \\u0627\\u0637\\u0644\\u0627\\u0639\\u0627\\u062a\\u06cc \\u0631\\u0627 \\u062f\\u0631 \\u0627\\u0633\\u0646\\u0627\\u062f \\u062e\\u0648\\u062f \\u0630\\u06a9\\u0631 \\u06a9\\u0646\\u062f\\u061f\",\n          \"\\u0686\\u0647 \\u06a9\\u0633\\u0627\\u0646\\u06cc \\u0628\\u0627\\u06cc\\u062f \\u0646\\u0627\\u0645 \\u062e\\u0648\\u062f \\u0631\\u0627 \\u062f\\u0631 \\u062f\\u0641\\u062a\\u0631 \\u062b\\u0628\\u062a \\u062a\\u062c\\u0627\\u0631\\u062a\\u06cc \\u0628\\u0647 \\u062b\\u0628\\u062a \\u0628\\u0631\\u0633\\u0627\\u0646\\u0646\\u062f\\u061f\"\n        ],\n        \"semantic_type\": \"\",\n        \"description\": \"\"\n      }\n    },\n    {\n      \"column\": \"Answer\",\n      \"properties\": {\n        \"dtype\": \"string\",\n        \"num_unique_values\": 20,\n        \"samples\": [\n          \"\\u062a\\u0627\\u062c\\u0631 \\u06a9\\u0633\\u06cc \\u0627\\u0633\\u062a \\u06a9\\u0647 \\u0634\\u063a\\u0644 \\u0645\\u0639\\u0645\\u0648\\u0644\\u06cc \\u062e\\u0648\\u062f \\u0631\\u0627 \\u0645\\u0639\\u0627\\u0645\\u0644\\u0627\\u062a \\u062a\\u062c\\u0627\\u0631\\u062a\\u06cc \\u0642\\u0631\\u0627\\u0631 \\u062f\\u0647\\u062f. (\\u0645\\u0627\\u062f\\u0647 1)\",\n          \"\\u062a\\u0635\\u0631\\u06cc\\u062d \\u0646\\u0645\\u0627\\u06cc\\u062f \\u06a9\\u0647 \\u062a\\u062d\\u062a \\u0686\\u0647 \\u0646\\u0645\\u0631\\u0647\\u200c\\u0627\\u06cc \\u0628\\u0647 \\u062b\\u0628\\u062a \\u0631\\u0633\\u06cc\\u062f\\u0647. (\\u0645\\u0627\\u062f\\u0647 18)\",\n          \"\\u06a9\\u0644\\u06cc\\u0647 \\u0627\\u0634\\u062e\\u0627\\u0635\\u06cc \\u06a9\\u0647 \\u0628\\u0647 \\u0634\\u063a\\u0644 \\u062a\\u062c\\u0627\\u0631\\u062a \\u0627\\u0634\\u062a\\u063a\\u0627\\u0644 \\u062f\\u0627\\u0631\\u0646\\u062f\\u060c \\u0627\\u0639\\u0645 \\u0627\\u0632 \\u0627\\u06cc\\u0631\\u0627\\u0646\\u06cc \\u0648 \\u062e\\u0627\\u0631\\u062c\\u06cc \\u0628\\u0627 \\u0627\\u0633\\u062a\\u062b\\u0646\\u0627\\u06cc \\u06a9\\u0633\\u0628\\u0647 \\u062c\\u0632\\u0621. (\\u0645\\u0627\\u062f\\u0647 16)\"\n        ],\n        \"semantic_type\": \"\",\n        \"description\": \"\"\n      }\n    }\n  ]\n}"
            }
          },
          "metadata": {},
          "execution_count": 16
        }
      ],
      "source": [
        "import pandas as pd\n",
        "\n",
        "BUSSINESS_LAW_PATH = './evaluation/business_law/easy.csv'\n",
        "df = pd.read_csv(BUSSINESS_LAW_PATH)\n",
        "df.head()"
      ]
    },
    {
      "cell_type": "code",
      "execution_count": 17,
      "metadata": {
        "id": "iwTuBgtv1iLo"
      },
      "outputs": [],
      "source": [
        "test_questions = df[\"Question\"].values.tolist()\n",
        "test_groundtruths = df[\"Answer\"].values.tolist()"
      ]
    },
    {
      "cell_type": "code",
      "execution_count": 127,
      "metadata": {
        "colab": {
          "base_uri": "https://localhost:8080/"
        },
        "id": "a8mcK1NV1pFi",
        "outputId": "75d3a1ac-c7fb-44d4-eb9b-2757b934a658"
      },
      "outputs": [
        {
          "output_type": "stream",
          "name": "stderr",
          "text": [
            "Processing:  35%|███▌      | 7/20 [00:12<00:23,  1.80s/it]/usr/local/lib/python3.10/dist-packages/langchain_core/vectorstores.py:343: UserWarning: No relevant docs were retrieved using the relevance score threshold 0.25\n",
            "  warnings.warn(\n",
            "Processing:  65%|██████▌   | 13/20 [00:23<00:13,  1.96s/it]/usr/local/lib/python3.10/dist-packages/langchain_core/vectorstores.py:343: UserWarning: No relevant docs were retrieved using the relevance score threshold 0.25\n",
            "  warnings.warn(\n",
            "Processing:  90%|█████████ | 18/20 [00:32<00:04,  2.22s/it]/usr/local/lib/python3.10/dist-packages/langchain_core/vectorstores.py:343: UserWarning: No relevant docs were retrieved using the relevance score threshold 0.25\n",
            "  warnings.warn(\n",
            "Processing: 100%|██████████| 20/20 [00:36<00:00,  1.81s/it]\n"
          ]
        }
      ],
      "source": [
        "from tqdm import tqdm\n",
        "\n",
        "answers = []\n",
        "contexts = []\n",
        "\n",
        "for question in tqdm(test_questions, desc='Processing'):\n",
        "  response = qa_chain.invoke({\"question\" : question})\n",
        "  answers.append(response[\"response\"].content)\n",
        "  contexts.append([context.page_content for context in response[\"context\"]])"
      ]
    },
    {
      "cell_type": "code",
      "execution_count": 128,
      "metadata": {
        "id": "sufY1eKs1wB_"
      },
      "outputs": [],
      "source": [
        "from datasets import Dataset\n",
        "\n",
        "response_dataset = Dataset.from_dict({\n",
        "    \"question\" : test_questions,\n",
        "    \"answer\" : answers,\n",
        "    \"contexts\" : contexts,\n",
        "    \"ground_truth\" : test_groundtruths\n",
        "})"
      ]
    },
    {
      "cell_type": "code",
      "execution_count": 129,
      "metadata": {
        "id": "BCsf0T4w2nJ8"
      },
      "outputs": [],
      "source": [
        "from ragas import evaluate\n",
        "from ragas.metrics import (\n",
        "    faithfulness,\n",
        "    answer_relevancy,\n",
        "    answer_correctness,\n",
        "    context_recall,\n",
        "    context_precision,\n",
        ")\n",
        "\n",
        "metrics = [\n",
        "    faithfulness,\n",
        "    answer_relevancy,\n",
        "    context_recall,\n",
        "    context_precision,\n",
        "    answer_correctness,\n",
        "]"
      ]
    },
    {
      "cell_type": "code",
      "execution_count": 130,
      "metadata": {
        "colab": {
          "base_uri": "https://localhost:8080/",
          "height": 49,
          "referenced_widgets": [
            "b1ab5c8617044a6a9554f03dc9f376cd",
            "4a8f5f91beb04154ad62a4114b0f81f0",
            "f88c6dcccff240a08e22d3dd0e886add",
            "ad88d917bb874d3c9b9b8b63d658e91d",
            "84dce665a3464a7a972701e8901ca21a",
            "773fc7a8f8d640b5b72264ab28b6c1c5",
            "841f69f2bfd04f8fbac096be8e2cc875",
            "903fcc815daf41f2a9a98d39cb5cc9ca",
            "10ddb3475c784d179cb6b353faca9c7d",
            "12c4a39ba20a41b28b68a00d2e97847f",
            "e434c522e0734c14ab84d81ebdedc80e"
          ]
        },
        "id": "8dcpAhGm2tFU",
        "outputId": "6517e4fe-5032-44d9-d682-761b560078a4"
      },
      "outputs": [
        {
          "output_type": "display_data",
          "data": {
            "text/plain": [
              "Evaluating:   0%|          | 0/100 [00:00<?, ?it/s]"
            ],
            "application/vnd.jupyter.widget-view+json": {
              "version_major": 2,
              "version_minor": 0,
              "model_id": "b1ab5c8617044a6a9554f03dc9f376cd"
            }
          },
          "metadata": {}
        }
      ],
      "source": [
        "results = evaluate(response_dataset, metrics)"
      ]
    },
    {
      "cell_type": "code",
      "execution_count": 131,
      "metadata": {
        "id": "T0W0QV4u2va4",
        "colab": {
          "base_uri": "https://localhost:8080/"
        },
        "outputId": "07dc32ea-d80c-42f8-ca42-29352064ec0c"
      },
      "outputs": [
        {
          "output_type": "execute_result",
          "data": {
            "text/plain": [
              "{'faithfulness': 0.7367, 'answer_relevancy': 0.8038, 'context_recall': 0.8108, 'context_precision': 0.5458, 'answer_correctness': 0.6188}"
            ]
          },
          "metadata": {},
          "execution_count": 131
        }
      ],
      "source": [
        "results"
      ]
    },
    {
      "cell_type": "code",
      "execution_count": 132,
      "metadata": {
        "id": "ry0rf6nk4APV",
        "colab": {
          "base_uri": "https://localhost:8080/",
          "height": 1000
        },
        "outputId": "eb58b924-81ad-4079-cb73-6b4b62754a09"
      },
      "outputs": [
        {
          "output_type": "execute_result",
          "data": {
            "text/plain": [
              "                                             question  \\\n",
              "0                               شرایط تاجر بودن چیست؟   \n",
              "1   خرید یا تحصیل مال منقول برای چه منظوری جزء معا...   \n",
              "2   انواع عملیاتی که جزء معاملات تجارتی محسوب می‌ش...   \n",
              "3   تأسیس و به کار انداختن کارخانه تحت چه شرایطی ج...   \n",
              "4   چه نوع معاملاتی بین تجار و کسبه تجارتی محسوب م...   \n",
              "5              دفاتری که تاجر باید داشته باشد کدامند؟   \n",
              "6       دفتر روزنامه چه نوع اطلاعاتی را باید ثبت کند؟   \n",
              "7                       دفتر کل چگونه باید تنظیم شود؟   \n",
              "8             دفتر دارایی چه اطلاعاتی را شامل می‌شود؟   \n",
              "9   نحوه ثبت مراسلات و مخابرات در دفتر کپیه چگونه ...   \n",
              "10  قبل از استفاده، کدام دفاتر باید توسط نماینده ا...   \n",
              "11  چه مواردی در دفتری که برای امضا به متصدی امضا ...   \n",
              "12            ممنوعیت‌هایی در نگهداری دفاتر چه هستند؟   \n",
              "13               دفاتر مطابق مقررات چه اعتباری دارند؟   \n",
              "14            تخلف از کدام مواد مستلزم جزای نقدی است؟   \n",
              "15  چه کسانی باید نام خود را در دفتر ثبت تجارتی به...   \n",
              "16  وظایف وزارت عدلیه در رابطه با دفتر ثبت تجارتی ...   \n",
              "17     تاجر باید چه اطلاعاتی را در اسناد خود ذکر کند؟   \n",
              "18        شناسایی کسبه جزء در چه صورتی انجام می‌گیرد؟   \n",
              "19                      انواع شرکت‌های تجارتی کدامند؟   \n",
              "\n",
              "                                               answer  \\\n",
              "0   شرایط تاجر بودن شامل انجام معاملات تجاری به صو...   \n",
              "1   خرید یا تحصیل مال منقول برای منظور فروش یا اجا...   \n",
              "2   همه معاملات تجارتی محسوب می‌شوند مگر اینکه ثاب...   \n",
              "3   تأسیس و به کار انداختن کارخانه جزء معاملات تجا...   \n",
              "4   کلیه معاملات بین تجار و کسبه تجارتی محسوب می‌شود.   \n",
              "5                       1. دفتر روزنامه\\n2. دفتر کپیه   \n",
              "6   دفتر روزنامه باید همه روزه مطالبات و دیون و دا...   \n",
              "7                                     باید تنظیم شود.   \n",
              "8   دفتر دارایی شامل اسناد، نوشتجات، اسباب و اثاثی...   \n",
              "9   مراسلات و مخابرات باید توسط تاجر در دفتر کپیه ...   \n",
              "10  دفاتری که برای امضاء به متصدی امضاء تسلیم می‌ش...   \n",
              "11  1. دارا بودن نمره ترتیبی و قیطان کشیده\\n2. شمر...   \n",
              "12  تراشیدن، حک کردن، جای سفید گذاشتن بیش از حد مع...   \n",
              "13  بدون اطلاعات بیشتر، نمی‌توان پاسخ دقیقی ارائه ...   \n",
              "14             تخلف از ماده 548 مستلزم جزای نقدی است.   \n",
              "15  کلیه اشخاصی که در نقاط بشغل تجارت اشتغال دارند...   \n",
              "16  وظایف وزارت عدلیه در رابطه با دفتر ثبت تجارتی ...   \n",
              "17  تاجر باید کلیه مراسلات، مخابرات، صورتحسابهای ص...   \n",
              "18  با استفاده از کدامکدهای موجود در متن، شناسایی ...   \n",
              "19  انواع شرکت‌های تجارتی شامل شرکت‌هایی هستند که ...   \n",
              "\n",
              "                                             contexts  \\\n",
              "0   [ماده 1 - تاجر كسي است كه شغل معمولي خود را مع...   \n",
              "1   [ماده 4 - معاملات غير منقول بهيچوجه تجارتي محس...   \n",
              "2   [ماده 4 - معاملات غير منقول بهيچوجه تجارتي محس...   \n",
              "3   [ماده 1 - تاجر كسي است كه شغل معمولي خود را مع...   \n",
              "4   [ماده 3 - معاملات ذيل باعتبار تاجر بودن متعامل...   \n",
              "5   [ماده 438 - انبارها و حجرهها و صندوق و اسناد و...   \n",
              "6   [ماده 7 - دفتر روزنامه دفتري است كه تاجر بايد ...   \n",
              "7                                                  []   \n",
              "8   [ماده 438 - انبارها و حجرهها و صندوق و اسناد و...   \n",
              "9   [ماده 10 - دفتر كپيه دفتري است كه تاجر بايد كل...   \n",
              "10  [ماده 438 - انبارها و حجرهها و صندوق و اسناد و...   \n",
              "11  [ماده 12 - دفتري كه براي امضاء بمتصدي امضاء تس...   \n",
              "12  [ماده 438 - انبارها و حجرهها و صندوق و اسناد و...   \n",
              "13                                                 []   \n",
              "14  [ماده 548 - مخارج تعقيبي كه از طرف يكي از طلبك...   \n",
              "15  [ماده 16 - در نقاطي كه وزارت عدليه مقتضي دانست...   \n",
              "16  [ماده 438 - انبارها و حجرهها و صندوق و اسناد و...   \n",
              "17  [ماده 10 - دفتر كپيه دفتري است كه تاجر بايد كل...   \n",
              "18                                                 []   \n",
              "19  [ماده 583 - كليه شركتهاي تجارتي مذكور در اين ق...   \n",
              "\n",
              "                                         ground_truth  faithfulness  \\\n",
              "0   تاجر کسی است که شغل معمولی خود را معاملات تجار...          0.00   \n",
              "1   برای فروش یا اجاره، چه تصرفاتی در آن شده باشد ...          1.00   \n",
              "2   عملیات دلالی، حق‌العمل‌کاری، عاملی و تأسیسات م...          0.50   \n",
              "3                 برای رفع حوائج شخصی نباشد. (ماده 2)          0.00   \n",
              "4   کلیه معاملات بین تجار و کسبه و صرافان و بانک‌ه...           NaN   \n",
              "5   دفتر روزنامه، دفتر کل، دفتر دارایی، و دفتر کپی...          1.00   \n",
              "6   مطالبات، دیون، داد و ستد تجارتی و معاملات راجع...          1.00   \n",
              "7   کلیه معاملات را لااقل هفته یک مرتبه از دفتر رو...           NaN   \n",
              "8   صورت جامعی از کلیه دارایی منقول و غیر منقول و ...          1.00   \n",
              "9   کلیه مراسلات و مخابرات و صورت‌حساب‌های صادره ب...          1.00   \n",
              "10  دفاتر مذکور در ماده 6 به استثناء دفتر کپیه. (م...          1.00   \n",
              "11  دارای نمره ترتیبی و قیطان کشیده باشد و صفحات آ...          0.80   \n",
              "12  تراشیدن، حک‌کردن، جای سفید گذاشتن بیش از حد مع...          1.00   \n",
              "13     بین تجار در امور تجارتی سندیت دارند. (ماده 14)           NaN   \n",
              "14                تخلف از ماده 6 و ماده 11. (ماده 15)          0.00   \n",
              "15  کلیه اشخاصی که به شغل تجارت اشتغال دارند، اعم ...           NaN   \n",
              "16  مقررات مربوط به دفتر ثبت تجارتی را معین می‌کند...          1.00   \n",
              "17  تصریح نماید که تحت چه نمره‌ای به ثبت رسیده. (م...          0.75   \n",
              "18       مطابق مقررات نظامنامه وزارت عدلیه. (ماده 19)           NaN   \n",
              "19  شرکت سهامی، با مسئولیت محدود، تضامنی، مختلط غی...          1.00   \n",
              "\n",
              "    answer_relevancy  context_recall  context_precision  answer_correctness  \n",
              "0           0.966249        1.000000           1.000000            0.895567  \n",
              "1           0.918036        1.000000           0.333333            0.728639  \n",
              "2           0.892479        1.000000           0.333333            0.857541  \n",
              "3           0.926233        0.000000           0.000000            0.706671  \n",
              "4           0.945362        1.000000           1.000000            0.737230  \n",
              "5           0.748576        0.750000           1.000000            0.732888  \n",
              "6           0.811721        1.000000           1.000000            0.728294  \n",
              "7           0.000000        1.000000           0.000000            0.205245  \n",
              "8           0.950056        0.000000           0.000000            0.213697  \n",
              "9           0.901492        1.000000           1.000000            0.733164  \n",
              "10          0.894511        1.000000           1.000000            0.714213  \n",
              "11          0.858485        0.666667           0.833333            0.601993  \n",
              "12          0.919679        1.000000           0.500000            0.746055  \n",
              "13          0.000000        1.000000           0.000000            0.202668  \n",
              "14          0.905954        0.000000           0.000000            0.594994  \n",
              "15          0.935060        1.000000           1.000000            0.738032  \n",
              "16          0.844178        1.000000           0.583333            0.731553  \n",
              "17          0.790414        0.800000           1.000000            0.211744  \n",
              "18          0.909651        1.000000           0.000000            0.577970  \n",
              "19          0.957067        1.000000           0.333333            0.718499  "
            ],
            "text/html": [
              "\n",
              "  <div id=\"df-2e210f80-3347-4843-832c-f6e6b8160d41\" class=\"colab-df-container\">\n",
              "    <div>\n",
              "<style scoped>\n",
              "    .dataframe tbody tr th:only-of-type {\n",
              "        vertical-align: middle;\n",
              "    }\n",
              "\n",
              "    .dataframe tbody tr th {\n",
              "        vertical-align: top;\n",
              "    }\n",
              "\n",
              "    .dataframe thead th {\n",
              "        text-align: right;\n",
              "    }\n",
              "</style>\n",
              "<table border=\"1\" class=\"dataframe\">\n",
              "  <thead>\n",
              "    <tr style=\"text-align: right;\">\n",
              "      <th></th>\n",
              "      <th>question</th>\n",
              "      <th>answer</th>\n",
              "      <th>contexts</th>\n",
              "      <th>ground_truth</th>\n",
              "      <th>faithfulness</th>\n",
              "      <th>answer_relevancy</th>\n",
              "      <th>context_recall</th>\n",
              "      <th>context_precision</th>\n",
              "      <th>answer_correctness</th>\n",
              "    </tr>\n",
              "  </thead>\n",
              "  <tbody>\n",
              "    <tr>\n",
              "      <th>0</th>\n",
              "      <td>شرایط تاجر بودن چیست؟</td>\n",
              "      <td>شرایط تاجر بودن شامل انجام معاملات تجاری به صو...</td>\n",
              "      <td>[ماده 1 - تاجر كسي است كه شغل معمولي خود را مع...</td>\n",
              "      <td>تاجر کسی است که شغل معمولی خود را معاملات تجار...</td>\n",
              "      <td>0.00</td>\n",
              "      <td>0.966249</td>\n",
              "      <td>1.000000</td>\n",
              "      <td>1.000000</td>\n",
              "      <td>0.895567</td>\n",
              "    </tr>\n",
              "    <tr>\n",
              "      <th>1</th>\n",
              "      <td>خرید یا تحصیل مال منقول برای چه منظوری جزء معا...</td>\n",
              "      <td>خرید یا تحصیل مال منقول برای منظور فروش یا اجا...</td>\n",
              "      <td>[ماده 4 - معاملات غير منقول بهيچوجه تجارتي محس...</td>\n",
              "      <td>برای فروش یا اجاره، چه تصرفاتی در آن شده باشد ...</td>\n",
              "      <td>1.00</td>\n",
              "      <td>0.918036</td>\n",
              "      <td>1.000000</td>\n",
              "      <td>0.333333</td>\n",
              "      <td>0.728639</td>\n",
              "    </tr>\n",
              "    <tr>\n",
              "      <th>2</th>\n",
              "      <td>انواع عملیاتی که جزء معاملات تجارتی محسوب می‌ش...</td>\n",
              "      <td>همه معاملات تجارتی محسوب می‌شوند مگر اینکه ثاب...</td>\n",
              "      <td>[ماده 4 - معاملات غير منقول بهيچوجه تجارتي محس...</td>\n",
              "      <td>عملیات دلالی، حق‌العمل‌کاری، عاملی و تأسیسات م...</td>\n",
              "      <td>0.50</td>\n",
              "      <td>0.892479</td>\n",
              "      <td>1.000000</td>\n",
              "      <td>0.333333</td>\n",
              "      <td>0.857541</td>\n",
              "    </tr>\n",
              "    <tr>\n",
              "      <th>3</th>\n",
              "      <td>تأسیس و به کار انداختن کارخانه تحت چه شرایطی ج...</td>\n",
              "      <td>تأسیس و به کار انداختن کارخانه جزء معاملات تجا...</td>\n",
              "      <td>[ماده 1 - تاجر كسي است كه شغل معمولي خود را مع...</td>\n",
              "      <td>برای رفع حوائج شخصی نباشد. (ماده 2)</td>\n",
              "      <td>0.00</td>\n",
              "      <td>0.926233</td>\n",
              "      <td>0.000000</td>\n",
              "      <td>0.000000</td>\n",
              "      <td>0.706671</td>\n",
              "    </tr>\n",
              "    <tr>\n",
              "      <th>4</th>\n",
              "      <td>چه نوع معاملاتی بین تجار و کسبه تجارتی محسوب م...</td>\n",
              "      <td>کلیه معاملات بین تجار و کسبه تجارتی محسوب می‌شود.</td>\n",
              "      <td>[ماده 3 - معاملات ذيل باعتبار تاجر بودن متعامل...</td>\n",
              "      <td>کلیه معاملات بین تجار و کسبه و صرافان و بانک‌ه...</td>\n",
              "      <td>NaN</td>\n",
              "      <td>0.945362</td>\n",
              "      <td>1.000000</td>\n",
              "      <td>1.000000</td>\n",
              "      <td>0.737230</td>\n",
              "    </tr>\n",
              "    <tr>\n",
              "      <th>5</th>\n",
              "      <td>دفاتری که تاجر باید داشته باشد کدامند؟</td>\n",
              "      <td>1. دفتر روزنامه\\n2. دفتر کپیه</td>\n",
              "      <td>[ماده 438 - انبارها و حجرهها و صندوق و اسناد و...</td>\n",
              "      <td>دفتر روزنامه، دفتر کل، دفتر دارایی، و دفتر کپی...</td>\n",
              "      <td>1.00</td>\n",
              "      <td>0.748576</td>\n",
              "      <td>0.750000</td>\n",
              "      <td>1.000000</td>\n",
              "      <td>0.732888</td>\n",
              "    </tr>\n",
              "    <tr>\n",
              "      <th>6</th>\n",
              "      <td>دفتر روزنامه چه نوع اطلاعاتی را باید ثبت کند؟</td>\n",
              "      <td>دفتر روزنامه باید همه روزه مطالبات و دیون و دا...</td>\n",
              "      <td>[ماده 7 - دفتر روزنامه دفتري است كه تاجر بايد ...</td>\n",
              "      <td>مطالبات، دیون، داد و ستد تجارتی و معاملات راجع...</td>\n",
              "      <td>1.00</td>\n",
              "      <td>0.811721</td>\n",
              "      <td>1.000000</td>\n",
              "      <td>1.000000</td>\n",
              "      <td>0.728294</td>\n",
              "    </tr>\n",
              "    <tr>\n",
              "      <th>7</th>\n",
              "      <td>دفتر کل چگونه باید تنظیم شود؟</td>\n",
              "      <td>باید تنظیم شود.</td>\n",
              "      <td>[]</td>\n",
              "      <td>کلیه معاملات را لااقل هفته یک مرتبه از دفتر رو...</td>\n",
              "      <td>NaN</td>\n",
              "      <td>0.000000</td>\n",
              "      <td>1.000000</td>\n",
              "      <td>0.000000</td>\n",
              "      <td>0.205245</td>\n",
              "    </tr>\n",
              "    <tr>\n",
              "      <th>8</th>\n",
              "      <td>دفتر دارایی چه اطلاعاتی را شامل می‌شود؟</td>\n",
              "      <td>دفتر دارایی شامل اسناد، نوشتجات، اسباب و اثاثی...</td>\n",
              "      <td>[ماده 438 - انبارها و حجرهها و صندوق و اسناد و...</td>\n",
              "      <td>صورت جامعی از کلیه دارایی منقول و غیر منقول و ...</td>\n",
              "      <td>1.00</td>\n",
              "      <td>0.950056</td>\n",
              "      <td>0.000000</td>\n",
              "      <td>0.000000</td>\n",
              "      <td>0.213697</td>\n",
              "    </tr>\n",
              "    <tr>\n",
              "      <th>9</th>\n",
              "      <td>نحوه ثبت مراسلات و مخابرات در دفتر کپیه چگونه ...</td>\n",
              "      <td>مراسلات و مخابرات باید توسط تاجر در دفتر کپیه ...</td>\n",
              "      <td>[ماده 10 - دفتر كپيه دفتري است كه تاجر بايد كل...</td>\n",
              "      <td>کلیه مراسلات و مخابرات و صورت‌حساب‌های صادره ب...</td>\n",
              "      <td>1.00</td>\n",
              "      <td>0.901492</td>\n",
              "      <td>1.000000</td>\n",
              "      <td>1.000000</td>\n",
              "      <td>0.733164</td>\n",
              "    </tr>\n",
              "    <tr>\n",
              "      <th>10</th>\n",
              "      <td>قبل از استفاده، کدام دفاتر باید توسط نماینده ا...</td>\n",
              "      <td>دفاتری که برای امضاء به متصدی امضاء تسلیم می‌ش...</td>\n",
              "      <td>[ماده 438 - انبارها و حجرهها و صندوق و اسناد و...</td>\n",
              "      <td>دفاتر مذکور در ماده 6 به استثناء دفتر کپیه. (م...</td>\n",
              "      <td>1.00</td>\n",
              "      <td>0.894511</td>\n",
              "      <td>1.000000</td>\n",
              "      <td>1.000000</td>\n",
              "      <td>0.714213</td>\n",
              "    </tr>\n",
              "    <tr>\n",
              "      <th>11</th>\n",
              "      <td>چه مواردی در دفتری که برای امضا به متصدی امضا ...</td>\n",
              "      <td>1. دارا بودن نمره ترتیبی و قیطان کشیده\\n2. شمر...</td>\n",
              "      <td>[ماده 12 - دفتري كه براي امضاء بمتصدي امضاء تس...</td>\n",
              "      <td>دارای نمره ترتیبی و قیطان کشیده باشد و صفحات آ...</td>\n",
              "      <td>0.80</td>\n",
              "      <td>0.858485</td>\n",
              "      <td>0.666667</td>\n",
              "      <td>0.833333</td>\n",
              "      <td>0.601993</td>\n",
              "    </tr>\n",
              "    <tr>\n",
              "      <th>12</th>\n",
              "      <td>ممنوعیت‌هایی در نگهداری دفاتر چه هستند؟</td>\n",
              "      <td>تراشیدن، حک کردن، جای سفید گذاشتن بیش از حد مع...</td>\n",
              "      <td>[ماده 438 - انبارها و حجرهها و صندوق و اسناد و...</td>\n",
              "      <td>تراشیدن، حک‌کردن، جای سفید گذاشتن بیش از حد مع...</td>\n",
              "      <td>1.00</td>\n",
              "      <td>0.919679</td>\n",
              "      <td>1.000000</td>\n",
              "      <td>0.500000</td>\n",
              "      <td>0.746055</td>\n",
              "    </tr>\n",
              "    <tr>\n",
              "      <th>13</th>\n",
              "      <td>دفاتر مطابق مقررات چه اعتباری دارند؟</td>\n",
              "      <td>بدون اطلاعات بیشتر، نمی‌توان پاسخ دقیقی ارائه ...</td>\n",
              "      <td>[]</td>\n",
              "      <td>بین تجار در امور تجارتی سندیت دارند. (ماده 14)</td>\n",
              "      <td>NaN</td>\n",
              "      <td>0.000000</td>\n",
              "      <td>1.000000</td>\n",
              "      <td>0.000000</td>\n",
              "      <td>0.202668</td>\n",
              "    </tr>\n",
              "    <tr>\n",
              "      <th>14</th>\n",
              "      <td>تخلف از کدام مواد مستلزم جزای نقدی است؟</td>\n",
              "      <td>تخلف از ماده 548 مستلزم جزای نقدی است.</td>\n",
              "      <td>[ماده 548 - مخارج تعقيبي كه از طرف يكي از طلبك...</td>\n",
              "      <td>تخلف از ماده 6 و ماده 11. (ماده 15)</td>\n",
              "      <td>0.00</td>\n",
              "      <td>0.905954</td>\n",
              "      <td>0.000000</td>\n",
              "      <td>0.000000</td>\n",
              "      <td>0.594994</td>\n",
              "    </tr>\n",
              "    <tr>\n",
              "      <th>15</th>\n",
              "      <td>چه کسانی باید نام خود را در دفتر ثبت تجارتی به...</td>\n",
              "      <td>کلیه اشخاصی که در نقاط بشغل تجارت اشتغال دارند...</td>\n",
              "      <td>[ماده 16 - در نقاطي كه وزارت عدليه مقتضي دانست...</td>\n",
              "      <td>کلیه اشخاصی که به شغل تجارت اشتغال دارند، اعم ...</td>\n",
              "      <td>NaN</td>\n",
              "      <td>0.935060</td>\n",
              "      <td>1.000000</td>\n",
              "      <td>1.000000</td>\n",
              "      <td>0.738032</td>\n",
              "    </tr>\n",
              "    <tr>\n",
              "      <th>16</th>\n",
              "      <td>وظایف وزارت عدلیه در رابطه با دفتر ثبت تجارتی ...</td>\n",
              "      <td>وظایف وزارت عدلیه در رابطه با دفتر ثبت تجارتی ...</td>\n",
              "      <td>[ماده 438 - انبارها و حجرهها و صندوق و اسناد و...</td>\n",
              "      <td>مقررات مربوط به دفتر ثبت تجارتی را معین می‌کند...</td>\n",
              "      <td>1.00</td>\n",
              "      <td>0.844178</td>\n",
              "      <td>1.000000</td>\n",
              "      <td>0.583333</td>\n",
              "      <td>0.731553</td>\n",
              "    </tr>\n",
              "    <tr>\n",
              "      <th>17</th>\n",
              "      <td>تاجر باید چه اطلاعاتی را در اسناد خود ذکر کند؟</td>\n",
              "      <td>تاجر باید کلیه مراسلات، مخابرات، صورتحسابهای ص...</td>\n",
              "      <td>[ماده 10 - دفتر كپيه دفتري است كه تاجر بايد كل...</td>\n",
              "      <td>تصریح نماید که تحت چه نمره‌ای به ثبت رسیده. (م...</td>\n",
              "      <td>0.75</td>\n",
              "      <td>0.790414</td>\n",
              "      <td>0.800000</td>\n",
              "      <td>1.000000</td>\n",
              "      <td>0.211744</td>\n",
              "    </tr>\n",
              "    <tr>\n",
              "      <th>18</th>\n",
              "      <td>شناسایی کسبه جزء در چه صورتی انجام می‌گیرد؟</td>\n",
              "      <td>با استفاده از کدامکدهای موجود در متن، شناسایی ...</td>\n",
              "      <td>[]</td>\n",
              "      <td>مطابق مقررات نظامنامه وزارت عدلیه. (ماده 19)</td>\n",
              "      <td>NaN</td>\n",
              "      <td>0.909651</td>\n",
              "      <td>1.000000</td>\n",
              "      <td>0.000000</td>\n",
              "      <td>0.577970</td>\n",
              "    </tr>\n",
              "    <tr>\n",
              "      <th>19</th>\n",
              "      <td>انواع شرکت‌های تجارتی کدامند؟</td>\n",
              "      <td>انواع شرکت‌های تجارتی شامل شرکت‌هایی هستند که ...</td>\n",
              "      <td>[ماده 583 - كليه شركتهاي تجارتي مذكور در اين ق...</td>\n",
              "      <td>شرکت سهامی، با مسئولیت محدود، تضامنی، مختلط غی...</td>\n",
              "      <td>1.00</td>\n",
              "      <td>0.957067</td>\n",
              "      <td>1.000000</td>\n",
              "      <td>0.333333</td>\n",
              "      <td>0.718499</td>\n",
              "    </tr>\n",
              "  </tbody>\n",
              "</table>\n",
              "</div>\n",
              "    <div class=\"colab-df-buttons\">\n",
              "\n",
              "  <div class=\"colab-df-container\">\n",
              "    <button class=\"colab-df-convert\" onclick=\"convertToInteractive('df-2e210f80-3347-4843-832c-f6e6b8160d41')\"\n",
              "            title=\"Convert this dataframe to an interactive table.\"\n",
              "            style=\"display:none;\">\n",
              "\n",
              "  <svg xmlns=\"http://www.w3.org/2000/svg\" height=\"24px\" viewBox=\"0 -960 960 960\">\n",
              "    <path d=\"M120-120v-720h720v720H120Zm60-500h600v-160H180v160Zm220 220h160v-160H400v160Zm0 220h160v-160H400v160ZM180-400h160v-160H180v160Zm440 0h160v-160H620v160ZM180-180h160v-160H180v160Zm440 0h160v-160H620v160Z\"/>\n",
              "  </svg>\n",
              "    </button>\n",
              "\n",
              "  <style>\n",
              "    .colab-df-container {\n",
              "      display:flex;\n",
              "      gap: 12px;\n",
              "    }\n",
              "\n",
              "    .colab-df-convert {\n",
              "      background-color: #E8F0FE;\n",
              "      border: none;\n",
              "      border-radius: 50%;\n",
              "      cursor: pointer;\n",
              "      display: none;\n",
              "      fill: #1967D2;\n",
              "      height: 32px;\n",
              "      padding: 0 0 0 0;\n",
              "      width: 32px;\n",
              "    }\n",
              "\n",
              "    .colab-df-convert:hover {\n",
              "      background-color: #E2EBFA;\n",
              "      box-shadow: 0px 1px 2px rgba(60, 64, 67, 0.3), 0px 1px 3px 1px rgba(60, 64, 67, 0.15);\n",
              "      fill: #174EA6;\n",
              "    }\n",
              "\n",
              "    .colab-df-buttons div {\n",
              "      margin-bottom: 4px;\n",
              "    }\n",
              "\n",
              "    [theme=dark] .colab-df-convert {\n",
              "      background-color: #3B4455;\n",
              "      fill: #D2E3FC;\n",
              "    }\n",
              "\n",
              "    [theme=dark] .colab-df-convert:hover {\n",
              "      background-color: #434B5C;\n",
              "      box-shadow: 0px 1px 3px 1px rgba(0, 0, 0, 0.15);\n",
              "      filter: drop-shadow(0px 1px 2px rgba(0, 0, 0, 0.3));\n",
              "      fill: #FFFFFF;\n",
              "    }\n",
              "  </style>\n",
              "\n",
              "    <script>\n",
              "      const buttonEl =\n",
              "        document.querySelector('#df-2e210f80-3347-4843-832c-f6e6b8160d41 button.colab-df-convert');\n",
              "      buttonEl.style.display =\n",
              "        google.colab.kernel.accessAllowed ? 'block' : 'none';\n",
              "\n",
              "      async function convertToInteractive(key) {\n",
              "        const element = document.querySelector('#df-2e210f80-3347-4843-832c-f6e6b8160d41');\n",
              "        const dataTable =\n",
              "          await google.colab.kernel.invokeFunction('convertToInteractive',\n",
              "                                                    [key], {});\n",
              "        if (!dataTable) return;\n",
              "\n",
              "        const docLinkHtml = 'Like what you see? Visit the ' +\n",
              "          '<a target=\"_blank\" href=https://colab.research.google.com/notebooks/data_table.ipynb>data table notebook</a>'\n",
              "          + ' to learn more about interactive tables.';\n",
              "        element.innerHTML = '';\n",
              "        dataTable['output_type'] = 'display_data';\n",
              "        await google.colab.output.renderOutput(dataTable, element);\n",
              "        const docLink = document.createElement('div');\n",
              "        docLink.innerHTML = docLinkHtml;\n",
              "        element.appendChild(docLink);\n",
              "      }\n",
              "    </script>\n",
              "  </div>\n",
              "\n",
              "\n",
              "<div id=\"df-c1e2fdc3-304a-4285-9af7-c7a7fc9b6f68\">\n",
              "  <button class=\"colab-df-quickchart\" onclick=\"quickchart('df-c1e2fdc3-304a-4285-9af7-c7a7fc9b6f68')\"\n",
              "            title=\"Suggest charts\"\n",
              "            style=\"display:none;\">\n",
              "\n",
              "<svg xmlns=\"http://www.w3.org/2000/svg\" height=\"24px\"viewBox=\"0 0 24 24\"\n",
              "     width=\"24px\">\n",
              "    <g>\n",
              "        <path d=\"M19 3H5c-1.1 0-2 .9-2 2v14c0 1.1.9 2 2 2h14c1.1 0 2-.9 2-2V5c0-1.1-.9-2-2-2zM9 17H7v-7h2v7zm4 0h-2V7h2v10zm4 0h-2v-4h2v4z\"/>\n",
              "    </g>\n",
              "</svg>\n",
              "  </button>\n",
              "\n",
              "<style>\n",
              "  .colab-df-quickchart {\n",
              "      --bg-color: #E8F0FE;\n",
              "      --fill-color: #1967D2;\n",
              "      --hover-bg-color: #E2EBFA;\n",
              "      --hover-fill-color: #174EA6;\n",
              "      --disabled-fill-color: #AAA;\n",
              "      --disabled-bg-color: #DDD;\n",
              "  }\n",
              "\n",
              "  [theme=dark] .colab-df-quickchart {\n",
              "      --bg-color: #3B4455;\n",
              "      --fill-color: #D2E3FC;\n",
              "      --hover-bg-color: #434B5C;\n",
              "      --hover-fill-color: #FFFFFF;\n",
              "      --disabled-bg-color: #3B4455;\n",
              "      --disabled-fill-color: #666;\n",
              "  }\n",
              "\n",
              "  .colab-df-quickchart {\n",
              "    background-color: var(--bg-color);\n",
              "    border: none;\n",
              "    border-radius: 50%;\n",
              "    cursor: pointer;\n",
              "    display: none;\n",
              "    fill: var(--fill-color);\n",
              "    height: 32px;\n",
              "    padding: 0;\n",
              "    width: 32px;\n",
              "  }\n",
              "\n",
              "  .colab-df-quickchart:hover {\n",
              "    background-color: var(--hover-bg-color);\n",
              "    box-shadow: 0 1px 2px rgba(60, 64, 67, 0.3), 0 1px 3px 1px rgba(60, 64, 67, 0.15);\n",
              "    fill: var(--button-hover-fill-color);\n",
              "  }\n",
              "\n",
              "  .colab-df-quickchart-complete:disabled,\n",
              "  .colab-df-quickchart-complete:disabled:hover {\n",
              "    background-color: var(--disabled-bg-color);\n",
              "    fill: var(--disabled-fill-color);\n",
              "    box-shadow: none;\n",
              "  }\n",
              "\n",
              "  .colab-df-spinner {\n",
              "    border: 2px solid var(--fill-color);\n",
              "    border-color: transparent;\n",
              "    border-bottom-color: var(--fill-color);\n",
              "    animation:\n",
              "      spin 1s steps(1) infinite;\n",
              "  }\n",
              "\n",
              "  @keyframes spin {\n",
              "    0% {\n",
              "      border-color: transparent;\n",
              "      border-bottom-color: var(--fill-color);\n",
              "      border-left-color: var(--fill-color);\n",
              "    }\n",
              "    20% {\n",
              "      border-color: transparent;\n",
              "      border-left-color: var(--fill-color);\n",
              "      border-top-color: var(--fill-color);\n",
              "    }\n",
              "    30% {\n",
              "      border-color: transparent;\n",
              "      border-left-color: var(--fill-color);\n",
              "      border-top-color: var(--fill-color);\n",
              "      border-right-color: var(--fill-color);\n",
              "    }\n",
              "    40% {\n",
              "      border-color: transparent;\n",
              "      border-right-color: var(--fill-color);\n",
              "      border-top-color: var(--fill-color);\n",
              "    }\n",
              "    60% {\n",
              "      border-color: transparent;\n",
              "      border-right-color: var(--fill-color);\n",
              "    }\n",
              "    80% {\n",
              "      border-color: transparent;\n",
              "      border-right-color: var(--fill-color);\n",
              "      border-bottom-color: var(--fill-color);\n",
              "    }\n",
              "    90% {\n",
              "      border-color: transparent;\n",
              "      border-bottom-color: var(--fill-color);\n",
              "    }\n",
              "  }\n",
              "</style>\n",
              "\n",
              "  <script>\n",
              "    async function quickchart(key) {\n",
              "      const quickchartButtonEl =\n",
              "        document.querySelector('#' + key + ' button');\n",
              "      quickchartButtonEl.disabled = true;  // To prevent multiple clicks.\n",
              "      quickchartButtonEl.classList.add('colab-df-spinner');\n",
              "      try {\n",
              "        const charts = await google.colab.kernel.invokeFunction(\n",
              "            'suggestCharts', [key], {});\n",
              "      } catch (error) {\n",
              "        console.error('Error during call to suggestCharts:', error);\n",
              "      }\n",
              "      quickchartButtonEl.classList.remove('colab-df-spinner');\n",
              "      quickchartButtonEl.classList.add('colab-df-quickchart-complete');\n",
              "    }\n",
              "    (() => {\n",
              "      let quickchartButtonEl =\n",
              "        document.querySelector('#df-c1e2fdc3-304a-4285-9af7-c7a7fc9b6f68 button');\n",
              "      quickchartButtonEl.style.display =\n",
              "        google.colab.kernel.accessAllowed ? 'block' : 'none';\n",
              "    })();\n",
              "  </script>\n",
              "</div>\n",
              "    </div>\n",
              "  </div>\n"
            ],
            "application/vnd.google.colaboratory.intrinsic+json": {
              "type": "dataframe",
              "variable_name": "res_pd",
              "summary": "{\n  \"name\": \"res_pd\",\n  \"rows\": 20,\n  \"fields\": [\n    {\n      \"column\": \"question\",\n      \"properties\": {\n        \"dtype\": \"string\",\n        \"num_unique_values\": 20,\n        \"samples\": [\n          \"\\u0634\\u0631\\u0627\\u06cc\\u0637 \\u062a\\u0627\\u062c\\u0631 \\u0628\\u0648\\u062f\\u0646 \\u0686\\u06cc\\u0633\\u062a\\u061f\",\n          \"\\u062a\\u0627\\u062c\\u0631 \\u0628\\u0627\\u06cc\\u062f \\u0686\\u0647 \\u0627\\u0637\\u0644\\u0627\\u0639\\u0627\\u062a\\u06cc \\u0631\\u0627 \\u062f\\u0631 \\u0627\\u0633\\u0646\\u0627\\u062f \\u062e\\u0648\\u062f \\u0630\\u06a9\\u0631 \\u06a9\\u0646\\u062f\\u061f\",\n          \"\\u0686\\u0647 \\u06a9\\u0633\\u0627\\u0646\\u06cc \\u0628\\u0627\\u06cc\\u062f \\u0646\\u0627\\u0645 \\u062e\\u0648\\u062f \\u0631\\u0627 \\u062f\\u0631 \\u062f\\u0641\\u062a\\u0631 \\u062b\\u0628\\u062a \\u062a\\u062c\\u0627\\u0631\\u062a\\u06cc \\u0628\\u0647 \\u062b\\u0628\\u062a \\u0628\\u0631\\u0633\\u0627\\u0646\\u0646\\u062f\\u061f\"\n        ],\n        \"semantic_type\": \"\",\n        \"description\": \"\"\n      }\n    },\n    {\n      \"column\": \"answer\",\n      \"properties\": {\n        \"dtype\": \"string\",\n        \"num_unique_values\": 20,\n        \"samples\": [\n          \"\\u0634\\u0631\\u0627\\u06cc\\u0637 \\u062a\\u0627\\u062c\\u0631 \\u0628\\u0648\\u062f\\u0646 \\u0634\\u0627\\u0645\\u0644 \\u0627\\u0646\\u062c\\u0627\\u0645 \\u0645\\u0639\\u0627\\u0645\\u0644\\u0627\\u062a \\u062a\\u062c\\u0627\\u0631\\u06cc \\u0628\\u0647 \\u0635\\u0648\\u0631\\u062a \\u0634\\u063a\\u0644 \\u0645\\u0639\\u0645\\u0648\\u0644\\u06cc\\u060c \\u0627\\u0646\\u062c\\u0627\\u0645 \\u0645\\u0639\\u0627\\u0645\\u0644\\u0627\\u062a \\u0628\\u0627 \\u062a\\u062c\\u0627\\u0631\\u060c \\u06a9\\u0633\\u0628\\u0647\\u060c \\u0635\\u0631\\u0627\\u0641\\u0627\\u0646\\u060c \\u0628\\u0627\\u0646\\u06a9\\u200c\\u0647\\u0627\\u060c \\u0627\\u0646\\u062c\\u0627\\u0645 \\u0645\\u0639\\u0627\\u0645\\u0644\\u0627\\u062a \\u0628\\u0631\\u0627\\u06cc \\u062d\\u0648\\u0627\\u0626\\u062c \\u062a\\u062c\\u0627\\u0631\\u062a\\u06cc \\u062e\\u0648\\u062f \\u06cc\\u0627 \\u0627\\u0645\\u0648\\u0631 \\u062a\\u062c\\u0627\\u0631\\u062a\\u06cc \\u0627\\u0631\\u0628\\u0627\\u0628 \\u062e\\u0648\\u062f\\u060c \\u0648 \\u0634\\u0631\\u06a9\\u062a \\u062f\\u0631 \\u0645\\u0639\\u0627\\u0645\\u0644\\u0627\\u062a \\u0634\\u0631\\u06a9\\u062a\\u200c\\u0647\\u0627\\u06cc \\u062a\\u062c\\u0627\\u0631\\u062a\\u06cc \\u0645\\u06cc\\u200c\\u0628\\u0627\\u0634\\u062f.\",\n          \"\\u062a\\u0627\\u062c\\u0631 \\u0628\\u0627\\u06cc\\u062f \\u06a9\\u0644\\u06cc\\u0647 \\u0645\\u0631\\u0627\\u0633\\u0644\\u0627\\u062a\\u060c \\u0645\\u062e\\u0627\\u0628\\u0631\\u0627\\u062a\\u060c \\u0635\\u0648\\u0631\\u062a\\u062d\\u0633\\u0627\\u0628\\u0647\\u0627\\u06cc \\u0635\\u0627\\u062f\\u0631\\u0647 \\u0648 \\u0648\\u0627\\u0631\\u062f\\u0647\\u060c \\u0645\\u0637\\u0627\\u0644\\u0628\\u0627\\u062a\\u060c \\u062f\\u06cc\\u0648\\u0646\\u060c \\u062f\\u0627\\u062f \\u0648 \\u0633\\u062a\\u062f \\u062a\\u062c\\u0627\\u0631\\u062a\\u06cc\\u060c \\u0645\\u0639\\u0627\\u0645\\u0644\\u0627\\u062a \\u0631\\u0627\\u062c\\u0639 \\u0628\\u0647 \\u0627\\u0648\\u0631\\u0627\\u0642 \\u062a\\u062c\\u0627\\u0631\\u062a\\u06cc\\u060c \\u0648 \\u062c\\u0645\\u06cc\\u0639 \\u0648\\u0627\\u0631\\u062f\\u0627\\u062a \\u0648 \\u0635\\u0627\\u062f\\u0631\\u0627\\u062a \\u062a\\u062c\\u0627\\u0631\\u062a\\u06cc \\u062e\\u0648\\u062f \\u0631\\u0627 \\u062f\\u0631 \\u0627\\u0633\\u0646\\u0627\\u062f \\u062e\\u0648\\u062f \\u062b\\u0628\\u062a \\u06a9\\u0646\\u062f.\",\n          \"\\u06a9\\u0644\\u06cc\\u0647 \\u0627\\u0634\\u062e\\u0627\\u0635\\u06cc \\u06a9\\u0647 \\u062f\\u0631 \\u0646\\u0642\\u0627\\u0637 \\u0628\\u0634\\u063a\\u0644 \\u062a\\u062c\\u0627\\u0631\\u062a \\u0627\\u0634\\u062a\\u063a\\u0627\\u0644 \\u062f\\u0627\\u0631\\u0646\\u062f \\u0627\\u0639\\u0645\\u0627\\u0632 \\u0627\\u06cc\\u0631\\u0627\\u0646\\u06cc \\u0648 \\u062e\\u0627\\u0631\\u062c\\u06cc \\u0628\\u0627 \\u0627\\u0633\\u062a\\u062b\\u0646\\u0627\\u06cc \\u06a9\\u0633\\u0628\\u0647 \\u062c\\u0632\\u0621 \\u0628\\u0627\\u06cc\\u062f \\u0646\\u0627\\u0645 \\u062e\\u0648\\u062f \\u0631\\u0627 \\u062f\\u0631 \\u062f\\u0641\\u062a\\u0631 \\u062b\\u0628\\u062a \\u062a\\u062c\\u0627\\u0631\\u062a\\u06cc \\u0628\\u0647 \\u062b\\u0628\\u062a \\u0628\\u0631\\u0633\\u0627\\u0646\\u0646\\u062f.\"\n        ],\n        \"semantic_type\": \"\",\n        \"description\": \"\"\n      }\n    },\n    {\n      \"column\": \"contexts\",\n      \"properties\": {\n        \"dtype\": \"object\",\n        \"semantic_type\": \"\",\n        \"description\": \"\"\n      }\n    },\n    {\n      \"column\": \"ground_truth\",\n      \"properties\": {\n        \"dtype\": \"string\",\n        \"num_unique_values\": 20,\n        \"samples\": [\n          \"\\u062a\\u0627\\u062c\\u0631 \\u06a9\\u0633\\u06cc \\u0627\\u0633\\u062a \\u06a9\\u0647 \\u0634\\u063a\\u0644 \\u0645\\u0639\\u0645\\u0648\\u0644\\u06cc \\u062e\\u0648\\u062f \\u0631\\u0627 \\u0645\\u0639\\u0627\\u0645\\u0644\\u0627\\u062a \\u062a\\u062c\\u0627\\u0631\\u062a\\u06cc \\u0642\\u0631\\u0627\\u0631 \\u062f\\u0647\\u062f. (\\u0645\\u0627\\u062f\\u0647 1)\",\n          \"\\u062a\\u0635\\u0631\\u06cc\\u062d \\u0646\\u0645\\u0627\\u06cc\\u062f \\u06a9\\u0647 \\u062a\\u062d\\u062a \\u0686\\u0647 \\u0646\\u0645\\u0631\\u0647\\u200c\\u0627\\u06cc \\u0628\\u0647 \\u062b\\u0628\\u062a \\u0631\\u0633\\u06cc\\u062f\\u0647. (\\u0645\\u0627\\u062f\\u0647 18)\",\n          \"\\u06a9\\u0644\\u06cc\\u0647 \\u0627\\u0634\\u062e\\u0627\\u0635\\u06cc \\u06a9\\u0647 \\u0628\\u0647 \\u0634\\u063a\\u0644 \\u062a\\u062c\\u0627\\u0631\\u062a \\u0627\\u0634\\u062a\\u063a\\u0627\\u0644 \\u062f\\u0627\\u0631\\u0646\\u062f\\u060c \\u0627\\u0639\\u0645 \\u0627\\u0632 \\u0627\\u06cc\\u0631\\u0627\\u0646\\u06cc \\u0648 \\u062e\\u0627\\u0631\\u062c\\u06cc \\u0628\\u0627 \\u0627\\u0633\\u062a\\u062b\\u0646\\u0627\\u06cc \\u06a9\\u0633\\u0628\\u0647 \\u062c\\u0632\\u0621. (\\u0645\\u0627\\u062f\\u0647 16)\"\n        ],\n        \"semantic_type\": \"\",\n        \"description\": \"\"\n      }\n    },\n    {\n      \"column\": \"faithfulness\",\n      \"properties\": {\n        \"dtype\": \"number\",\n        \"std\": 0.4064070209367287,\n        \"min\": 0.0,\n        \"max\": 1.0,\n        \"num_unique_values\": 5,\n        \"samples\": [\n          1.0,\n          0.75,\n          0.5\n        ],\n        \"semantic_type\": \"\",\n        \"description\": \"\"\n      }\n    },\n    {\n      \"column\": \"answer_relevancy\",\n      \"properties\": {\n        \"dtype\": \"number\",\n        \"std\": 0.28073075782664325,\n        \"min\": 0.0,\n        \"max\": 0.9662487551828528,\n        \"num_unique_values\": 19,\n        \"samples\": [\n          0.9662487551828528,\n          0.7485759065142714,\n          0.8584852704944277\n        ],\n        \"semantic_type\": \"\",\n        \"description\": \"\"\n      }\n    },\n    {\n      \"column\": \"context_recall\",\n      \"properties\": {\n        \"dtype\": \"number\",\n        \"std\": 0.36258796069335525,\n        \"min\": 0.0,\n        \"max\": 1.0,\n        \"num_unique_values\": 5,\n        \"samples\": [\n          0.0,\n          0.8,\n          0.75\n        ],\n        \"semantic_type\": \"\",\n        \"description\": \"\"\n      }\n    },\n    {\n      \"column\": \"context_precision\",\n      \"properties\": {\n        \"dtype\": \"number\",\n        \"std\": 0.43886066602935014,\n        \"min\": 0.0,\n        \"max\": 0.9999999999666667,\n        \"num_unique_values\": 8,\n        \"samples\": [\n          0.3333333333,\n          0.8333333332916666,\n          0.99999999995\n        ],\n        \"semantic_type\": \"\",\n        \"description\": \"\"\n      }\n    },\n    {\n      \"column\": \"answer_correctness\",\n      \"properties\": {\n        \"dtype\": \"number\",\n        \"std\": 0.22291996658391347,\n        \"min\": 0.2026679401801625,\n        \"max\": 0.8955666603237435,\n        \"num_unique_values\": 20,\n        \"samples\": [\n          0.8955666603237435,\n          0.21174374051518427,\n          0.7380315127412701\n        ],\n        \"semantic_type\": \"\",\n        \"description\": \"\"\n      }\n    }\n  ]\n}"
            }
          },
          "metadata": {},
          "execution_count": 132
        }
      ],
      "source": [
        "res_pd = results.to_pandas()\n",
        "res_pd"
      ]
    },
    {
      "cell_type": "code",
      "source": [
        "res_pd.to_csv('results_article_based.csv', index=True)"
      ],
      "metadata": {
        "id": "a8GGibnQRzjb"
      },
      "execution_count": 133,
      "outputs": []
    },
    {
      "cell_type": "code",
      "source": [],
      "metadata": {
        "id": "hToYL53ASU_P"
      },
      "execution_count": null,
      "outputs": []
    }
  ],
  "metadata": {
    "accelerator": "GPU",
    "colab": {
      "gpuType": "T4",
      "provenance": []
    },
    "kernelspec": {
      "display_name": "Python 3",
      "name": "python3"
    },
    "language_info": {
      "name": "python"
    },
    "widgets": {
      "application/vnd.jupyter.widget-state+json": {
        "b1ab5c8617044a6a9554f03dc9f376cd": {
          "model_module": "@jupyter-widgets/controls",
          "model_name": "HBoxModel",
          "model_module_version": "1.5.0",
          "state": {
            "_dom_classes": [],
            "_model_module": "@jupyter-widgets/controls",
            "_model_module_version": "1.5.0",
            "_model_name": "HBoxModel",
            "_view_count": null,
            "_view_module": "@jupyter-widgets/controls",
            "_view_module_version": "1.5.0",
            "_view_name": "HBoxView",
            "box_style": "",
            "children": [
              "IPY_MODEL_4a8f5f91beb04154ad62a4114b0f81f0",
              "IPY_MODEL_f88c6dcccff240a08e22d3dd0e886add",
              "IPY_MODEL_ad88d917bb874d3c9b9b8b63d658e91d"
            ],
            "layout": "IPY_MODEL_84dce665a3464a7a972701e8901ca21a"
          }
        },
        "4a8f5f91beb04154ad62a4114b0f81f0": {
          "model_module": "@jupyter-widgets/controls",
          "model_name": "HTMLModel",
          "model_module_version": "1.5.0",
          "state": {
            "_dom_classes": [],
            "_model_module": "@jupyter-widgets/controls",
            "_model_module_version": "1.5.0",
            "_model_name": "HTMLModel",
            "_view_count": null,
            "_view_module": "@jupyter-widgets/controls",
            "_view_module_version": "1.5.0",
            "_view_name": "HTMLView",
            "description": "",
            "description_tooltip": null,
            "layout": "IPY_MODEL_773fc7a8f8d640b5b72264ab28b6c1c5",
            "placeholder": "​",
            "style": "IPY_MODEL_841f69f2bfd04f8fbac096be8e2cc875",
            "value": "Evaluating: 100%"
          }
        },
        "f88c6dcccff240a08e22d3dd0e886add": {
          "model_module": "@jupyter-widgets/controls",
          "model_name": "FloatProgressModel",
          "model_module_version": "1.5.0",
          "state": {
            "_dom_classes": [],
            "_model_module": "@jupyter-widgets/controls",
            "_model_module_version": "1.5.0",
            "_model_name": "FloatProgressModel",
            "_view_count": null,
            "_view_module": "@jupyter-widgets/controls",
            "_view_module_version": "1.5.0",
            "_view_name": "ProgressView",
            "bar_style": "success",
            "description": "",
            "description_tooltip": null,
            "layout": "IPY_MODEL_903fcc815daf41f2a9a98d39cb5cc9ca",
            "max": 100,
            "min": 0,
            "orientation": "horizontal",
            "style": "IPY_MODEL_10ddb3475c784d179cb6b353faca9c7d",
            "value": 100
          }
        },
        "ad88d917bb874d3c9b9b8b63d658e91d": {
          "model_module": "@jupyter-widgets/controls",
          "model_name": "HTMLModel",
          "model_module_version": "1.5.0",
          "state": {
            "_dom_classes": [],
            "_model_module": "@jupyter-widgets/controls",
            "_model_module_version": "1.5.0",
            "_model_name": "HTMLModel",
            "_view_count": null,
            "_view_module": "@jupyter-widgets/controls",
            "_view_module_version": "1.5.0",
            "_view_name": "HTMLView",
            "description": "",
            "description_tooltip": null,
            "layout": "IPY_MODEL_12c4a39ba20a41b28b68a00d2e97847f",
            "placeholder": "​",
            "style": "IPY_MODEL_e434c522e0734c14ab84d81ebdedc80e",
            "value": " 100/100 [01:28&lt;00:00,  1.13s/it]"
          }
        },
        "84dce665a3464a7a972701e8901ca21a": {
          "model_module": "@jupyter-widgets/base",
          "model_name": "LayoutModel",
          "model_module_version": "1.2.0",
          "state": {
            "_model_module": "@jupyter-widgets/base",
            "_model_module_version": "1.2.0",
            "_model_name": "LayoutModel",
            "_view_count": null,
            "_view_module": "@jupyter-widgets/base",
            "_view_module_version": "1.2.0",
            "_view_name": "LayoutView",
            "align_content": null,
            "align_items": null,
            "align_self": null,
            "border": null,
            "bottom": null,
            "display": null,
            "flex": null,
            "flex_flow": null,
            "grid_area": null,
            "grid_auto_columns": null,
            "grid_auto_flow": null,
            "grid_auto_rows": null,
            "grid_column": null,
            "grid_gap": null,
            "grid_row": null,
            "grid_template_areas": null,
            "grid_template_columns": null,
            "grid_template_rows": null,
            "height": null,
            "justify_content": null,
            "justify_items": null,
            "left": null,
            "margin": null,
            "max_height": null,
            "max_width": null,
            "min_height": null,
            "min_width": null,
            "object_fit": null,
            "object_position": null,
            "order": null,
            "overflow": null,
            "overflow_x": null,
            "overflow_y": null,
            "padding": null,
            "right": null,
            "top": null,
            "visibility": null,
            "width": null
          }
        },
        "773fc7a8f8d640b5b72264ab28b6c1c5": {
          "model_module": "@jupyter-widgets/base",
          "model_name": "LayoutModel",
          "model_module_version": "1.2.0",
          "state": {
            "_model_module": "@jupyter-widgets/base",
            "_model_module_version": "1.2.0",
            "_model_name": "LayoutModel",
            "_view_count": null,
            "_view_module": "@jupyter-widgets/base",
            "_view_module_version": "1.2.0",
            "_view_name": "LayoutView",
            "align_content": null,
            "align_items": null,
            "align_self": null,
            "border": null,
            "bottom": null,
            "display": null,
            "flex": null,
            "flex_flow": null,
            "grid_area": null,
            "grid_auto_columns": null,
            "grid_auto_flow": null,
            "grid_auto_rows": null,
            "grid_column": null,
            "grid_gap": null,
            "grid_row": null,
            "grid_template_areas": null,
            "grid_template_columns": null,
            "grid_template_rows": null,
            "height": null,
            "justify_content": null,
            "justify_items": null,
            "left": null,
            "margin": null,
            "max_height": null,
            "max_width": null,
            "min_height": null,
            "min_width": null,
            "object_fit": null,
            "object_position": null,
            "order": null,
            "overflow": null,
            "overflow_x": null,
            "overflow_y": null,
            "padding": null,
            "right": null,
            "top": null,
            "visibility": null,
            "width": null
          }
        },
        "841f69f2bfd04f8fbac096be8e2cc875": {
          "model_module": "@jupyter-widgets/controls",
          "model_name": "DescriptionStyleModel",
          "model_module_version": "1.5.0",
          "state": {
            "_model_module": "@jupyter-widgets/controls",
            "_model_module_version": "1.5.0",
            "_model_name": "DescriptionStyleModel",
            "_view_count": null,
            "_view_module": "@jupyter-widgets/base",
            "_view_module_version": "1.2.0",
            "_view_name": "StyleView",
            "description_width": ""
          }
        },
        "903fcc815daf41f2a9a98d39cb5cc9ca": {
          "model_module": "@jupyter-widgets/base",
          "model_name": "LayoutModel",
          "model_module_version": "1.2.0",
          "state": {
            "_model_module": "@jupyter-widgets/base",
            "_model_module_version": "1.2.0",
            "_model_name": "LayoutModel",
            "_view_count": null,
            "_view_module": "@jupyter-widgets/base",
            "_view_module_version": "1.2.0",
            "_view_name": "LayoutView",
            "align_content": null,
            "align_items": null,
            "align_self": null,
            "border": null,
            "bottom": null,
            "display": null,
            "flex": null,
            "flex_flow": null,
            "grid_area": null,
            "grid_auto_columns": null,
            "grid_auto_flow": null,
            "grid_auto_rows": null,
            "grid_column": null,
            "grid_gap": null,
            "grid_row": null,
            "grid_template_areas": null,
            "grid_template_columns": null,
            "grid_template_rows": null,
            "height": null,
            "justify_content": null,
            "justify_items": null,
            "left": null,
            "margin": null,
            "max_height": null,
            "max_width": null,
            "min_height": null,
            "min_width": null,
            "object_fit": null,
            "object_position": null,
            "order": null,
            "overflow": null,
            "overflow_x": null,
            "overflow_y": null,
            "padding": null,
            "right": null,
            "top": null,
            "visibility": null,
            "width": null
          }
        },
        "10ddb3475c784d179cb6b353faca9c7d": {
          "model_module": "@jupyter-widgets/controls",
          "model_name": "ProgressStyleModel",
          "model_module_version": "1.5.0",
          "state": {
            "_model_module": "@jupyter-widgets/controls",
            "_model_module_version": "1.5.0",
            "_model_name": "ProgressStyleModel",
            "_view_count": null,
            "_view_module": "@jupyter-widgets/base",
            "_view_module_version": "1.2.0",
            "_view_name": "StyleView",
            "bar_color": null,
            "description_width": ""
          }
        },
        "12c4a39ba20a41b28b68a00d2e97847f": {
          "model_module": "@jupyter-widgets/base",
          "model_name": "LayoutModel",
          "model_module_version": "1.2.0",
          "state": {
            "_model_module": "@jupyter-widgets/base",
            "_model_module_version": "1.2.0",
            "_model_name": "LayoutModel",
            "_view_count": null,
            "_view_module": "@jupyter-widgets/base",
            "_view_module_version": "1.2.0",
            "_view_name": "LayoutView",
            "align_content": null,
            "align_items": null,
            "align_self": null,
            "border": null,
            "bottom": null,
            "display": null,
            "flex": null,
            "flex_flow": null,
            "grid_area": null,
            "grid_auto_columns": null,
            "grid_auto_flow": null,
            "grid_auto_rows": null,
            "grid_column": null,
            "grid_gap": null,
            "grid_row": null,
            "grid_template_areas": null,
            "grid_template_columns": null,
            "grid_template_rows": null,
            "height": null,
            "justify_content": null,
            "justify_items": null,
            "left": null,
            "margin": null,
            "max_height": null,
            "max_width": null,
            "min_height": null,
            "min_width": null,
            "object_fit": null,
            "object_position": null,
            "order": null,
            "overflow": null,
            "overflow_x": null,
            "overflow_y": null,
            "padding": null,
            "right": null,
            "top": null,
            "visibility": null,
            "width": null
          }
        },
        "e434c522e0734c14ab84d81ebdedc80e": {
          "model_module": "@jupyter-widgets/controls",
          "model_name": "DescriptionStyleModel",
          "model_module_version": "1.5.0",
          "state": {
            "_model_module": "@jupyter-widgets/controls",
            "_model_module_version": "1.5.0",
            "_model_name": "DescriptionStyleModel",
            "_view_count": null,
            "_view_module": "@jupyter-widgets/base",
            "_view_module_version": "1.2.0",
            "_view_name": "StyleView",
            "description_width": ""
          }
        }
      }
    }
  },
  "nbformat": 4,
  "nbformat_minor": 0
}