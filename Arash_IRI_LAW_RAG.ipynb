{
  "cells": [
    {
      "cell_type": "code",
      "execution_count": 1,
      "metadata": {
        "colab": {
          "base_uri": "https://localhost:8080/"
        },
        "id": "vpOKw25Ew0VK",
        "outputId": "fcec385b-2f5e-4431-c838-d34ce0bd5e59"
      },
      "outputs": [
        {
          "output_type": "stream",
          "name": "stdout",
          "text": [
            "Drive already mounted at /content/drive; to attempt to forcibly remount, call drive.mount(\"/content/drive\", force_remount=True).\n"
          ]
        }
      ],
      "source": [
        "from google.colab import drive\n",
        "drive.mount('/content/drive')"
      ]
    },
    {
      "cell_type": "code",
      "source": [
        "chroma_rar_path = '/content/drive/MyDrive/chroma.rar'\n",
        "datasets_rar_path = '/content/drive/MyDrive/datasets.rar'\n",
        "!unrar x {chroma_rar_path} /content/\n",
        "!unrar x {datasets_rar_path} /content/\n"
      ],
      "metadata": {
        "colab": {
          "base_uri": "https://localhost:8080/"
        },
        "id": "riFd9LDAxYIs",
        "outputId": "9db79ccc-507a-479e-f7fd-909b354abc4a"
      },
      "execution_count": 2,
      "outputs": [
        {
          "output_type": "stream",
          "name": "stdout",
          "text": [
            "\n",
            "UNRAR 6.11 beta 1 freeware      Copyright (c) 1993-2022 Alexander Roshal\n",
            "\n",
            "\n",
            "Extracting from /content/drive/MyDrive/chroma.rar\n",
            "\n",
            "\n",
            "Would you like to replace the existing file /content/chroma/chroma.sqlite3\n",
            "8749056 bytes, modified on 2024-02-29 15:18\n",
            "with a new one\n",
            "8749056 bytes, modified on 2024-02-29 15:18\n",
            "\n",
            "[Y]es, [N]o, [A]ll, n[E]ver, [R]ename, [Q]uit \n",
            "User break\n",
            "Q\n",
            "\n",
            "Program aborted\n",
            "\n",
            "UNRAR 6.11 beta 1 freeware      Copyright (c) 1993-2022 Alexander Roshal\n",
            "\n",
            "\n",
            "Extracting from /content/drive/MyDrive/datasets.rar\n",
            "\n",
            "\n",
            "Would you like to replace the existing file /content/datasets/business_law.txt\n",
            "413749 bytes, modified on 2024-02-29 15:18\n",
            "with a new one\n",
            "413749 bytes, modified on 2024-02-29 15:18\n",
            "\n",
            "[Y]es, [N]o, [A]ll, n[E]ver, [R]ename, [Q]uit Q\n",
            "\n",
            "Program aborted\n"
          ]
        }
      ]
    },
    {
      "cell_type": "code",
      "execution_count": 3,
      "metadata": {
        "id": "WJj9uKDDw0VM"
      },
      "outputs": [],
      "source": [
        "!pip install -q accelerate langchain langchain_community unstructured sentence-transformers chromadb gradio openai langchain-openai tqdm ragas fasttext"
      ]
    },
    {
      "cell_type": "code",
      "execution_count": 1,
      "metadata": {
        "id": "mcGYEzVmw0VN"
      },
      "outputs": [],
      "source": [
        "from langchain.document_loaders import DirectoryLoader\n",
        "from langchain.text_splitter import RecursiveCharacterTextSplitter\n",
        "from langchain.schema import Document\n",
        "from langchain_community.embeddings import HuggingFaceEmbeddings\n",
        "from langchain.vectorstores.chroma import Chroma\n",
        "import os\n",
        "import shutil\n",
        "import torch\n",
        "import openai\n",
        "from getpass import getpass\n",
        "import re"
      ]
    },
    {
      "cell_type": "code",
      "execution_count": null,
      "metadata": {
        "id": "GH66yEb4w0VN",
        "outputId": "e092ea9d-82e1-44b6-dddd-b8295682e0ff"
      },
      "outputs": [
        {
          "name": "stdout",
          "output_type": "stream",
          "text": [
            "Please provide your OpenAI Key: ··········\n"
          ]
        }
      ],
      "source": [
        "openai.api_key = getpass(\"Please provide your OpenAI Key: \")\n",
        "os.environ[\"OPENAI_API_KEY\"] = openai.api_key"
      ]
    },
    {
      "cell_type": "code",
      "execution_count": 2,
      "metadata": {
        "id": "7xGuBsmXw0VN"
      },
      "outputs": [],
      "source": [
        "device = torch.device('cuda' if torch.cuda.is_available() else 'cpu')"
      ]
    },
    {
      "cell_type": "markdown",
      "metadata": {
        "id": "aB_jRSVLw0VO"
      },
      "source": [
        "# Build the Vector DB"
      ]
    },
    {
      "cell_type": "code",
      "execution_count": 8,
      "metadata": {
        "colab": {
          "base_uri": "https://localhost:8080/",
          "height": 688
        },
        "id": "8Ko40Y06w0VX",
        "outputId": "6218ce1b-6cbe-4e7b-c00a-f128c79a2104"
      },
      "outputs": [
        {
          "output_type": "stream",
          "name": "stderr",
          "text": [
            "WARNING:sentence_transformers.SentenceTransformer:No sentence-transformers model found with name osanseviero/fasttext_embedding. Creating a new one with MEAN pooling.\n"
          ]
        },
        {
          "output_type": "error",
          "ename": "OSError",
          "evalue": "osanseviero/fasttext_embedding does not appear to have a file named config.json. Checkout 'https://huggingface.co/osanseviero/fasttext_embedding/main' for available files.",
          "traceback": [
            "\u001b[0;31m---------------------------------------------------------------------------\u001b[0m",
            "\u001b[0;31mHTTPError\u001b[0m                                 Traceback (most recent call last)",
            "\u001b[0;32m/usr/local/lib/python3.10/dist-packages/huggingface_hub/utils/_errors.py\u001b[0m in \u001b[0;36mhf_raise_for_status\u001b[0;34m(response, endpoint_name)\u001b[0m\n\u001b[1;32m    285\u001b[0m     \u001b[0;32mtry\u001b[0m\u001b[0;34m:\u001b[0m\u001b[0;34m\u001b[0m\u001b[0;34m\u001b[0m\u001b[0m\n\u001b[0;32m--> 286\u001b[0;31m         \u001b[0mresponse\u001b[0m\u001b[0;34m.\u001b[0m\u001b[0mraise_for_status\u001b[0m\u001b[0;34m(\u001b[0m\u001b[0;34m)\u001b[0m\u001b[0;34m\u001b[0m\u001b[0;34m\u001b[0m\u001b[0m\n\u001b[0m\u001b[1;32m    287\u001b[0m     \u001b[0;32mexcept\u001b[0m \u001b[0mHTTPError\u001b[0m \u001b[0;32mas\u001b[0m \u001b[0me\u001b[0m\u001b[0;34m:\u001b[0m\u001b[0;34m\u001b[0m\u001b[0;34m\u001b[0m\u001b[0m\n",
            "\u001b[0;32m/usr/local/lib/python3.10/dist-packages/requests/models.py\u001b[0m in \u001b[0;36mraise_for_status\u001b[0;34m(self)\u001b[0m\n\u001b[1;32m   1020\u001b[0m         \u001b[0;32mif\u001b[0m \u001b[0mhttp_error_msg\u001b[0m\u001b[0;34m:\u001b[0m\u001b[0;34m\u001b[0m\u001b[0;34m\u001b[0m\u001b[0m\n\u001b[0;32m-> 1021\u001b[0;31m             \u001b[0;32mraise\u001b[0m \u001b[0mHTTPError\u001b[0m\u001b[0;34m(\u001b[0m\u001b[0mhttp_error_msg\u001b[0m\u001b[0;34m,\u001b[0m \u001b[0mresponse\u001b[0m\u001b[0;34m=\u001b[0m\u001b[0mself\u001b[0m\u001b[0;34m)\u001b[0m\u001b[0;34m\u001b[0m\u001b[0;34m\u001b[0m\u001b[0m\n\u001b[0m\u001b[1;32m   1022\u001b[0m \u001b[0;34m\u001b[0m\u001b[0m\n",
            "\u001b[0;31mHTTPError\u001b[0m: 404 Client Error: Not Found for url: https://huggingface.co/osanseviero/fasttext_embedding/resolve/main/config.json",
            "\nThe above exception was the direct cause of the following exception:\n",
            "\u001b[0;31mEntryNotFoundError\u001b[0m                        Traceback (most recent call last)",
            "\u001b[0;32m/usr/local/lib/python3.10/dist-packages/transformers/utils/hub.py\u001b[0m in \u001b[0;36mcached_file\u001b[0;34m(path_or_repo_id, filename, cache_dir, force_download, resume_download, proxies, token, revision, local_files_only, subfolder, repo_type, user_agent, _raise_exceptions_for_missing_entries, _raise_exceptions_for_connection_errors, _commit_hash, **deprecated_kwargs)\u001b[0m\n\u001b[1;32m    384\u001b[0m         \u001b[0;31m# Load from URL or cache if already cached\u001b[0m\u001b[0;34m\u001b[0m\u001b[0;34m\u001b[0m\u001b[0m\n\u001b[0;32m--> 385\u001b[0;31m         resolved_file = hf_hub_download(\n\u001b[0m\u001b[1;32m    386\u001b[0m             \u001b[0mpath_or_repo_id\u001b[0m\u001b[0;34m,\u001b[0m\u001b[0;34m\u001b[0m\u001b[0;34m\u001b[0m\u001b[0m\n",
            "\u001b[0;32m/usr/local/lib/python3.10/dist-packages/huggingface_hub/utils/_validators.py\u001b[0m in \u001b[0;36m_inner_fn\u001b[0;34m(*args, **kwargs)\u001b[0m\n\u001b[1;32m    117\u001b[0m \u001b[0;34m\u001b[0m\u001b[0m\n\u001b[0;32m--> 118\u001b[0;31m         \u001b[0;32mreturn\u001b[0m \u001b[0mfn\u001b[0m\u001b[0;34m(\u001b[0m\u001b[0;34m*\u001b[0m\u001b[0margs\u001b[0m\u001b[0;34m,\u001b[0m \u001b[0;34m**\u001b[0m\u001b[0mkwargs\u001b[0m\u001b[0;34m)\u001b[0m\u001b[0;34m\u001b[0m\u001b[0;34m\u001b[0m\u001b[0m\n\u001b[0m\u001b[1;32m    119\u001b[0m \u001b[0;34m\u001b[0m\u001b[0m\n",
            "\u001b[0;32m/usr/local/lib/python3.10/dist-packages/huggingface_hub/file_download.py\u001b[0m in \u001b[0;36mhf_hub_download\u001b[0;34m(repo_id, filename, subfolder, repo_type, revision, library_name, library_version, cache_dir, local_dir, local_dir_use_symlinks, user_agent, force_download, force_filename, proxies, etag_timeout, resume_download, token, local_files_only, legacy_cache_layout, endpoint)\u001b[0m\n\u001b[1;32m   1237\u001b[0m             \u001b[0;32mtry\u001b[0m\u001b[0;34m:\u001b[0m\u001b[0;34m\u001b[0m\u001b[0;34m\u001b[0m\u001b[0m\n\u001b[0;32m-> 1238\u001b[0;31m                 metadata = get_hf_file_metadata(\n\u001b[0m\u001b[1;32m   1239\u001b[0m                     \u001b[0murl\u001b[0m\u001b[0;34m=\u001b[0m\u001b[0murl\u001b[0m\u001b[0;34m,\u001b[0m\u001b[0;34m\u001b[0m\u001b[0;34m\u001b[0m\u001b[0m\n",
            "\u001b[0;32m/usr/local/lib/python3.10/dist-packages/huggingface_hub/utils/_validators.py\u001b[0m in \u001b[0;36m_inner_fn\u001b[0;34m(*args, **kwargs)\u001b[0m\n\u001b[1;32m    117\u001b[0m \u001b[0;34m\u001b[0m\u001b[0m\n\u001b[0;32m--> 118\u001b[0;31m         \u001b[0;32mreturn\u001b[0m \u001b[0mfn\u001b[0m\u001b[0;34m(\u001b[0m\u001b[0;34m*\u001b[0m\u001b[0margs\u001b[0m\u001b[0;34m,\u001b[0m \u001b[0;34m**\u001b[0m\u001b[0mkwargs\u001b[0m\u001b[0;34m)\u001b[0m\u001b[0;34m\u001b[0m\u001b[0;34m\u001b[0m\u001b[0m\n\u001b[0m\u001b[1;32m    119\u001b[0m \u001b[0;34m\u001b[0m\u001b[0m\n",
            "\u001b[0;32m/usr/local/lib/python3.10/dist-packages/huggingface_hub/file_download.py\u001b[0m in \u001b[0;36mget_hf_file_metadata\u001b[0;34m(url, token, proxies, timeout, library_name, library_version, user_agent)\u001b[0m\n\u001b[1;32m   1630\u001b[0m     \u001b[0;31m# Retrieve metadata\u001b[0m\u001b[0;34m\u001b[0m\u001b[0;34m\u001b[0m\u001b[0m\n\u001b[0;32m-> 1631\u001b[0;31m     r = _request_wrapper(\n\u001b[0m\u001b[1;32m   1632\u001b[0m         \u001b[0mmethod\u001b[0m\u001b[0;34m=\u001b[0m\u001b[0;34m\"HEAD\"\u001b[0m\u001b[0;34m,\u001b[0m\u001b[0;34m\u001b[0m\u001b[0;34m\u001b[0m\u001b[0m\n",
            "\u001b[0;32m/usr/local/lib/python3.10/dist-packages/huggingface_hub/file_download.py\u001b[0m in \u001b[0;36m_request_wrapper\u001b[0;34m(method, url, follow_relative_redirects, **params)\u001b[0m\n\u001b[1;32m    384\u001b[0m     \u001b[0;32mif\u001b[0m \u001b[0mfollow_relative_redirects\u001b[0m\u001b[0;34m:\u001b[0m\u001b[0;34m\u001b[0m\u001b[0;34m\u001b[0m\u001b[0m\n\u001b[0;32m--> 385\u001b[0;31m         response = _request_wrapper(\n\u001b[0m\u001b[1;32m    386\u001b[0m             \u001b[0mmethod\u001b[0m\u001b[0;34m=\u001b[0m\u001b[0mmethod\u001b[0m\u001b[0;34m,\u001b[0m\u001b[0;34m\u001b[0m\u001b[0;34m\u001b[0m\u001b[0m\n",
            "\u001b[0;32m/usr/local/lib/python3.10/dist-packages/huggingface_hub/file_download.py\u001b[0m in \u001b[0;36m_request_wrapper\u001b[0;34m(method, url, follow_relative_redirects, **params)\u001b[0m\n\u001b[1;32m    408\u001b[0m     \u001b[0mresponse\u001b[0m \u001b[0;34m=\u001b[0m \u001b[0mget_session\u001b[0m\u001b[0;34m(\u001b[0m\u001b[0;34m)\u001b[0m\u001b[0;34m.\u001b[0m\u001b[0mrequest\u001b[0m\u001b[0;34m(\u001b[0m\u001b[0mmethod\u001b[0m\u001b[0;34m=\u001b[0m\u001b[0mmethod\u001b[0m\u001b[0;34m,\u001b[0m \u001b[0murl\u001b[0m\u001b[0;34m=\u001b[0m\u001b[0murl\u001b[0m\u001b[0;34m,\u001b[0m \u001b[0;34m**\u001b[0m\u001b[0mparams\u001b[0m\u001b[0;34m)\u001b[0m\u001b[0;34m\u001b[0m\u001b[0;34m\u001b[0m\u001b[0m\n\u001b[0;32m--> 409\u001b[0;31m     \u001b[0mhf_raise_for_status\u001b[0m\u001b[0;34m(\u001b[0m\u001b[0mresponse\u001b[0m\u001b[0;34m)\u001b[0m\u001b[0;34m\u001b[0m\u001b[0;34m\u001b[0m\u001b[0m\n\u001b[0m\u001b[1;32m    410\u001b[0m     \u001b[0;32mreturn\u001b[0m \u001b[0mresponse\u001b[0m\u001b[0;34m\u001b[0m\u001b[0;34m\u001b[0m\u001b[0m\n",
            "\u001b[0;32m/usr/local/lib/python3.10/dist-packages/huggingface_hub/utils/_errors.py\u001b[0m in \u001b[0;36mhf_raise_for_status\u001b[0;34m(response, endpoint_name)\u001b[0m\n\u001b[1;32m    295\u001b[0m             \u001b[0mmessage\u001b[0m \u001b[0;34m=\u001b[0m \u001b[0;34mf\"{response.status_code} Client Error.\"\u001b[0m \u001b[0;34m+\u001b[0m \u001b[0;34m\"\\n\\n\"\u001b[0m \u001b[0;34m+\u001b[0m \u001b[0;34mf\"Entry Not Found for url: {response.url}.\"\u001b[0m\u001b[0;34m\u001b[0m\u001b[0;34m\u001b[0m\u001b[0m\n\u001b[0;32m--> 296\u001b[0;31m             \u001b[0;32mraise\u001b[0m \u001b[0mEntryNotFoundError\u001b[0m\u001b[0;34m(\u001b[0m\u001b[0mmessage\u001b[0m\u001b[0;34m,\u001b[0m \u001b[0mresponse\u001b[0m\u001b[0;34m)\u001b[0m \u001b[0;32mfrom\u001b[0m \u001b[0me\u001b[0m\u001b[0;34m\u001b[0m\u001b[0;34m\u001b[0m\u001b[0m\n\u001b[0m\u001b[1;32m    297\u001b[0m \u001b[0;34m\u001b[0m\u001b[0m\n",
            "\u001b[0;31mEntryNotFoundError\u001b[0m: 404 Client Error. (Request ID: Root=1-65e0b9f7-4b13875a12d333e32e985209;9d836d62-fdeb-410b-949b-3786f7ddde0d)\n\nEntry Not Found for url: https://huggingface.co/osanseviero/fasttext_embedding/resolve/main/config.json.",
            "\nThe above exception was the direct cause of the following exception:\n",
            "\u001b[0;31mOSError\u001b[0m                                   Traceback (most recent call last)",
            "\u001b[0;32m<ipython-input-8-f07f85c6b266>\u001b[0m in \u001b[0;36m<cell line: 8>\u001b[0;34m()\u001b[0m\n\u001b[1;32m      6\u001b[0m \u001b[0membeding_encode_kwargs\u001b[0m \u001b[0;34m=\u001b[0m \u001b[0;34m{\u001b[0m\u001b[0;34m'normalize_embeddings'\u001b[0m\u001b[0;34m:\u001b[0m \u001b[0;32mFalse\u001b[0m\u001b[0;34m}\u001b[0m\u001b[0;34m\u001b[0m\u001b[0;34m\u001b[0m\u001b[0m\n\u001b[1;32m      7\u001b[0m \u001b[0;34m\u001b[0m\u001b[0m\n\u001b[0;32m----> 8\u001b[0;31m \u001b[0membedding_function\u001b[0m \u001b[0;34m=\u001b[0m \u001b[0mHuggingFaceEmbeddings\u001b[0m\u001b[0;34m(\u001b[0m\u001b[0mmodel_name\u001b[0m\u001b[0;34m=\u001b[0m\u001b[0membeding_model_name\u001b[0m\u001b[0;34m,\u001b[0m\u001b[0mmodel_kwargs\u001b[0m\u001b[0;34m=\u001b[0m\u001b[0membeding_model_kwargs\u001b[0m\u001b[0;34m,\u001b[0m\u001b[0mencode_kwargs\u001b[0m\u001b[0;34m=\u001b[0m\u001b[0membeding_encode_kwargs\u001b[0m\u001b[0;34m)\u001b[0m\u001b[0;34m\u001b[0m\u001b[0;34m\u001b[0m\u001b[0m\n\u001b[0m",
            "\u001b[0;32m/usr/local/lib/python3.10/dist-packages/langchain_community/embeddings/huggingface.py\u001b[0m in \u001b[0;36m__init__\u001b[0;34m(self, **kwargs)\u001b[0m\n\u001b[1;32m     65\u001b[0m             ) from exc\n\u001b[1;32m     66\u001b[0m \u001b[0;34m\u001b[0m\u001b[0m\n\u001b[0;32m---> 67\u001b[0;31m         self.client = sentence_transformers.SentenceTransformer(\n\u001b[0m\u001b[1;32m     68\u001b[0m             \u001b[0mself\u001b[0m\u001b[0;34m.\u001b[0m\u001b[0mmodel_name\u001b[0m\u001b[0;34m,\u001b[0m \u001b[0mcache_folder\u001b[0m\u001b[0;34m=\u001b[0m\u001b[0mself\u001b[0m\u001b[0;34m.\u001b[0m\u001b[0mcache_folder\u001b[0m\u001b[0;34m,\u001b[0m \u001b[0;34m**\u001b[0m\u001b[0mself\u001b[0m\u001b[0;34m.\u001b[0m\u001b[0mmodel_kwargs\u001b[0m\u001b[0;34m\u001b[0m\u001b[0;34m\u001b[0m\u001b[0m\n\u001b[1;32m     69\u001b[0m         )\n",
            "\u001b[0;32m/usr/local/lib/python3.10/dist-packages/sentence_transformers/SentenceTransformer.py\u001b[0m in \u001b[0;36m__init__\u001b[0;34m(self, model_name_or_path, modules, device, prompts, default_prompt_name, cache_folder, trust_remote_code, revision, token, use_auth_token)\u001b[0m\n\u001b[1;32m    196\u001b[0m                 )\n\u001b[1;32m    197\u001b[0m             \u001b[0;32melse\u001b[0m\u001b[0;34m:\u001b[0m\u001b[0;34m\u001b[0m\u001b[0;34m\u001b[0m\u001b[0m\n\u001b[0;32m--> 198\u001b[0;31m                 modules = self._load_auto_model(\n\u001b[0m\u001b[1;32m    199\u001b[0m                     \u001b[0mmodel_name_or_path\u001b[0m\u001b[0;34m,\u001b[0m\u001b[0;34m\u001b[0m\u001b[0;34m\u001b[0m\u001b[0m\n\u001b[1;32m    200\u001b[0m                     \u001b[0mtoken\u001b[0m\u001b[0;34m=\u001b[0m\u001b[0mtoken\u001b[0m\u001b[0;34m,\u001b[0m\u001b[0;34m\u001b[0m\u001b[0;34m\u001b[0m\u001b[0m\n",
            "\u001b[0;32m/usr/local/lib/python3.10/dist-packages/sentence_transformers/SentenceTransformer.py\u001b[0m in \u001b[0;36m_load_auto_model\u001b[0;34m(self, model_name_or_path, token, cache_folder, revision, trust_remote_code)\u001b[0m\n\u001b[1;32m   1061\u001b[0m             )\n\u001b[1;32m   1062\u001b[0m         )\n\u001b[0;32m-> 1063\u001b[0;31m         transformer_model = Transformer(\n\u001b[0m\u001b[1;32m   1064\u001b[0m             \u001b[0mmodel_name_or_path\u001b[0m\u001b[0;34m,\u001b[0m\u001b[0;34m\u001b[0m\u001b[0;34m\u001b[0m\u001b[0m\n\u001b[1;32m   1065\u001b[0m             \u001b[0mcache_dir\u001b[0m\u001b[0;34m=\u001b[0m\u001b[0mcache_folder\u001b[0m\u001b[0;34m,\u001b[0m\u001b[0;34m\u001b[0m\u001b[0;34m\u001b[0m\u001b[0m\n",
            "\u001b[0;32m/usr/local/lib/python3.10/dist-packages/sentence_transformers/models/Transformer.py\u001b[0m in \u001b[0;36m__init__\u001b[0;34m(self, model_name_or_path, max_seq_length, model_args, cache_dir, tokenizer_args, do_lower_case, tokenizer_name_or_path)\u001b[0m\n\u001b[1;32m     33\u001b[0m         \u001b[0mself\u001b[0m\u001b[0;34m.\u001b[0m\u001b[0mdo_lower_case\u001b[0m \u001b[0;34m=\u001b[0m \u001b[0mdo_lower_case\u001b[0m\u001b[0;34m\u001b[0m\u001b[0;34m\u001b[0m\u001b[0m\n\u001b[1;32m     34\u001b[0m \u001b[0;34m\u001b[0m\u001b[0m\n\u001b[0;32m---> 35\u001b[0;31m         \u001b[0mconfig\u001b[0m \u001b[0;34m=\u001b[0m \u001b[0mAutoConfig\u001b[0m\u001b[0;34m.\u001b[0m\u001b[0mfrom_pretrained\u001b[0m\u001b[0;34m(\u001b[0m\u001b[0mmodel_name_or_path\u001b[0m\u001b[0;34m,\u001b[0m \u001b[0;34m**\u001b[0m\u001b[0mmodel_args\u001b[0m\u001b[0;34m,\u001b[0m \u001b[0mcache_dir\u001b[0m\u001b[0;34m=\u001b[0m\u001b[0mcache_dir\u001b[0m\u001b[0;34m)\u001b[0m\u001b[0;34m\u001b[0m\u001b[0;34m\u001b[0m\u001b[0m\n\u001b[0m\u001b[1;32m     36\u001b[0m         \u001b[0mself\u001b[0m\u001b[0;34m.\u001b[0m\u001b[0m_load_model\u001b[0m\u001b[0;34m(\u001b[0m\u001b[0mmodel_name_or_path\u001b[0m\u001b[0;34m,\u001b[0m \u001b[0mconfig\u001b[0m\u001b[0;34m,\u001b[0m \u001b[0mcache_dir\u001b[0m\u001b[0;34m,\u001b[0m \u001b[0;34m**\u001b[0m\u001b[0mmodel_args\u001b[0m\u001b[0;34m)\u001b[0m\u001b[0;34m\u001b[0m\u001b[0;34m\u001b[0m\u001b[0m\n\u001b[1;32m     37\u001b[0m \u001b[0;34m\u001b[0m\u001b[0m\n",
            "\u001b[0;32m/usr/local/lib/python3.10/dist-packages/transformers/models/auto/configuration_auto.py\u001b[0m in \u001b[0;36mfrom_pretrained\u001b[0;34m(cls, pretrained_model_name_or_path, **kwargs)\u001b[0m\n\u001b[1;32m   1098\u001b[0m         \u001b[0mcode_revision\u001b[0m \u001b[0;34m=\u001b[0m \u001b[0mkwargs\u001b[0m\u001b[0;34m.\u001b[0m\u001b[0mpop\u001b[0m\u001b[0;34m(\u001b[0m\u001b[0;34m\"code_revision\"\u001b[0m\u001b[0;34m,\u001b[0m \u001b[0;32mNone\u001b[0m\u001b[0;34m)\u001b[0m\u001b[0;34m\u001b[0m\u001b[0;34m\u001b[0m\u001b[0m\n\u001b[1;32m   1099\u001b[0m \u001b[0;34m\u001b[0m\u001b[0m\n\u001b[0;32m-> 1100\u001b[0;31m         \u001b[0mconfig_dict\u001b[0m\u001b[0;34m,\u001b[0m \u001b[0munused_kwargs\u001b[0m \u001b[0;34m=\u001b[0m \u001b[0mPretrainedConfig\u001b[0m\u001b[0;34m.\u001b[0m\u001b[0mget_config_dict\u001b[0m\u001b[0;34m(\u001b[0m\u001b[0mpretrained_model_name_or_path\u001b[0m\u001b[0;34m,\u001b[0m \u001b[0;34m**\u001b[0m\u001b[0mkwargs\u001b[0m\u001b[0;34m)\u001b[0m\u001b[0;34m\u001b[0m\u001b[0;34m\u001b[0m\u001b[0m\n\u001b[0m\u001b[1;32m   1101\u001b[0m         \u001b[0mhas_remote_code\u001b[0m \u001b[0;34m=\u001b[0m \u001b[0;34m\"auto_map\"\u001b[0m \u001b[0;32min\u001b[0m \u001b[0mconfig_dict\u001b[0m \u001b[0;32mand\u001b[0m \u001b[0;34m\"AutoConfig\"\u001b[0m \u001b[0;32min\u001b[0m \u001b[0mconfig_dict\u001b[0m\u001b[0;34m[\u001b[0m\u001b[0;34m\"auto_map\"\u001b[0m\u001b[0;34m]\u001b[0m\u001b[0;34m\u001b[0m\u001b[0;34m\u001b[0m\u001b[0m\n\u001b[1;32m   1102\u001b[0m         \u001b[0mhas_local_code\u001b[0m \u001b[0;34m=\u001b[0m \u001b[0;34m\"model_type\"\u001b[0m \u001b[0;32min\u001b[0m \u001b[0mconfig_dict\u001b[0m \u001b[0;32mand\u001b[0m \u001b[0mconfig_dict\u001b[0m\u001b[0;34m[\u001b[0m\u001b[0;34m\"model_type\"\u001b[0m\u001b[0;34m]\u001b[0m \u001b[0;32min\u001b[0m \u001b[0mCONFIG_MAPPING\u001b[0m\u001b[0;34m\u001b[0m\u001b[0;34m\u001b[0m\u001b[0m\n",
            "\u001b[0;32m/usr/local/lib/python3.10/dist-packages/transformers/configuration_utils.py\u001b[0m in \u001b[0;36mget_config_dict\u001b[0;34m(cls, pretrained_model_name_or_path, **kwargs)\u001b[0m\n\u001b[1;32m    632\u001b[0m         \u001b[0moriginal_kwargs\u001b[0m \u001b[0;34m=\u001b[0m \u001b[0mcopy\u001b[0m\u001b[0;34m.\u001b[0m\u001b[0mdeepcopy\u001b[0m\u001b[0;34m(\u001b[0m\u001b[0mkwargs\u001b[0m\u001b[0;34m)\u001b[0m\u001b[0;34m\u001b[0m\u001b[0;34m\u001b[0m\u001b[0m\n\u001b[1;32m    633\u001b[0m         \u001b[0;31m# Get config dict associated with the base config file\u001b[0m\u001b[0;34m\u001b[0m\u001b[0;34m\u001b[0m\u001b[0m\n\u001b[0;32m--> 634\u001b[0;31m         \u001b[0mconfig_dict\u001b[0m\u001b[0;34m,\u001b[0m \u001b[0mkwargs\u001b[0m \u001b[0;34m=\u001b[0m \u001b[0mcls\u001b[0m\u001b[0;34m.\u001b[0m\u001b[0m_get_config_dict\u001b[0m\u001b[0;34m(\u001b[0m\u001b[0mpretrained_model_name_or_path\u001b[0m\u001b[0;34m,\u001b[0m \u001b[0;34m**\u001b[0m\u001b[0mkwargs\u001b[0m\u001b[0;34m)\u001b[0m\u001b[0;34m\u001b[0m\u001b[0;34m\u001b[0m\u001b[0m\n\u001b[0m\u001b[1;32m    635\u001b[0m         \u001b[0;32mif\u001b[0m \u001b[0;34m\"_commit_hash\"\u001b[0m \u001b[0;32min\u001b[0m \u001b[0mconfig_dict\u001b[0m\u001b[0;34m:\u001b[0m\u001b[0;34m\u001b[0m\u001b[0;34m\u001b[0m\u001b[0m\n\u001b[1;32m    636\u001b[0m             \u001b[0moriginal_kwargs\u001b[0m\u001b[0;34m[\u001b[0m\u001b[0;34m\"_commit_hash\"\u001b[0m\u001b[0;34m]\u001b[0m \u001b[0;34m=\u001b[0m \u001b[0mconfig_dict\u001b[0m\u001b[0;34m[\u001b[0m\u001b[0;34m\"_commit_hash\"\u001b[0m\u001b[0;34m]\u001b[0m\u001b[0;34m\u001b[0m\u001b[0;34m\u001b[0m\u001b[0m\n",
            "\u001b[0;32m/usr/local/lib/python3.10/dist-packages/transformers/configuration_utils.py\u001b[0m in \u001b[0;36m_get_config_dict\u001b[0;34m(cls, pretrained_model_name_or_path, **kwargs)\u001b[0m\n\u001b[1;32m    687\u001b[0m             \u001b[0;32mtry\u001b[0m\u001b[0;34m:\u001b[0m\u001b[0;34m\u001b[0m\u001b[0;34m\u001b[0m\u001b[0m\n\u001b[1;32m    688\u001b[0m                 \u001b[0;31m# Load from local folder or from cache or download from model Hub and cache\u001b[0m\u001b[0;34m\u001b[0m\u001b[0;34m\u001b[0m\u001b[0m\n\u001b[0;32m--> 689\u001b[0;31m                 resolved_config_file = cached_file(\n\u001b[0m\u001b[1;32m    690\u001b[0m                     \u001b[0mpretrained_model_name_or_path\u001b[0m\u001b[0;34m,\u001b[0m\u001b[0;34m\u001b[0m\u001b[0;34m\u001b[0m\u001b[0m\n\u001b[1;32m    691\u001b[0m                     \u001b[0mconfiguration_file\u001b[0m\u001b[0;34m,\u001b[0m\u001b[0;34m\u001b[0m\u001b[0;34m\u001b[0m\u001b[0m\n",
            "\u001b[0;32m/usr/local/lib/python3.10/dist-packages/transformers/utils/hub.py\u001b[0m in \u001b[0;36mcached_file\u001b[0;34m(path_or_repo_id, filename, cache_dir, force_download, resume_download, proxies, token, revision, local_files_only, subfolder, repo_type, user_agent, _raise_exceptions_for_missing_entries, _raise_exceptions_for_connection_errors, _commit_hash, **deprecated_kwargs)\u001b[0m\n\u001b[1;32m    434\u001b[0m         \u001b[0;32mif\u001b[0m \u001b[0mrevision\u001b[0m \u001b[0;32mis\u001b[0m \u001b[0;32mNone\u001b[0m\u001b[0;34m:\u001b[0m\u001b[0;34m\u001b[0m\u001b[0;34m\u001b[0m\u001b[0m\n\u001b[1;32m    435\u001b[0m             \u001b[0mrevision\u001b[0m \u001b[0;34m=\u001b[0m \u001b[0;34m\"main\"\u001b[0m\u001b[0;34m\u001b[0m\u001b[0;34m\u001b[0m\u001b[0m\n\u001b[0;32m--> 436\u001b[0;31m         raise EnvironmentError(\n\u001b[0m\u001b[1;32m    437\u001b[0m             \u001b[0;34mf\"{path_or_repo_id} does not appear to have a file named {full_filename}. Checkout \"\u001b[0m\u001b[0;34m\u001b[0m\u001b[0;34m\u001b[0m\u001b[0m\n\u001b[1;32m    438\u001b[0m             \u001b[0;34mf\"'https://huggingface.co/{path_or_repo_id}/{revision}' for available files.\"\u001b[0m\u001b[0;34m\u001b[0m\u001b[0;34m\u001b[0m\u001b[0m\n",
            "\u001b[0;31mOSError\u001b[0m: osanseviero/fasttext_embedding does not appear to have a file named config.json. Checkout 'https://huggingface.co/osanseviero/fasttext_embedding/main' for available files."
          ]
        }
      ],
      "source": [
        "%%capture\n",
        "CHROMA_PATH = \"./chroma\"\n",
        "DATA_PATH = \"./datasets\"\n",
        "\n",
        "embeding_model_name = \"osanseviero/fasttext_embedding\"\n",
        "embeding_model_kwargs = {'device': device}\n",
        "embeding_encode_kwargs = {'normalize_embeddings': False}\n",
        "\n",
        "embedding_function = HuggingFaceEmbeddings(model_name=embeding_model_name,model_kwargs=embeding_model_kwargs,encode_kwargs=embeding_encode_kwargs)"
      ]
    },
    {
      "cell_type": "code",
      "source": [
        "from typing import Any, Dict, List, Optional\n",
        "import numpy as np\n",
        "from langchain.embeddings.base import Embeddings\n",
        "from langchain.pydantic_v1 import BaseModel, Extra, Field\n",
        "from gensim import matutils\n",
        "\n",
        "class FasttextEmbeddings(BaseModel, Embeddings):\n",
        "    \"\"\"Gensim sentence_transformers embedding models.\n",
        "    \"\"\"\n",
        "\n",
        "    def __init__(self, model_path, **kwargs):\n",
        "        \"\"\"Initialize the sentence_transformer.\"\"\"\n",
        "        super().__init__(**kwargs)\n",
        "        try:\n",
        "            import fasttext\n",
        "\n",
        "        except ImportError as exc:\n",
        "            raise ImportError(\n",
        "                \"Could not import gensim python package. \"\n",
        "                \"Please install it with `pip install gensim`.\"\n",
        "            ) from exc\n",
        "\n",
        "        self.vectorStore = fasttext.load_model(model_path)\n",
        "\n",
        "    class Config:\n",
        "        \"\"\"Configuration for this pydantic object.\"\"\"\n",
        "\n",
        "        extra = Extra.allow\n",
        "\n",
        "    def get_vector_embedding(self,word):\n",
        "        vec = self.vectorStore[word]\n",
        "        vec = matutils.unitvec(np.array(vec))\n",
        "        return vec\n",
        "\n",
        "    def embed_documents(self, texts: List[str]) -> List[List[float]]:\n",
        "        \"\"\"Compute doc embeddings using a HuggingFace transformer model.\n",
        "        Args:\n",
        "            texts: The list of texts to embed.\n",
        "        Returns:\n",
        "            List of embeddings, one for each text.\n",
        "        \"\"\"\n",
        "\n",
        "        texts = list(map(lambda x: x.replace(\"\\n\", \" \"), texts))\n",
        "        embeddings = []\n",
        "        for text in texts:\n",
        "            vector =  self.get_vector_embedding(text)\n",
        "            embeddings.append(vector.tolist())\n",
        "        return embeddings\n",
        "\n",
        "    def embed_query(self, text: str) -> List[float]:\n",
        "        \"\"\"Compute query embeddings using a HuggingFace transformer model.\n",
        "        Args:\n",
        "            text: The text to embed.\n",
        "        Returns:\n",
        "            Embeddings for the text.\n",
        "        \"\"\"\n",
        "        return self.embed_documents([text])[0]"
      ],
      "metadata": {
        "id": "OUS-sA7E3J9_"
      },
      "execution_count": 2,
      "outputs": []
    },
    {
      "cell_type": "code",
      "source": [
        "import fasttext\n",
        "from huggingface_hub import hf_hub_download\n",
        "\n",
        "model_path = hf_hub_download(repo_id=\"facebook/fasttext-fa-vectors\", filename=\"model.bin\")\n",
        "model = fasttext.load_model(model_path)\n",
        "model.words\n",
        "\n",
        "\n",
        "len(model.words)\n",
        "\n",
        "x = model['کیک']\n",
        "print(len(x))\n",
        "model['کیک']"
      ],
      "metadata": {
        "colab": {
          "base_uri": "https://localhost:8080/"
        },
        "id": "uwSM2P8R6LZ1",
        "outputId": "1995e383-1e04-4f6c-cee7-ee1751e80a77"
      },
      "execution_count": 3,
      "outputs": [
        {
          "output_type": "stream",
          "name": "stderr",
          "text": [
            "/usr/local/lib/python3.10/dist-packages/huggingface_hub/utils/_token.py:88: UserWarning: \n",
            "The secret `HF_TOKEN` does not exist in your Colab secrets.\n",
            "To authenticate with the Hugging Face Hub, create a token in your settings tab (https://huggingface.co/settings/tokens), set it as secret in your Google Colab and restart your session.\n",
            "You will be able to reuse this secret in all of your notebooks.\n",
            "Please note that authentication is recommended but still optional to access public models or datasets.\n",
            "  warnings.warn(\n",
            "Warning : `load_model` does not return WordVectorModel or SupervisedModel any more, but a `FastText` object which is very similar.\n"
          ]
        },
        {
          "output_type": "stream",
          "name": "stdout",
          "text": [
            "300\n"
          ]
        },
        {
          "output_type": "execute_result",
          "data": {
            "text/plain": [
              "array([ 1.80795282e-01,  2.89481640e-01,  1.45641848e-01, -1.46620259e-01,\n",
              "        4.71592918e-02,  1.05648935e-01,  1.21546060e-01,  1.28660098e-01,\n",
              "        1.85307294e-01,  3.62608969e-01,  2.16912776e-02, -1.40143529e-01,\n",
              "       -3.92908007e-02, -8.84452164e-02, -1.02125965e-01,  8.76953453e-02,\n",
              "        2.05178168e-02, -2.73209438e-02, -2.65041869e-02, -6.31793067e-02,\n",
              "       -1.11681864e-01, -5.82233407e-02,  6.12472259e-02, -8.65362361e-02,\n",
              "        5.42299822e-02, -1.10495016e-01, -2.01638162e-01, -1.41403228e-02,\n",
              "       -1.21957362e-01, -1.00320533e-01, -8.35162997e-02,  3.26706655e-02,\n",
              "       -5.16331755e-02,  1.38361827e-01, -1.23719230e-01, -6.26623631e-03,\n",
              "        5.25223278e-02,  2.08721533e-02, -1.53537646e-01, -1.26743376e-01,\n",
              "        1.26412153e-01, -1.87244326e-01,  4.00330983e-02,  1.84700742e-01,\n",
              "        8.92394111e-02, -2.30759323e-01,  4.38205525e-02,  7.11347163e-02,\n",
              "        8.31701830e-02, -2.55037323e-02, -1.08600587e-01,  1.15021810e-01,\n",
              "        3.48614268e-02,  1.00545794e-01, -1.22233689e-01, -1.40011787e-01,\n",
              "        1.02970995e-01,  1.15110569e-01, -5.23701906e-02, -3.87173407e-02,\n",
              "       -5.67981824e-02, -3.88938859e-02, -7.19638169e-02, -5.63627779e-02,\n",
              "       -1.75512284e-01, -6.42762929e-02,  2.31051445e-02,  4.37772460e-02,\n",
              "       -1.67410687e-01,  2.57903710e-04, -1.53962240e-01, -1.00617290e-01,\n",
              "       -2.85158120e-02,  5.33813685e-02, -7.50918761e-02,  1.69393197e-02,\n",
              "       -1.47899806e-01, -1.21092815e-02,  1.16865404e-01,  1.56821758e-02,\n",
              "       -1.49270222e-01, -9.91734937e-02,  1.86808091e-02,  1.88846216e-01,\n",
              "       -1.93275020e-01, -4.30374295e-02, -2.27622613e-01,  2.04682611e-02,\n",
              "       -2.23564416e-01,  1.13943547e-01,  6.49690777e-02,  6.68416917e-03,\n",
              "        3.84349078e-02, -1.94137186e-01,  2.92241499e-02,  7.14165270e-02,\n",
              "        2.34616958e-02, -1.79818142e-02, -1.26909390e-02,  2.37357914e-01,\n",
              "       -1.03623576e-01, -1.52796000e-01, -1.40462164e-02,  5.48081920e-02,\n",
              "       -4.82815178e-03,  6.94725290e-02, -6.29580319e-02, -9.87488553e-02,\n",
              "        4.10118811e-02,  5.76455519e-02, -2.17033774e-02, -1.16972886e-02,\n",
              "        1.09426931e-01, -1.37544006e-01, -2.33997032e-03, -6.91731870e-02,\n",
              "       -1.32224247e-01,  3.60144041e-02, -1.26945853e-01,  9.61713493e-02,\n",
              "       -2.16624960e-02, -1.69021189e-01,  8.88503492e-02, -9.80609804e-02,\n",
              "       -1.49000138e-01, -1.13391861e-01,  4.84040864e-02, -1.29783442e-02,\n",
              "       -4.01208028e-02, -7.22179562e-02, -2.65590064e-02, -3.85237895e-02,\n",
              "        2.02201277e-01,  1.01598799e-01, -2.71878988e-01,  6.29060268e-02,\n",
              "       -1.76263973e-01, -8.05780292e-03, -2.22024366e-01,  1.89536631e-01,\n",
              "        2.66922060e-02,  1.87070549e-01, -2.13767067e-01, -1.98366970e-01,\n",
              "        6.56299219e-02,  7.23770410e-02, -9.04845446e-02,  1.19631574e-01,\n",
              "        2.94259172e-02,  2.72459656e-01,  2.58195549e-01, -1.09678820e-01,\n",
              "       -6.00945577e-03, -1.95496634e-01, -1.39481649e-01, -7.50554502e-02,\n",
              "        1.09723181e-01,  4.24952433e-02,  9.37988013e-02, -2.28923261e-01,\n",
              "       -9.85188112e-02, -5.92168272e-02,  1.79162413e-01, -4.78443950e-02,\n",
              "        1.54895678e-01,  3.37379128e-02, -1.35709792e-01, -3.60872895e-02,\n",
              "        1.69745646e-02, -3.05350833e-02,  1.08236440e-01, -8.06256086e-02,\n",
              "       -5.51617630e-02,  1.55739337e-02,  5.87316230e-04, -6.38845414e-02,\n",
              "       -1.20875835e-02, -1.21833973e-01,  1.43134430e-01,  3.78925726e-02,\n",
              "       -9.55281183e-02,  1.00862555e-01,  9.08073857e-02, -8.75662416e-02,\n",
              "        1.15512088e-01, -1.04993343e-01,  6.54667392e-02,  1.01648115e-01,\n",
              "        2.09382698e-01,  6.82728738e-02, -2.86066905e-02,  8.62193927e-02,\n",
              "        6.89991042e-02, -1.60088893e-02,  1.16530716e-01, -1.07468165e-01,\n",
              "       -2.69553065e-03, -6.03650361e-02, -1.60891876e-01, -6.97675347e-02,\n",
              "        4.63382825e-02, -1.05949715e-01, -1.73806220e-01, -1.74117208e-01,\n",
              "       -7.22443089e-02, -1.22758187e-01, -6.14296943e-02,  4.30076197e-02,\n",
              "       -1.92143127e-01, -2.27248713e-01,  2.75008529e-02, -4.07386646e-02,\n",
              "        5.40310591e-02,  2.30396725e-02,  8.91894102e-04,  1.63826019e-01,\n",
              "       -1.39111012e-01, -1.55878961e-01, -4.36468609e-02,  5.83705604e-02,\n",
              "       -1.61990315e-01,  1.75190829e-02,  1.47915319e-01, -7.81054869e-02,\n",
              "        7.27875233e-02, -2.37185657e-02,  9.71538126e-02, -1.07769668e-02,\n",
              "       -2.90868759e-01, -2.27366537e-02, -5.87282777e-02,  6.28319010e-02,\n",
              "       -5.38377091e-04,  5.41607738e-02, -3.98088098e-02, -4.87202033e-02,\n",
              "       -1.94376320e-01, -1.01179898e-01, -7.76428357e-03,  1.11193387e-02,\n",
              "       -7.91491196e-03, -1.49838194e-01, -8.10108930e-02, -9.86033455e-02,\n",
              "        9.98596773e-02,  5.27879000e-02,  3.02112661e-02, -1.16128787e-01,\n",
              "        3.80022638e-02, -1.55622378e-01, -2.54025217e-02,  4.19940576e-02,\n",
              "        2.58995164e-02,  8.98638144e-02, -1.17927834e-01, -2.06131041e-02,\n",
              "       -9.85262394e-02, -8.03176761e-02,  2.73884423e-02,  5.99881113e-02,\n",
              "       -2.80063868e-01, -6.93125501e-02,  9.39124823e-03, -3.82433236e-02,\n",
              "        6.11187108e-02,  3.95301990e-02,  1.99215449e-02,  1.70666054e-02,\n",
              "        2.30302829e-02,  8.30143094e-02,  8.61412883e-02,  4.54765111e-02,\n",
              "       -4.41339687e-02,  7.60212354e-03,  1.28549412e-02, -1.62120447e-01,\n",
              "       -2.54974570e-02, -1.36855617e-02, -2.29494706e-01,  1.18402839e-01,\n",
              "       -1.96736738e-01,  6.68253452e-02, -4.07046005e-02,  2.63940375e-02,\n",
              "       -3.68537977e-02, -1.21281594e-02,  2.00674050e-02, -6.09413534e-02,\n",
              "       -5.85606135e-02, -1.04605421e-01,  1.32006198e-01, -2.68017292e-01,\n",
              "       -1.96383148e-02,  1.47412032e-01,  4.64767143e-02,  8.78830999e-02,\n",
              "        5.35945743e-02, -3.25930007e-02, -1.40321106e-01, -7.63443559e-02],\n",
              "      dtype=float32)"
            ]
          },
          "metadata": {},
          "execution_count": 3
        }
      ]
    },
    {
      "cell_type": "code",
      "source": [
        "del model"
      ],
      "metadata": {
        "id": "z2CNZeBO0exW"
      },
      "execution_count": null,
      "outputs": []
    },
    {
      "cell_type": "code",
      "source": [
        "embeding_encode_kwargs = {'normalize_embeddings': False}\n",
        "embedding_function = FasttextEmbeddings(model_path)\n"
      ],
      "metadata": {
        "colab": {
          "base_uri": "https://localhost:8080/"
        },
        "id": "paswUxLG57-D",
        "outputId": "1e17531c-f1fc-49a6-980c-cbbe86068551"
      },
      "execution_count": 8,
      "outputs": [
        {
          "output_type": "stream",
          "name": "stderr",
          "text": [
            "Warning : `load_model` does not return WordVectorModel or SupervisedModel any more, but a `FastText` object which is very similar.\n"
          ]
        }
      ]
    },
    {
      "cell_type": "markdown",
      "metadata": {
        "id": "ieoMDAHOw0VX"
      },
      "source": [
        "## Naive Document Splitting"
      ]
    },
    {
      "cell_type": "code",
      "execution_count": 9,
      "metadata": {
        "colab": {
          "base_uri": "https://localhost:8080/",
          "height": 158
        },
        "id": "GDhonXwGw0VX",
        "outputId": "ca21fcae-7e93-4ff4-920e-8d72507693e9"
      },
      "outputs": [
        {
          "output_type": "error",
          "ename": "FileNotFoundError",
          "evalue": "[Errno 2] No such file or directory: '/content/business_law.txt'",
          "traceback": [
            "\u001b[0;31m---------------------------------------------------------------------------\u001b[0m",
            "\u001b[0;31mFileNotFoundError\u001b[0m                         Traceback (most recent call last)",
            "\u001b[0;32m<ipython-input-9-9972d7d17a52>\u001b[0m in \u001b[0;36m<cell line: 1>\u001b[0;34m()\u001b[0m\n\u001b[0;32m----> 1\u001b[0;31m \u001b[0;32mwith\u001b[0m \u001b[0mopen\u001b[0m\u001b[0;34m(\u001b[0m\u001b[0;34m'/content/business_law.txt'\u001b[0m\u001b[0;34m,\u001b[0m \u001b[0;34m'r'\u001b[0m\u001b[0;34m)\u001b[0m \u001b[0;32mas\u001b[0m \u001b[0mfile\u001b[0m\u001b[0;34m:\u001b[0m\u001b[0;34m\u001b[0m\u001b[0;34m\u001b[0m\u001b[0m\n\u001b[0m\u001b[1;32m      2\u001b[0m   \u001b[0mtext\u001b[0m \u001b[0;34m=\u001b[0m \u001b[0mfile\u001b[0m\u001b[0;34m.\u001b[0m\u001b[0mread\u001b[0m\u001b[0;34m(\u001b[0m\u001b[0;34m)\u001b[0m\u001b[0;34m\u001b[0m\u001b[0;34m\u001b[0m\u001b[0m\n",
            "\u001b[0;31mFileNotFoundError\u001b[0m: [Errno 2] No such file or directory: '/content/business_law.txt'"
          ]
        }
      ],
      "source": [
        "with open('/content/business_law.txt', 'r') as file:\n",
        "  text = file.read()"
      ]
    },
    {
      "cell_type": "code",
      "execution_count": null,
      "metadata": {
        "id": "WXgvxIWQw0VY"
      },
      "outputs": [],
      "source": [
        "def generate_data_store():\n",
        "    documents = load_documents()\n",
        "    chunks = split_text(documents)\n",
        "    save_to_chroma(chunks)\n",
        "\n",
        "\n",
        "def load_documents():\n",
        "    loader = DirectoryLoader(DATA_PATH, glob=\"*.txt\")\n",
        "    documents = loader.load()\n",
        "    return documents\n",
        "\n",
        "\n",
        "def split_text(documents: list[Document]):\n",
        "    text_splitter = RecursiveCharacterTextSplitter(\n",
        "        chunk_size=300,\n",
        "        chunk_overlap=100,\n",
        "        length_function=len,\n",
        "        add_start_index=True,\n",
        "    )\n",
        "    chunks = text_splitter.split_documents(documents)\n",
        "    print(f\"Split {len(documents)} documents into {len(chunks)} chunks.\")\n",
        "\n",
        "    return chunks\n",
        "\n",
        "\n",
        "def save_to_chroma(chunks: list[Document]):\n",
        "    if os.path.exists(CHROMA_PATH):\n",
        "        shutil.rmtree(CHROMA_PATH)\n",
        "\n",
        "    db = Chroma.from_documents(\n",
        "        chunks,\n",
        "        embedding_function,\n",
        "        persist_directory=CHROMA_PATH\n",
        "    )\n",
        "\n",
        "    db.persist()\n",
        "    print(f\"Saved {len(chunks)} chunks to {CHROMA_PATH}.\")"
      ]
    },
    {
      "cell_type": "code",
      "execution_count": null,
      "metadata": {
        "id": "neGD7KGEw0VY"
      },
      "outputs": [],
      "source": [
        "generate_data_store()"
      ]
    },
    {
      "cell_type": "code",
      "execution_count": null,
      "metadata": {
        "id": "nPEvBRN1w0VY"
      },
      "outputs": [],
      "source": [
        "# backup the sqlite database"
      ]
    },
    {
      "cell_type": "markdown",
      "metadata": {
        "id": "YZGoxr2Lw0VZ"
      },
      "source": [
        "## Chunking based on Law Articles"
      ]
    },
    {
      "cell_type": "code",
      "execution_count": 10,
      "metadata": {
        "id": "E-oOa5ACw0VZ"
      },
      "outputs": [],
      "source": [
        "BUSINESS_LAW_TXT_PATH = '/content/datasets/business_law.txt'\n",
        "\n",
        "with open(BUSINESS_LAW_TXT_PATH, 'r') as file:\n",
        "  text = file.read()\n",
        "\n",
        "# preprocess\n",
        "temp = ''\n",
        "for c in text:\n",
        "  if c != '\\u200c':\n",
        "    temp += c\n",
        "\n",
        "text = temp"
      ]
    },
    {
      "cell_type": "code",
      "execution_count": 11,
      "metadata": {
        "id": "IPz8Jm1vw0VZ"
      },
      "outputs": [],
      "source": [
        "pattern = r'(^ماده) (\\d+)'\n",
        "\n",
        "matches = re.finditer(pattern, text, re.MULTILINE)\n",
        "indexes = [m.start() for m in matches]\n",
        "\n",
        "splitted = []\n",
        "for i, j in zip([0] + indexes, indexes + [len(text)]):\n",
        "  splitted.append(text[i:j])"
      ]
    },
    {
      "cell_type": "code",
      "execution_count": 12,
      "metadata": {
        "id": "DbDVhXCpw0VZ"
      },
      "outputs": [],
      "source": [
        "from langchain.docstore.document import Document\n",
        "\n",
        "chunks = []\n",
        "for d in splitted:\n",
        "  chunks.append(Document(page_content=d))"
      ]
    },
    {
      "cell_type": "code",
      "execution_count": 13,
      "metadata": {
        "id": "LltWAbkNw0Va"
      },
      "outputs": [],
      "source": [
        "db = Chroma.from_documents(\n",
        "    chunks,\n",
        "    embedding_function,\n",
        "    # persist_directory='/content/'\n",
        ")"
      ]
    },
    {
      "cell_type": "code",
      "execution_count": 14,
      "metadata": {
        "colab": {
          "base_uri": "https://localhost:8080/"
        },
        "id": "j8giD3dWw0Va",
        "outputId": "cae05a37-5882-4eac-a7f8-f40f8db4c146"
      },
      "outputs": [
        {
          "output_type": "execute_result",
          "data": {
            "text/plain": [
              "[(Document(page_content='ماده 190(الحاقي 24ˏ12ˏ1347)- پيشنهاد هيأت مديره راجع بكاهش سرمايه بايد حداقل چهل و پنج روز قبل از تشكيل مجمع عمومي فوقالعاده ببازرس يا بازرسان شركت تسليم گردد.\\nپيشنهاد مزبور بايد متضمن توجيه لزوم كاهش سرمايه و همچنين شامل گزارشي درباره امور شركت از بدو سال مالي در جريان و اگر تا آنموقع مجمععمومي نسبت بحسابهاي سال مالي قبل تصميم نگرفته باشد حاكي از وضع شركت از ابتداي سال مالي قبل باشد.\\n\\n'),\n",
              "  0.5427099811109837),\n",
              " (Document(page_content='ماده 233(الحاقي 24ˏ12ˏ1347)- در تنظيم حساب عملكرد و حساب سود و زيان و ترازنامه شركت بايد همان شكل و روشهاي ارزيابي كه در سال مالي قبل از آن بكاررفته است رعايت شود. با وجود اين در صورتيكه تغييري در شكل و روشهاي ارزيابي سال قبل از آن مورد نظر باشد بايد اسناد مذكور بهر دو شكل وهر دو روش ارزيابي تنظيم گردد تا مجمع عمومي با ملاحظه آنها و با توجه بگزارش هيأت مديره و بازرسان نسبت به تغييرات پيشنهادي تصميم بگيرد.\\n\\n'),\n",
              "  0.5359848613751914),\n",
              " (Document(page_content='ماده 168 - اعضاءِ هيئت نظار دفاتر و صندوق و كليه اسناد شركت را تحت تدقيق در آورده همه ساله راپورتي بمجمع عمومي ميدهند و هر گاه در تنظيم صورت دارائي بي ترتيبي و خطائي مشاهده نمايند در راپورت مزبور ذكر نموده و اگر مخالفتي با پيشنهاد مدير شركت در تقسيم منافع داشته باشند دلائل خود را بيان ميكنند.\\n\\n'),\n",
              "  0.5261503578905078),\n",
              " (Document(page_content='ماده 444 - عضو ناظر بتقاضاي مدير تصفيه باو اجازه ميدهد كه اشياءِ ذيل را از مهر و موم مستثني كرده و اگر مهر و موم شده است از توقيف خارج نمايد:\\n1 - البسه و اثاثيه و اسبابي كه براي حوائج ضروري تاجر ورشكسته و خانواده او لازم است.\\n2 - اشيائي كه ممكن است قريباً ضايع شود يا كسر قيمت حاصل نمايد.\\n3 - اشيائي كه براي بكار انداختن سرمايه تاجر ورشكسته و استفاده از آن لازم است در صورتيكه توقيف آنها موجب خسارت ارباب طلب باشد.\\nاشياءِ مذكور در فقره ثانيه و ثالثه بايد فوراً تقويم و صورت آن برداشته شود.\\n\\n'),\n",
              "  0.5180435380199829),\n",
              " (Document(page_content='ماده 484 - اگر تاجر بعنوان ورشكستگي بتقصير محكوم شود انعقاد قرارداد ارفاقي ممكن است ليكن در صورتيكه تعقيب تاجر شروع شده باشد طلبكارها ميتوانند تا حصول نتيجه تعقيب و با رعايت مقررات ماده قبل تصميم در قرارداد را تأخير بيندازند.\\n\\n'),\n",
              "  0.5135071462742098)]"
            ]
          },
          "metadata": {},
          "execution_count": 14
        }
      ],
      "source": [
        "question = 'شرایط تاجر بودن چیست؟'\n",
        "r = db.similarity_search_with_relevance_scores(question, k=5)\n",
        "r"
      ]
    },
    {
      "cell_type": "code",
      "execution_count": null,
      "metadata": {
        "id": "W6r44u-Fw0Va"
      },
      "outputs": [],
      "source": [
        "# db.persist()"
      ]
    },
    {
      "cell_type": "code",
      "execution_count": null,
      "metadata": {
        "id": "qUGMCbAvw0Va"
      },
      "outputs": [],
      "source": [
        "# backup the sqlite database"
      ]
    },
    {
      "cell_type": "markdown",
      "metadata": {
        "id": "phedebp8w0Va"
      },
      "source": [
        "# Load the Vector DB"
      ]
    },
    {
      "cell_type": "code",
      "execution_count": null,
      "metadata": {
        "id": "4RrqzbK7w0Vb"
      },
      "outputs": [],
      "source": [
        "# vector database for business law\n",
        "!cp -r /content/drive/MyDrive/IRI_LAW/chroma ./chroma"
      ]
    },
    {
      "cell_type": "code",
      "execution_count": null,
      "metadata": {
        "id": "VCWPTvr_w0Vb"
      },
      "outputs": [],
      "source": [
        "db = Chroma(persist_directory=CHROMA_PATH, embedding_function=embedding_function)"
      ]
    },
    {
      "cell_type": "code",
      "execution_count": null,
      "metadata": {
        "id": "0LkGRltOw0Vb"
      },
      "outputs": [],
      "source": [
        "def find_relevant_results(query, k=3):\n",
        "  results = db.similarity_search_with_relevance_scores(query, k=k)\n",
        "  return results"
      ]
    },
    {
      "cell_type": "code",
      "execution_count": null,
      "metadata": {
        "id": "h8dBl9V3w0Vb",
        "outputId": "763e7a71-9695-46e0-9c84-ef927c167f75"
      },
      "outputs": [
        {
          "data": {
            "text/plain": [
              "[(Document(page_content='امضاي مجاز شركت رسيده و مشتمل بر نكات زير باشد: الف - نام و شماره ثبت شركت. ب - موضوع شركت و نوع فعاليتهاي آن ج - مركز اصلي شركت و در صورتيكه شركت شعبي داشته باشد نشاني شعب آن د - در صورتيكه شركت براي مدت محدود تشكيل شده باشد تاريخ انقضاء مدت آن هـ - سرمايه شركت و مبلغ پرداخت شده آن. و - اگر سهام', metadata={'source': 'datasets/business_law.txt', 'start_index': 108869}),\n",
              "  0.40191792789816005),\n",
              " (Document(page_content='ماده 8(الحاقي 24ˏ12ˏ1347)- طرح اساسنامه بايد با قيد تاريخ به امضاء مؤسسين رسيده و مشتمل بر مطالب زير باشد: 1 - نام شركت 2 - موضوع شركت بطور صريح و منجز 3 - مدت شركت 4 - مركز اصلي شركت و محل شعب آن اگر تأسيس شعبه مورد نظر باشد. 5 - مبلغ سرمايه شركت و تعيين مقدار نقد و غير نقد آن به تفكيك. 6 - تعداد', metadata={'source': 'datasets/business_law.txt', 'start_index': 8311}),\n",
              "  0.3983542432691699),\n",
              " (Document(page_content='ماده 60(الحاقي 24ˏ12ˏ1347)- ورقه قرضه بايد شامل نكات زير بوده و بهمان ترتيبي كه براي امضاي اوراق سهام مقرر شده است امضاء بشود:\\n\\n1\\n\\nنام شركت\\n\\n2 - شماره و تاريخ ثبت شركت\\n\\n3\\n\\nمركز اصلي شركت.\\n\\n4\\n\\nمبلغ سرمايه شركت\\n\\n5\\n\\nمدت شركت.\\n\\n6 - مبلغ اسمي و شماره ترتيب و تاريخ صدور ورقه قرضه.', metadata={'source': 'datasets/business_law.txt', 'start_index': 29174}),\n",
              "  0.3907885467866763)]"
            ]
          },
          "metadata": {},
          "output_type": "display_data"
        }
      ],
      "source": [
        "res = find_relevant_results('چگونه می‌توان شرکتی را به ثبت رساند و چه مدارکی لازم است؟')\n",
        "res"
      ]
    },
    {
      "cell_type": "code",
      "execution_count": null,
      "metadata": {
        "id": "MlEaiXYSw0Vb",
        "outputId": "6335b414-594a-403c-e27e-6f82a0630e30"
      },
      "outputs": [
        {
          "name": "stdout",
          "output_type": "stream",
          "text": [
            "امضاي مجاز شركت رسيده و مشتمل بر نكات زير باشد: الف - نام و شماره ثبت شركت. ب - موضوع شركت و نوع فعاليتهاي آن ج - مركز اصلي شركت و در صورتيكه شركت شعبي داشته باشد نشاني شعب آن د - در صورتيكه شركت براي مدت محدود تشكيل شده باشد تاريخ انقضاء مدت آن هـ - سرمايه شركت و مبلغ پرداخت شده آن. و - اگر سهام\n"
          ]
        }
      ],
      "source": [
        "print(res[0][0].page_content)"
      ]
    },
    {
      "cell_type": "markdown",
      "metadata": {
        "id": "-gEgU-xZw0Vb"
      },
      "source": [
        "# Configure RAG\n",
        "\n"
      ]
    },
    {
      "cell_type": "markdown",
      "metadata": {
        "id": "9Q8Xxv_-w0Vb"
      },
      "source": [
        "## Init Language Model"
      ]
    },
    {
      "cell_type": "markdown",
      "metadata": {
        "id": "CibByRPPw0Vc"
      },
      "source": [
        "## MaralGPT-7B"
      ]
    },
    {
      "cell_type": "code",
      "execution_count": null,
      "metadata": {
        "id": "t8RLJ4sqw0Vc"
      },
      "outputs": [],
      "source": [
        "from transformers import AutoModelForCausalLM, AutoTokenizer, GenerationConfig\n",
        "\n",
        "model_name_or_id = \"MaralGPT/Maral-7B-alpha-1\"\n",
        "tokenizer = AutoTokenizer.from_pretrained(model_name_or_id)\n",
        "llm = AutoModelForCausalLM.from_pretrained(model_name_or_id, torch_dtype=torch.bfloat16, device_map=\"auto\")"
      ]
    },
    {
      "cell_type": "code",
      "execution_count": null,
      "metadata": {
        "id": "I9yaHzm1w0Vc"
      },
      "outputs": [],
      "source": [
        "from typing import Any, List, Mapping, Optional\n",
        "\n",
        "from langchain_core.callbacks.manager import CallbackManagerForLLMRun\n",
        "from langchain_core.language_models.llms import LLM\n",
        "\n",
        "\n",
        "class CustomLLM(LLM):\n",
        "\n",
        "    @property\n",
        "    def _llm_type(self) -> str:\n",
        "        return \"MistralForCausalLM\"\n",
        "\n",
        "    def _call(\n",
        "        self,\n",
        "        prompt: str,\n",
        "        stop: Optional[List[str]] = None,\n",
        "        run_manager: Optional[CallbackManagerForLLMRun] = None,\n",
        "        **kwargs: Any,\n",
        "    ) -> str:\n",
        "      inputs = tokenizer(prompt, return_tensors=\"pt\").to(\"cuda\")\n",
        "      outputs = llm.generate(**inputs, generation_config=generation_config)\n",
        "      return tokenizer.decode(outputs[0], skip_special_tokens=True)\n",
        "\n",
        "llm = CustomLLM()"
      ]
    },
    {
      "cell_type": "code",
      "execution_count": null,
      "metadata": {
        "id": "v9uiimNrw0Vc"
      },
      "outputs": [],
      "source": [
        "generation_config = GenerationConfig(\n",
        "    do_sample=True,\n",
        "    top_k=1,\n",
        "    temperature=0.5,\n",
        "    max_new_tokens=300,\n",
        "    pad_token_id=tokenizer.eos_token_id\n",
        ")\n",
        "def process_query(query):\n",
        "    results = find_relevant_results(query)\n",
        "    if len(results) == 0 or results[0][1] < 0.25:\n",
        "        return (\"اطلاعاتی که مرتبط با سوال شما باشد را در پایگاه دانش خود پیدا نکردم!\")\n",
        "    context = \"\\n\\n---\\n\\n\".join([doc.page_content for doc, _score in results])\n",
        "    prompt = prompt.format(context=context, question=query)\n",
        "    inputs = tokenizer(prompt, return_tensors=\"pt\").to(device)\n",
        "    outputs = llm.generate(**inputs, generation_config=generation_config)\n",
        "    return tokenizer.decode(outputs[0], skip_special_tokens=True)"
      ]
    },
    {
      "cell_type": "markdown",
      "metadata": {
        "id": "p8Ppq4-yw0Vc"
      },
      "source": [
        "## GPT 3.5-turbu"
      ]
    },
    {
      "cell_type": "code",
      "execution_count": null,
      "metadata": {
        "id": "6jPxOSr2w0Vc"
      },
      "outputs": [],
      "source": [
        "from langchain_openai import ChatOpenAI\n",
        "\n",
        "llm = ChatOpenAI(model_name=\"gpt-3.5-turbo\", temperature=0)"
      ]
    },
    {
      "cell_type": "markdown",
      "metadata": {
        "id": "oiPgyNNOw0Vd"
      },
      "source": [
        "## Create Prompt Template"
      ]
    },
    {
      "cell_type": "code",
      "execution_count": null,
      "metadata": {
        "id": "mvZadQyiw0Vd"
      },
      "outputs": [],
      "source": [
        "from langchain.prompts import ChatPromptTemplate\n",
        "\n",
        "PROMPT_TEMPLATE = \"\"\"\n",
        "فقط بر اساس متن زیر به سوال پاسخ دهید:\n",
        "\n",
        "{context}\n",
        "\n",
        "---\n",
        "\n",
        "با توجه به متن بالا به سوال پاسخ دهید:\n",
        "{question}\n",
        "\n",
        "پاسخ:\n",
        "\"\"\"\n",
        "\n",
        "prompt = ChatPromptTemplate.from_template(PROMPT_TEMPLATE)"
      ]
    },
    {
      "cell_type": "markdown",
      "metadata": {
        "id": "dcc5oH5kw0Vd"
      },
      "source": [
        "## Chain All Elements"
      ]
    },
    {
      "cell_type": "code",
      "execution_count": null,
      "metadata": {
        "id": "43IuE6Qfw0Vd"
      },
      "outputs": [],
      "source": [
        "retriever = db.as_retriever(search_type=\"similarity_score_threshold\", search_kwargs={\"score_threshold\": .25, \"k\": 3})"
      ]
    },
    {
      "cell_type": "code",
      "execution_count": null,
      "metadata": {
        "id": "aVwg2Ck4w0Vd"
      },
      "outputs": [],
      "source": [
        "from operator import itemgetter\n",
        "from langchain_core.runnables import RunnablePassthrough\n",
        "\n",
        "qa_chain = (\n",
        "    {\"context\": itemgetter(\"question\") | retriever, \"question\": itemgetter(\"question\")}\n",
        "    | RunnablePassthrough.assign(context=itemgetter(\"context\"))\n",
        "    | {\"response\": prompt | llm, \"context\": itemgetter(\"context\")}\n",
        ")"
      ]
    },
    {
      "cell_type": "markdown",
      "metadata": {
        "id": "AIy8spUrw0Vj"
      },
      "source": [
        "# Process a Single Question"
      ]
    },
    {
      "cell_type": "markdown",
      "metadata": {
        "id": "-_FslKGxw0Vj"
      },
      "source": [
        "## Serve in Gradio"
      ]
    },
    {
      "cell_type": "code",
      "execution_count": null,
      "metadata": {
        "id": "Gn4mny11w0Vj",
        "outputId": "b1aa77a2-70d5-4476-9f0e-9ea9cb9a4380"
      },
      "outputs": [
        {
          "name": "stdout",
          "output_type": "stream",
          "text": [
            "Setting queue=True in a Colab notebook requires sharing enabled. Setting `share=True` (you can turn this off by setting `share=False` in `launch()` explicitly).\n",
            "\n",
            "Colab notebook detected. To show errors in colab notebook, set debug=True in launch()\n",
            "Running on public URL: https://3e9c6ba962cf00ac5e.gradio.live\n",
            "\n",
            "This share link expires in 72 hours. For free permanent hosting and GPU upgrades, run `gradio deploy` from Terminal to deploy to Spaces (https://huggingface.co/spaces)\n"
          ]
        },
        {
          "data": {
            "text/html": [
              "<div><iframe src=\"https://3e9c6ba962cf00ac5e.gradio.live\" width=\"100%\" height=\"500\" allow=\"autoplay; camera; microphone; clipboard-read; clipboard-write;\" frameborder=\"0\" allowfullscreen></iframe></div>"
            ],
            "text/plain": [
              "<IPython.core.display.HTML object>"
            ]
          },
          "metadata": {},
          "output_type": "display_data"
        }
      ],
      "source": [
        "import gradio as gr\n",
        "\n",
        "def run_query(query):\n",
        "  resp = qa_chain.invoke({\"question\" : query})\n",
        "  return resp[\"response\"].content\n",
        "\n",
        "with gr.Blocks() as demo:\n",
        "    query = gr.Textbox(label=\"Question\", rtl=True, lines=5)\n",
        "    output = gr.Textbox(label=\"Answer\", rtl=True, lines=10)\n",
        "    greet_btn = gr.Button(\"Query\")\n",
        "    greet_btn.click(fn=run_query, inputs=query, outputs=output, api_name=\"run_query\")\n",
        "\n",
        "demo.launch();"
      ]
    },
    {
      "cell_type": "code",
      "execution_count": null,
      "metadata": {
        "id": "MA6_JCTVw0Vj",
        "outputId": "02013750-fb06-4082-852d-5e410f2306c8"
      },
      "outputs": [
        {
          "name": "stdout",
          "output_type": "stream",
          "text": [
            "Closing server running on port: 7860\n"
          ]
        }
      ],
      "source": [
        "demo.close()"
      ]
    },
    {
      "cell_type": "markdown",
      "metadata": {
        "id": "N_Ohr-FPw0Vk"
      },
      "source": [
        "# Evaluation"
      ]
    },
    {
      "cell_type": "code",
      "execution_count": null,
      "metadata": {
        "id": "l2m2-E7Iw0Vk"
      },
      "outputs": [],
      "source": [
        "# import locale\n",
        "# locale.getpreferredencoding = lambda: \"UTF-8\""
      ]
    },
    {
      "cell_type": "code",
      "execution_count": null,
      "metadata": {
        "id": "b5XKiaxxw0Vk"
      },
      "outputs": [],
      "source": [
        "!cp -r /content/drive/MyDrive/IRI_LAW/evaluation ./evaluation"
      ]
    },
    {
      "cell_type": "code",
      "execution_count": null,
      "metadata": {
        "id": "4yS231h8w0Vk",
        "outputId": "e3a166ff-f4d3-4929-8e9d-982ae5ec778c"
      },
      "outputs": [
        {
          "data": {
            "application/vnd.google.colaboratory.intrinsic+json": {
              "summary": "{\n  \"name\": \"df\",\n  \"rows\": 20,\n  \"fields\": [\n    {\n      \"column\": \"Question\",\n      \"properties\": {\n        \"dtype\": \"string\",\n        \"num_unique_values\": 20,\n        \"samples\": [\n          \"\\u0634\\u0631\\u0627\\u06cc\\u0637 \\u062a\\u0627\\u062c\\u0631 \\u0628\\u0648\\u062f\\u0646 \\u0686\\u06cc\\u0633\\u062a\\u061f\",\n          \"\\u062a\\u0627\\u062c\\u0631 \\u0628\\u0627\\u06cc\\u062f \\u0686\\u0647 \\u0627\\u0637\\u0644\\u0627\\u0639\\u0627\\u062a\\u06cc \\u0631\\u0627 \\u062f\\u0631 \\u0627\\u0633\\u0646\\u0627\\u062f \\u062e\\u0648\\u062f \\u0630\\u06a9\\u0631 \\u06a9\\u0646\\u062f\\u061f\",\n          \"\\u0686\\u0647 \\u06a9\\u0633\\u0627\\u0646\\u06cc \\u0628\\u0627\\u06cc\\u062f \\u0646\\u0627\\u0645 \\u062e\\u0648\\u062f \\u0631\\u0627 \\u062f\\u0631 \\u062f\\u0641\\u062a\\u0631 \\u062b\\u0628\\u062a \\u062a\\u062c\\u0627\\u0631\\u062a\\u06cc \\u0628\\u0647 \\u062b\\u0628\\u062a \\u0628\\u0631\\u0633\\u0627\\u0646\\u0646\\u062f\\u061f\"\n        ],\n        \"semantic_type\": \"\",\n        \"description\": \"\"\n      }\n    },\n    {\n      \"column\": \"Answer\",\n      \"properties\": {\n        \"dtype\": \"string\",\n        \"num_unique_values\": 20,\n        \"samples\": [\n          \"\\u062a\\u0627\\u062c\\u0631 \\u06a9\\u0633\\u06cc \\u0627\\u0633\\u062a \\u06a9\\u0647 \\u0634\\u063a\\u0644 \\u0645\\u0639\\u0645\\u0648\\u0644\\u06cc \\u062e\\u0648\\u062f \\u0631\\u0627 \\u0645\\u0639\\u0627\\u0645\\u0644\\u0627\\u062a \\u062a\\u062c\\u0627\\u0631\\u062a\\u06cc \\u0642\\u0631\\u0627\\u0631 \\u062f\\u0647\\u062f. (\\u0645\\u0627\\u062f\\u0647 1)\",\n          \"\\u062a\\u0635\\u0631\\u06cc\\u062d \\u0646\\u0645\\u0627\\u06cc\\u062f \\u06a9\\u0647 \\u062a\\u062d\\u062a \\u0686\\u0647 \\u0646\\u0645\\u0631\\u0647\\u200c\\u0627\\u06cc \\u0628\\u0647 \\u062b\\u0628\\u062a \\u0631\\u0633\\u06cc\\u062f\\u0647. (\\u0645\\u0627\\u062f\\u0647 18)\",\n          \"\\u06a9\\u0644\\u06cc\\u0647 \\u0627\\u0634\\u062e\\u0627\\u0635\\u06cc \\u06a9\\u0647 \\u0628\\u0647 \\u0634\\u063a\\u0644 \\u062a\\u062c\\u0627\\u0631\\u062a \\u0627\\u0634\\u062a\\u063a\\u0627\\u0644 \\u062f\\u0627\\u0631\\u0646\\u062f\\u060c \\u0627\\u0639\\u0645 \\u0627\\u0632 \\u0627\\u06cc\\u0631\\u0627\\u0646\\u06cc \\u0648 \\u062e\\u0627\\u0631\\u062c\\u06cc \\u0628\\u0627 \\u0627\\u0633\\u062a\\u062b\\u0646\\u0627\\u06cc \\u06a9\\u0633\\u0628\\u0647 \\u062c\\u0632\\u0621. (\\u0645\\u0627\\u062f\\u0647 16)\"\n        ],\n        \"semantic_type\": \"\",\n        \"description\": \"\"\n      }\n    }\n  ]\n}",
              "type": "dataframe",
              "variable_name": "df"
            },
            "text/html": [
              "\n",
              "  <div id=\"df-fd758116-3359-4c32-a2dc-ec4ab4cda545\" class=\"colab-df-container\">\n",
              "    <div>\n",
              "<style scoped>\n",
              "    .dataframe tbody tr th:only-of-type {\n",
              "        vertical-align: middle;\n",
              "    }\n",
              "\n",
              "    .dataframe tbody tr th {\n",
              "        vertical-align: top;\n",
              "    }\n",
              "\n",
              "    .dataframe thead th {\n",
              "        text-align: right;\n",
              "    }\n",
              "</style>\n",
              "<table border=\"1\" class=\"dataframe\">\n",
              "  <thead>\n",
              "    <tr style=\"text-align: right;\">\n",
              "      <th></th>\n",
              "      <th>Question</th>\n",
              "      <th>Answer</th>\n",
              "    </tr>\n",
              "  </thead>\n",
              "  <tbody>\n",
              "    <tr>\n",
              "      <th>0</th>\n",
              "      <td>شرایط تاجر بودن چیست؟</td>\n",
              "      <td>تاجر کسی است که شغل معمولی خود را معاملات تجار...</td>\n",
              "    </tr>\n",
              "    <tr>\n",
              "      <th>1</th>\n",
              "      <td>خرید یا تحصیل مال منقول برای چه منظوری جزء معا...</td>\n",
              "      <td>برای فروش یا اجاره، چه تصرفاتی در آن شده باشد ...</td>\n",
              "    </tr>\n",
              "    <tr>\n",
              "      <th>2</th>\n",
              "      <td>انواع عملیاتی که جزء معاملات تجارتی محسوب می‌ش...</td>\n",
              "      <td>عملیات دلالی، حق‌العمل‌کاری، عاملی و تأسیسات م...</td>\n",
              "    </tr>\n",
              "    <tr>\n",
              "      <th>3</th>\n",
              "      <td>تأسیس و به کار انداختن کارخانه تحت چه شرایطی ج...</td>\n",
              "      <td>برای رفع حوائج شخصی نباشد. (ماده 2)</td>\n",
              "    </tr>\n",
              "    <tr>\n",
              "      <th>4</th>\n",
              "      <td>چه نوع معاملاتی بین تجار و کسبه تجارتی محسوب م...</td>\n",
              "      <td>کلیه معاملات بین تجار و کسبه و صرافان و بانک‌ه...</td>\n",
              "    </tr>\n",
              "  </tbody>\n",
              "</table>\n",
              "</div>\n",
              "    <div class=\"colab-df-buttons\">\n",
              "\n",
              "  <div class=\"colab-df-container\">\n",
              "    <button class=\"colab-df-convert\" onclick=\"convertToInteractive('df-fd758116-3359-4c32-a2dc-ec4ab4cda545')\"\n",
              "            title=\"Convert this dataframe to an interactive table.\"\n",
              "            style=\"display:none;\">\n",
              "\n",
              "  <svg xmlns=\"http://www.w3.org/2000/svg\" height=\"24px\" viewBox=\"0 -960 960 960\">\n",
              "    <path d=\"M120-120v-720h720v720H120Zm60-500h600v-160H180v160Zm220 220h160v-160H400v160Zm0 220h160v-160H400v160ZM180-400h160v-160H180v160Zm440 0h160v-160H620v160ZM180-180h160v-160H180v160Zm440 0h160v-160H620v160Z\"/>\n",
              "  </svg>\n",
              "    </button>\n",
              "\n",
              "  <style>\n",
              "    .colab-df-container {\n",
              "      display:flex;\n",
              "      gap: 12px;\n",
              "    }\n",
              "\n",
              "    .colab-df-convert {\n",
              "      background-color: #E8F0FE;\n",
              "      border: none;\n",
              "      border-radius: 50%;\n",
              "      cursor: pointer;\n",
              "      display: none;\n",
              "      fill: #1967D2;\n",
              "      height: 32px;\n",
              "      padding: 0 0 0 0;\n",
              "      width: 32px;\n",
              "    }\n",
              "\n",
              "    .colab-df-convert:hover {\n",
              "      background-color: #E2EBFA;\n",
              "      box-shadow: 0px 1px 2px rgba(60, 64, 67, 0.3), 0px 1px 3px 1px rgba(60, 64, 67, 0.15);\n",
              "      fill: #174EA6;\n",
              "    }\n",
              "\n",
              "    .colab-df-buttons div {\n",
              "      margin-bottom: 4px;\n",
              "    }\n",
              "\n",
              "    [theme=dark] .colab-df-convert {\n",
              "      background-color: #3B4455;\n",
              "      fill: #D2E3FC;\n",
              "    }\n",
              "\n",
              "    [theme=dark] .colab-df-convert:hover {\n",
              "      background-color: #434B5C;\n",
              "      box-shadow: 0px 1px 3px 1px rgba(0, 0, 0, 0.15);\n",
              "      filter: drop-shadow(0px 1px 2px rgba(0, 0, 0, 0.3));\n",
              "      fill: #FFFFFF;\n",
              "    }\n",
              "  </style>\n",
              "\n",
              "    <script>\n",
              "      const buttonEl =\n",
              "        document.querySelector('#df-fd758116-3359-4c32-a2dc-ec4ab4cda545 button.colab-df-convert');\n",
              "      buttonEl.style.display =\n",
              "        google.colab.kernel.accessAllowed ? 'block' : 'none';\n",
              "\n",
              "      async function convertToInteractive(key) {\n",
              "        const element = document.querySelector('#df-fd758116-3359-4c32-a2dc-ec4ab4cda545');\n",
              "        const dataTable =\n",
              "          await google.colab.kernel.invokeFunction('convertToInteractive',\n",
              "                                                    [key], {});\n",
              "        if (!dataTable) return;\n",
              "\n",
              "        const docLinkHtml = 'Like what you see? Visit the ' +\n",
              "          '<a target=\"_blank\" href=https://colab.research.google.com/notebooks/data_table.ipynb>data table notebook</a>'\n",
              "          + ' to learn more about interactive tables.';\n",
              "        element.innerHTML = '';\n",
              "        dataTable['output_type'] = 'display_data';\n",
              "        await google.colab.output.renderOutput(dataTable, element);\n",
              "        const docLink = document.createElement('div');\n",
              "        docLink.innerHTML = docLinkHtml;\n",
              "        element.appendChild(docLink);\n",
              "      }\n",
              "    </script>\n",
              "  </div>\n",
              "\n",
              "\n",
              "<div id=\"df-aeab2e4b-2d77-4456-a25f-05e85a31d9b2\">\n",
              "  <button class=\"colab-df-quickchart\" onclick=\"quickchart('df-aeab2e4b-2d77-4456-a25f-05e85a31d9b2')\"\n",
              "            title=\"Suggest charts\"\n",
              "            style=\"display:none;\">\n",
              "\n",
              "<svg xmlns=\"http://www.w3.org/2000/svg\" height=\"24px\"viewBox=\"0 0 24 24\"\n",
              "     width=\"24px\">\n",
              "    <g>\n",
              "        <path d=\"M19 3H5c-1.1 0-2 .9-2 2v14c0 1.1.9 2 2 2h14c1.1 0 2-.9 2-2V5c0-1.1-.9-2-2-2zM9 17H7v-7h2v7zm4 0h-2V7h2v10zm4 0h-2v-4h2v4z\"/>\n",
              "    </g>\n",
              "</svg>\n",
              "  </button>\n",
              "\n",
              "<style>\n",
              "  .colab-df-quickchart {\n",
              "      --bg-color: #E8F0FE;\n",
              "      --fill-color: #1967D2;\n",
              "      --hover-bg-color: #E2EBFA;\n",
              "      --hover-fill-color: #174EA6;\n",
              "      --disabled-fill-color: #AAA;\n",
              "      --disabled-bg-color: #DDD;\n",
              "  }\n",
              "\n",
              "  [theme=dark] .colab-df-quickchart {\n",
              "      --bg-color: #3B4455;\n",
              "      --fill-color: #D2E3FC;\n",
              "      --hover-bg-color: #434B5C;\n",
              "      --hover-fill-color: #FFFFFF;\n",
              "      --disabled-bg-color: #3B4455;\n",
              "      --disabled-fill-color: #666;\n",
              "  }\n",
              "\n",
              "  .colab-df-quickchart {\n",
              "    background-color: var(--bg-color);\n",
              "    border: none;\n",
              "    border-radius: 50%;\n",
              "    cursor: pointer;\n",
              "    display: none;\n",
              "    fill: var(--fill-color);\n",
              "    height: 32px;\n",
              "    padding: 0;\n",
              "    width: 32px;\n",
              "  }\n",
              "\n",
              "  .colab-df-quickchart:hover {\n",
              "    background-color: var(--hover-bg-color);\n",
              "    box-shadow: 0 1px 2px rgba(60, 64, 67, 0.3), 0 1px 3px 1px rgba(60, 64, 67, 0.15);\n",
              "    fill: var(--button-hover-fill-color);\n",
              "  }\n",
              "\n",
              "  .colab-df-quickchart-complete:disabled,\n",
              "  .colab-df-quickchart-complete:disabled:hover {\n",
              "    background-color: var(--disabled-bg-color);\n",
              "    fill: var(--disabled-fill-color);\n",
              "    box-shadow: none;\n",
              "  }\n",
              "\n",
              "  .colab-df-spinner {\n",
              "    border: 2px solid var(--fill-color);\n",
              "    border-color: transparent;\n",
              "    border-bottom-color: var(--fill-color);\n",
              "    animation:\n",
              "      spin 1s steps(1) infinite;\n",
              "  }\n",
              "\n",
              "  @keyframes spin {\n",
              "    0% {\n",
              "      border-color: transparent;\n",
              "      border-bottom-color: var(--fill-color);\n",
              "      border-left-color: var(--fill-color);\n",
              "    }\n",
              "    20% {\n",
              "      border-color: transparent;\n",
              "      border-left-color: var(--fill-color);\n",
              "      border-top-color: var(--fill-color);\n",
              "    }\n",
              "    30% {\n",
              "      border-color: transparent;\n",
              "      border-left-color: var(--fill-color);\n",
              "      border-top-color: var(--fill-color);\n",
              "      border-right-color: var(--fill-color);\n",
              "    }\n",
              "    40% {\n",
              "      border-color: transparent;\n",
              "      border-right-color: var(--fill-color);\n",
              "      border-top-color: var(--fill-color);\n",
              "    }\n",
              "    60% {\n",
              "      border-color: transparent;\n",
              "      border-right-color: var(--fill-color);\n",
              "    }\n",
              "    80% {\n",
              "      border-color: transparent;\n",
              "      border-right-color: var(--fill-color);\n",
              "      border-bottom-color: var(--fill-color);\n",
              "    }\n",
              "    90% {\n",
              "      border-color: transparent;\n",
              "      border-bottom-color: var(--fill-color);\n",
              "    }\n",
              "  }\n",
              "</style>\n",
              "\n",
              "  <script>\n",
              "    async function quickchart(key) {\n",
              "      const quickchartButtonEl =\n",
              "        document.querySelector('#' + key + ' button');\n",
              "      quickchartButtonEl.disabled = true;  // To prevent multiple clicks.\n",
              "      quickchartButtonEl.classList.add('colab-df-spinner');\n",
              "      try {\n",
              "        const charts = await google.colab.kernel.invokeFunction(\n",
              "            'suggestCharts', [key], {});\n",
              "      } catch (error) {\n",
              "        console.error('Error during call to suggestCharts:', error);\n",
              "      }\n",
              "      quickchartButtonEl.classList.remove('colab-df-spinner');\n",
              "      quickchartButtonEl.classList.add('colab-df-quickchart-complete');\n",
              "    }\n",
              "    (() => {\n",
              "      let quickchartButtonEl =\n",
              "        document.querySelector('#df-aeab2e4b-2d77-4456-a25f-05e85a31d9b2 button');\n",
              "      quickchartButtonEl.style.display =\n",
              "        google.colab.kernel.accessAllowed ? 'block' : 'none';\n",
              "    })();\n",
              "  </script>\n",
              "</div>\n",
              "    </div>\n",
              "  </div>\n"
            ],
            "text/plain": [
              "                                            Question  \\\n",
              "0                              شرایط تاجر بودن چیست؟   \n",
              "1  خرید یا تحصیل مال منقول برای چه منظوری جزء معا...   \n",
              "2  انواع عملیاتی که جزء معاملات تجارتی محسوب می‌ش...   \n",
              "3  تأسیس و به کار انداختن کارخانه تحت چه شرایطی ج...   \n",
              "4  چه نوع معاملاتی بین تجار و کسبه تجارتی محسوب م...   \n",
              "\n",
              "                                              Answer  \n",
              "0  تاجر کسی است که شغل معمولی خود را معاملات تجار...  \n",
              "1  برای فروش یا اجاره، چه تصرفاتی در آن شده باشد ...  \n",
              "2  عملیات دلالی، حق‌العمل‌کاری، عاملی و تأسیسات م...  \n",
              "3                برای رفع حوائج شخصی نباشد. (ماده 2)  \n",
              "4  کلیه معاملات بین تجار و کسبه و صرافان و بانک‌ه...  "
            ]
          },
          "metadata": {},
          "output_type": "display_data"
        }
      ],
      "source": [
        "import pandas as pd\n",
        "\n",
        "BUSSINESS_LAW_PATH = './evaluation/business_law/easy.csv'\n",
        "df = pd.read_csv(BUSSINESS_LAW_PATH)\n",
        "df.head()"
      ]
    },
    {
      "cell_type": "code",
      "execution_count": null,
      "metadata": {
        "id": "xnqepD-Nw0Vk"
      },
      "outputs": [],
      "source": [
        "test_questions = df[\"Question\"].values.tolist()\n",
        "test_groundtruths = df[\"Answer\"].values.tolist()"
      ]
    },
    {
      "cell_type": "code",
      "execution_count": null,
      "metadata": {
        "id": "n3uT-wcaw0Vl",
        "outputId": "dc79f5fd-2a96-4328-ac0b-53baff911bf4"
      },
      "outputs": [
        {
          "name": "stderr",
          "output_type": "stream",
          "text": [
            "Processing:  35%|███▌      | 7/20 [00:12<00:23,  1.80s/it]/usr/local/lib/python3.10/dist-packages/langchain_core/vectorstores.py:343: UserWarning: No relevant docs were retrieved using the relevance score threshold 0.25\n",
            "  warnings.warn(\n",
            "Processing:  65%|██████▌   | 13/20 [00:23<00:13,  1.96s/it]/usr/local/lib/python3.10/dist-packages/langchain_core/vectorstores.py:343: UserWarning: No relevant docs were retrieved using the relevance score threshold 0.25\n",
            "  warnings.warn(\n",
            "Processing:  90%|█████████ | 18/20 [00:32<00:04,  2.22s/it]/usr/local/lib/python3.10/dist-packages/langchain_core/vectorstores.py:343: UserWarning: No relevant docs were retrieved using the relevance score threshold 0.25\n",
            "  warnings.warn(\n",
            "Processing: 100%|██████████| 20/20 [00:36<00:00,  1.81s/it]\n"
          ]
        }
      ],
      "source": [
        "from tqdm import tqdm\n",
        "\n",
        "answers = []\n",
        "contexts = []\n",
        "\n",
        "for question in tqdm(test_questions, desc='Processing'):\n",
        "  response = qa_chain.invoke({\"question\" : question})\n",
        "  answers.append(response[\"response\"].content)\n",
        "  contexts.append([context.page_content for context in response[\"context\"]])"
      ]
    },
    {
      "cell_type": "code",
      "execution_count": null,
      "metadata": {
        "id": "g6BXoVudw0Vl"
      },
      "outputs": [],
      "source": [
        "from datasets import Dataset\n",
        "\n",
        "response_dataset = Dataset.from_dict({\n",
        "    \"question\" : test_questions,\n",
        "    \"answer\" : answers,\n",
        "    \"contexts\" : contexts,\n",
        "    \"ground_truth\" : test_groundtruths\n",
        "})"
      ]
    },
    {
      "cell_type": "code",
      "execution_count": null,
      "metadata": {
        "id": "58RhOCJWw0Vl"
      },
      "outputs": [],
      "source": [
        "from ragas import evaluate\n",
        "from ragas.metrics import (\n",
        "    faithfulness,\n",
        "    answer_relevancy,\n",
        "    answer_correctness,\n",
        "    context_recall,\n",
        "    context_precision,\n",
        ")\n",
        "\n",
        "metrics = [\n",
        "    faithfulness,\n",
        "    answer_relevancy,\n",
        "    context_recall,\n",
        "    context_precision,\n",
        "    answer_correctness,\n",
        "]"
      ]
    },
    {
      "cell_type": "code",
      "execution_count": null,
      "metadata": {
        "colab": {
          "referenced_widgets": [
            "b1ab5c8617044a6a9554f03dc9f376cd"
          ]
        },
        "id": "yxvfqLqiw0Vl",
        "outputId": "166dc0d6-825e-4ab4-e547-0853850e3cd2"
      },
      "outputs": [
        {
          "data": {
            "application/vnd.jupyter.widget-view+json": {
              "model_id": "b1ab5c8617044a6a9554f03dc9f376cd",
              "version_major": 2,
              "version_minor": 0
            },
            "text/plain": [
              "Evaluating:   0%|          | 0/100 [00:00<?, ?it/s]"
            ]
          },
          "metadata": {},
          "output_type": "display_data"
        }
      ],
      "source": [
        "results = evaluate(response_dataset, metrics)"
      ]
    },
    {
      "cell_type": "code",
      "execution_count": null,
      "metadata": {
        "id": "UG1l0qnqw0Vl",
        "outputId": "b2438fa7-a6c0-4c54-d167-99a04141beb0"
      },
      "outputs": [
        {
          "data": {
            "text/plain": [
              "{'faithfulness': 0.7367, 'answer_relevancy': 0.8038, 'context_recall': 0.8108, 'context_precision': 0.5458, 'answer_correctness': 0.6188}"
            ]
          },
          "metadata": {},
          "output_type": "display_data"
        }
      ],
      "source": [
        "results"
      ]
    },
    {
      "cell_type": "code",
      "execution_count": null,
      "metadata": {
        "id": "3Z-j75BBw0Vm",
        "outputId": "0fdea94d-f290-4a3c-c985-c46d8b9d2bc9"
      },
      "outputs": [
        {
          "data": {
            "application/vnd.google.colaboratory.intrinsic+json": {
              "summary": "{\n  \"name\": \"res_pd\",\n  \"rows\": 20,\n  \"fields\": [\n    {\n      \"column\": \"question\",\n      \"properties\": {\n        \"dtype\": \"string\",\n        \"num_unique_values\": 20,\n        \"samples\": [\n          \"\\u0634\\u0631\\u0627\\u06cc\\u0637 \\u062a\\u0627\\u062c\\u0631 \\u0628\\u0648\\u062f\\u0646 \\u0686\\u06cc\\u0633\\u062a\\u061f\",\n          \"\\u062a\\u0627\\u062c\\u0631 \\u0628\\u0627\\u06cc\\u062f \\u0686\\u0647 \\u0627\\u0637\\u0644\\u0627\\u0639\\u0627\\u062a\\u06cc \\u0631\\u0627 \\u062f\\u0631 \\u0627\\u0633\\u0646\\u0627\\u062f \\u062e\\u0648\\u062f \\u0630\\u06a9\\u0631 \\u06a9\\u0646\\u062f\\u061f\",\n          \"\\u0686\\u0647 \\u06a9\\u0633\\u0627\\u0646\\u06cc \\u0628\\u0627\\u06cc\\u062f \\u0646\\u0627\\u0645 \\u062e\\u0648\\u062f \\u0631\\u0627 \\u062f\\u0631 \\u062f\\u0641\\u062a\\u0631 \\u062b\\u0628\\u062a \\u062a\\u062c\\u0627\\u0631\\u062a\\u06cc \\u0628\\u0647 \\u062b\\u0628\\u062a \\u0628\\u0631\\u0633\\u0627\\u0646\\u0646\\u062f\\u061f\"\n        ],\n        \"semantic_type\": \"\",\n        \"description\": \"\"\n      }\n    },\n    {\n      \"column\": \"answer\",\n      \"properties\": {\n        \"dtype\": \"string\",\n        \"num_unique_values\": 20,\n        \"samples\": [\n          \"\\u0634\\u0631\\u0627\\u06cc\\u0637 \\u062a\\u0627\\u062c\\u0631 \\u0628\\u0648\\u062f\\u0646 \\u0634\\u0627\\u0645\\u0644 \\u0627\\u0646\\u062c\\u0627\\u0645 \\u0645\\u0639\\u0627\\u0645\\u0644\\u0627\\u062a \\u062a\\u062c\\u0627\\u0631\\u06cc \\u0628\\u0647 \\u0635\\u0648\\u0631\\u062a \\u0634\\u063a\\u0644 \\u0645\\u0639\\u0645\\u0648\\u0644\\u06cc\\u060c \\u0627\\u0646\\u062c\\u0627\\u0645 \\u0645\\u0639\\u0627\\u0645\\u0644\\u0627\\u062a \\u0628\\u0627 \\u062a\\u062c\\u0627\\u0631\\u060c \\u06a9\\u0633\\u0628\\u0647\\u060c \\u0635\\u0631\\u0627\\u0641\\u0627\\u0646\\u060c \\u0628\\u0627\\u0646\\u06a9\\u200c\\u0647\\u0627\\u060c \\u0627\\u0646\\u062c\\u0627\\u0645 \\u0645\\u0639\\u0627\\u0645\\u0644\\u0627\\u062a \\u0628\\u0631\\u0627\\u06cc \\u062d\\u0648\\u0627\\u0626\\u062c \\u062a\\u062c\\u0627\\u0631\\u062a\\u06cc \\u062e\\u0648\\u062f \\u06cc\\u0627 \\u0627\\u0645\\u0648\\u0631 \\u062a\\u062c\\u0627\\u0631\\u062a\\u06cc \\u0627\\u0631\\u0628\\u0627\\u0628 \\u062e\\u0648\\u062f\\u060c \\u0648 \\u0634\\u0631\\u06a9\\u062a \\u062f\\u0631 \\u0645\\u0639\\u0627\\u0645\\u0644\\u0627\\u062a \\u0634\\u0631\\u06a9\\u062a\\u200c\\u0647\\u0627\\u06cc \\u062a\\u062c\\u0627\\u0631\\u062a\\u06cc \\u0645\\u06cc\\u200c\\u0628\\u0627\\u0634\\u062f.\",\n          \"\\u062a\\u0627\\u062c\\u0631 \\u0628\\u0627\\u06cc\\u062f \\u06a9\\u0644\\u06cc\\u0647 \\u0645\\u0631\\u0627\\u0633\\u0644\\u0627\\u062a\\u060c \\u0645\\u062e\\u0627\\u0628\\u0631\\u0627\\u062a\\u060c \\u0635\\u0648\\u0631\\u062a\\u062d\\u0633\\u0627\\u0628\\u0647\\u0627\\u06cc \\u0635\\u0627\\u062f\\u0631\\u0647 \\u0648 \\u0648\\u0627\\u0631\\u062f\\u0647\\u060c \\u0645\\u0637\\u0627\\u0644\\u0628\\u0627\\u062a\\u060c \\u062f\\u06cc\\u0648\\u0646\\u060c \\u062f\\u0627\\u062f \\u0648 \\u0633\\u062a\\u062f \\u062a\\u062c\\u0627\\u0631\\u062a\\u06cc\\u060c \\u0645\\u0639\\u0627\\u0645\\u0644\\u0627\\u062a \\u0631\\u0627\\u062c\\u0639 \\u0628\\u0647 \\u0627\\u0648\\u0631\\u0627\\u0642 \\u062a\\u062c\\u0627\\u0631\\u062a\\u06cc\\u060c \\u0648 \\u062c\\u0645\\u06cc\\u0639 \\u0648\\u0627\\u0631\\u062f\\u0627\\u062a \\u0648 \\u0635\\u0627\\u062f\\u0631\\u0627\\u062a \\u062a\\u062c\\u0627\\u0631\\u062a\\u06cc \\u062e\\u0648\\u062f \\u0631\\u0627 \\u062f\\u0631 \\u0627\\u0633\\u0646\\u0627\\u062f \\u062e\\u0648\\u062f \\u062b\\u0628\\u062a \\u06a9\\u0646\\u062f.\",\n          \"\\u06a9\\u0644\\u06cc\\u0647 \\u0627\\u0634\\u062e\\u0627\\u0635\\u06cc \\u06a9\\u0647 \\u062f\\u0631 \\u0646\\u0642\\u0627\\u0637 \\u0628\\u0634\\u063a\\u0644 \\u062a\\u062c\\u0627\\u0631\\u062a \\u0627\\u0634\\u062a\\u063a\\u0627\\u0644 \\u062f\\u0627\\u0631\\u0646\\u062f \\u0627\\u0639\\u0645\\u0627\\u0632 \\u0627\\u06cc\\u0631\\u0627\\u0646\\u06cc \\u0648 \\u062e\\u0627\\u0631\\u062c\\u06cc \\u0628\\u0627 \\u0627\\u0633\\u062a\\u062b\\u0646\\u0627\\u06cc \\u06a9\\u0633\\u0628\\u0647 \\u062c\\u0632\\u0621 \\u0628\\u0627\\u06cc\\u062f \\u0646\\u0627\\u0645 \\u062e\\u0648\\u062f \\u0631\\u0627 \\u062f\\u0631 \\u062f\\u0641\\u062a\\u0631 \\u062b\\u0628\\u062a \\u062a\\u062c\\u0627\\u0631\\u062a\\u06cc \\u0628\\u0647 \\u062b\\u0628\\u062a \\u0628\\u0631\\u0633\\u0627\\u0646\\u0646\\u062f.\"\n        ],\n        \"semantic_type\": \"\",\n        \"description\": \"\"\n      }\n    },\n    {\n      \"column\": \"contexts\",\n      \"properties\": {\n        \"dtype\": \"object\",\n        \"semantic_type\": \"\",\n        \"description\": \"\"\n      }\n    },\n    {\n      \"column\": \"ground_truth\",\n      \"properties\": {\n        \"dtype\": \"string\",\n        \"num_unique_values\": 20,\n        \"samples\": [\n          \"\\u062a\\u0627\\u062c\\u0631 \\u06a9\\u0633\\u06cc \\u0627\\u0633\\u062a \\u06a9\\u0647 \\u0634\\u063a\\u0644 \\u0645\\u0639\\u0645\\u0648\\u0644\\u06cc \\u062e\\u0648\\u062f \\u0631\\u0627 \\u0645\\u0639\\u0627\\u0645\\u0644\\u0627\\u062a \\u062a\\u062c\\u0627\\u0631\\u062a\\u06cc \\u0642\\u0631\\u0627\\u0631 \\u062f\\u0647\\u062f. (\\u0645\\u0627\\u062f\\u0647 1)\",\n          \"\\u062a\\u0635\\u0631\\u06cc\\u062d \\u0646\\u0645\\u0627\\u06cc\\u062f \\u06a9\\u0647 \\u062a\\u062d\\u062a \\u0686\\u0647 \\u0646\\u0645\\u0631\\u0647\\u200c\\u0627\\u06cc \\u0628\\u0647 \\u062b\\u0628\\u062a \\u0631\\u0633\\u06cc\\u062f\\u0647. (\\u0645\\u0627\\u062f\\u0647 18)\",\n          \"\\u06a9\\u0644\\u06cc\\u0647 \\u0627\\u0634\\u062e\\u0627\\u0635\\u06cc \\u06a9\\u0647 \\u0628\\u0647 \\u0634\\u063a\\u0644 \\u062a\\u062c\\u0627\\u0631\\u062a \\u0627\\u0634\\u062a\\u063a\\u0627\\u0644 \\u062f\\u0627\\u0631\\u0646\\u062f\\u060c \\u0627\\u0639\\u0645 \\u0627\\u0632 \\u0627\\u06cc\\u0631\\u0627\\u0646\\u06cc \\u0648 \\u062e\\u0627\\u0631\\u062c\\u06cc \\u0628\\u0627 \\u0627\\u0633\\u062a\\u062b\\u0646\\u0627\\u06cc \\u06a9\\u0633\\u0628\\u0647 \\u062c\\u0632\\u0621. (\\u0645\\u0627\\u062f\\u0647 16)\"\n        ],\n        \"semantic_type\": \"\",\n        \"description\": \"\"\n      }\n    },\n    {\n      \"column\": \"faithfulness\",\n      \"properties\": {\n        \"dtype\": \"number\",\n        \"std\": 0.4064070209367287,\n        \"min\": 0.0,\n        \"max\": 1.0,\n        \"num_unique_values\": 5,\n        \"samples\": [\n          1.0,\n          0.75,\n          0.5\n        ],\n        \"semantic_type\": \"\",\n        \"description\": \"\"\n      }\n    },\n    {\n      \"column\": \"answer_relevancy\",\n      \"properties\": {\n        \"dtype\": \"number\",\n        \"std\": 0.28073075782664325,\n        \"min\": 0.0,\n        \"max\": 0.9662487551828528,\n        \"num_unique_values\": 19,\n        \"samples\": [\n          0.9662487551828528,\n          0.7485759065142714,\n          0.8584852704944277\n        ],\n        \"semantic_type\": \"\",\n        \"description\": \"\"\n      }\n    },\n    {\n      \"column\": \"context_recall\",\n      \"properties\": {\n        \"dtype\": \"number\",\n        \"std\": 0.36258796069335525,\n        \"min\": 0.0,\n        \"max\": 1.0,\n        \"num_unique_values\": 5,\n        \"samples\": [\n          0.0,\n          0.8,\n          0.75\n        ],\n        \"semantic_type\": \"\",\n        \"description\": \"\"\n      }\n    },\n    {\n      \"column\": \"context_precision\",\n      \"properties\": {\n        \"dtype\": \"number\",\n        \"std\": 0.43886066602935014,\n        \"min\": 0.0,\n        \"max\": 0.9999999999666667,\n        \"num_unique_values\": 8,\n        \"samples\": [\n          0.3333333333,\n          0.8333333332916666,\n          0.99999999995\n        ],\n        \"semantic_type\": \"\",\n        \"description\": \"\"\n      }\n    },\n    {\n      \"column\": \"answer_correctness\",\n      \"properties\": {\n        \"dtype\": \"number\",\n        \"std\": 0.22291996658391347,\n        \"min\": 0.2026679401801625,\n        \"max\": 0.8955666603237435,\n        \"num_unique_values\": 20,\n        \"samples\": [\n          0.8955666603237435,\n          0.21174374051518427,\n          0.7380315127412701\n        ],\n        \"semantic_type\": \"\",\n        \"description\": \"\"\n      }\n    }\n  ]\n}",
              "type": "dataframe",
              "variable_name": "res_pd"
            },
            "text/html": [
              "\n",
              "  <div id=\"df-2e210f80-3347-4843-832c-f6e6b8160d41\" class=\"colab-df-container\">\n",
              "    <div>\n",
              "<style scoped>\n",
              "    .dataframe tbody tr th:only-of-type {\n",
              "        vertical-align: middle;\n",
              "    }\n",
              "\n",
              "    .dataframe tbody tr th {\n",
              "        vertical-align: top;\n",
              "    }\n",
              "\n",
              "    .dataframe thead th {\n",
              "        text-align: right;\n",
              "    }\n",
              "</style>\n",
              "<table border=\"1\" class=\"dataframe\">\n",
              "  <thead>\n",
              "    <tr style=\"text-align: right;\">\n",
              "      <th></th>\n",
              "      <th>question</th>\n",
              "      <th>answer</th>\n",
              "      <th>contexts</th>\n",
              "      <th>ground_truth</th>\n",
              "      <th>faithfulness</th>\n",
              "      <th>answer_relevancy</th>\n",
              "      <th>context_recall</th>\n",
              "      <th>context_precision</th>\n",
              "      <th>answer_correctness</th>\n",
              "    </tr>\n",
              "  </thead>\n",
              "  <tbody>\n",
              "    <tr>\n",
              "      <th>0</th>\n",
              "      <td>شرایط تاجر بودن چیست؟</td>\n",
              "      <td>شرایط تاجر بودن شامل انجام معاملات تجاری به صو...</td>\n",
              "      <td>[ماده 1 - تاجر كسي است كه شغل معمولي خود را مع...</td>\n",
              "      <td>تاجر کسی است که شغل معمولی خود را معاملات تجار...</td>\n",
              "      <td>0.00</td>\n",
              "      <td>0.966249</td>\n",
              "      <td>1.000000</td>\n",
              "      <td>1.000000</td>\n",
              "      <td>0.895567</td>\n",
              "    </tr>\n",
              "    <tr>\n",
              "      <th>1</th>\n",
              "      <td>خرید یا تحصیل مال منقول برای چه منظوری جزء معا...</td>\n",
              "      <td>خرید یا تحصیل مال منقول برای منظور فروش یا اجا...</td>\n",
              "      <td>[ماده 4 - معاملات غير منقول بهيچوجه تجارتي محس...</td>\n",
              "      <td>برای فروش یا اجاره، چه تصرفاتی در آن شده باشد ...</td>\n",
              "      <td>1.00</td>\n",
              "      <td>0.918036</td>\n",
              "      <td>1.000000</td>\n",
              "      <td>0.333333</td>\n",
              "      <td>0.728639</td>\n",
              "    </tr>\n",
              "    <tr>\n",
              "      <th>2</th>\n",
              "      <td>انواع عملیاتی که جزء معاملات تجارتی محسوب می‌ش...</td>\n",
              "      <td>همه معاملات تجارتی محسوب می‌شوند مگر اینکه ثاب...</td>\n",
              "      <td>[ماده 4 - معاملات غير منقول بهيچوجه تجارتي محس...</td>\n",
              "      <td>عملیات دلالی، حق‌العمل‌کاری، عاملی و تأسیسات م...</td>\n",
              "      <td>0.50</td>\n",
              "      <td>0.892479</td>\n",
              "      <td>1.000000</td>\n",
              "      <td>0.333333</td>\n",
              "      <td>0.857541</td>\n",
              "    </tr>\n",
              "    <tr>\n",
              "      <th>3</th>\n",
              "      <td>تأسیس و به کار انداختن کارخانه تحت چه شرایطی ج...</td>\n",
              "      <td>تأسیس و به کار انداختن کارخانه جزء معاملات تجا...</td>\n",
              "      <td>[ماده 1 - تاجر كسي است كه شغل معمولي خود را مع...</td>\n",
              "      <td>برای رفع حوائج شخصی نباشد. (ماده 2)</td>\n",
              "      <td>0.00</td>\n",
              "      <td>0.926233</td>\n",
              "      <td>0.000000</td>\n",
              "      <td>0.000000</td>\n",
              "      <td>0.706671</td>\n",
              "    </tr>\n",
              "    <tr>\n",
              "      <th>4</th>\n",
              "      <td>چه نوع معاملاتی بین تجار و کسبه تجارتی محسوب م...</td>\n",
              "      <td>کلیه معاملات بین تجار و کسبه تجارتی محسوب می‌شود.</td>\n",
              "      <td>[ماده 3 - معاملات ذيل باعتبار تاجر بودن متعامل...</td>\n",
              "      <td>کلیه معاملات بین تجار و کسبه و صرافان و بانک‌ه...</td>\n",
              "      <td>NaN</td>\n",
              "      <td>0.945362</td>\n",
              "      <td>1.000000</td>\n",
              "      <td>1.000000</td>\n",
              "      <td>0.737230</td>\n",
              "    </tr>\n",
              "    <tr>\n",
              "      <th>5</th>\n",
              "      <td>دفاتری که تاجر باید داشته باشد کدامند؟</td>\n",
              "      <td>1. دفتر روزنامه\\n2. دفتر کپیه</td>\n",
              "      <td>[ماده 438 - انبارها و حجرهها و صندوق و اسناد و...</td>\n",
              "      <td>دفتر روزنامه، دفتر کل، دفتر دارایی، و دفتر کپی...</td>\n",
              "      <td>1.00</td>\n",
              "      <td>0.748576</td>\n",
              "      <td>0.750000</td>\n",
              "      <td>1.000000</td>\n",
              "      <td>0.732888</td>\n",
              "    </tr>\n",
              "    <tr>\n",
              "      <th>6</th>\n",
              "      <td>دفتر روزنامه چه نوع اطلاعاتی را باید ثبت کند؟</td>\n",
              "      <td>دفتر روزنامه باید همه روزه مطالبات و دیون و دا...</td>\n",
              "      <td>[ماده 7 - دفتر روزنامه دفتري است كه تاجر بايد ...</td>\n",
              "      <td>مطالبات، دیون، داد و ستد تجارتی و معاملات راجع...</td>\n",
              "      <td>1.00</td>\n",
              "      <td>0.811721</td>\n",
              "      <td>1.000000</td>\n",
              "      <td>1.000000</td>\n",
              "      <td>0.728294</td>\n",
              "    </tr>\n",
              "    <tr>\n",
              "      <th>7</th>\n",
              "      <td>دفتر کل چگونه باید تنظیم شود؟</td>\n",
              "      <td>باید تنظیم شود.</td>\n",
              "      <td>[]</td>\n",
              "      <td>کلیه معاملات را لااقل هفته یک مرتبه از دفتر رو...</td>\n",
              "      <td>NaN</td>\n",
              "      <td>0.000000</td>\n",
              "      <td>1.000000</td>\n",
              "      <td>0.000000</td>\n",
              "      <td>0.205245</td>\n",
              "    </tr>\n",
              "    <tr>\n",
              "      <th>8</th>\n",
              "      <td>دفتر دارایی چه اطلاعاتی را شامل می‌شود؟</td>\n",
              "      <td>دفتر دارایی شامل اسناد، نوشتجات، اسباب و اثاثی...</td>\n",
              "      <td>[ماده 438 - انبارها و حجرهها و صندوق و اسناد و...</td>\n",
              "      <td>صورت جامعی از کلیه دارایی منقول و غیر منقول و ...</td>\n",
              "      <td>1.00</td>\n",
              "      <td>0.950056</td>\n",
              "      <td>0.000000</td>\n",
              "      <td>0.000000</td>\n",
              "      <td>0.213697</td>\n",
              "    </tr>\n",
              "    <tr>\n",
              "      <th>9</th>\n",
              "      <td>نحوه ثبت مراسلات و مخابرات در دفتر کپیه چگونه ...</td>\n",
              "      <td>مراسلات و مخابرات باید توسط تاجر در دفتر کپیه ...</td>\n",
              "      <td>[ماده 10 - دفتر كپيه دفتري است كه تاجر بايد كل...</td>\n",
              "      <td>کلیه مراسلات و مخابرات و صورت‌حساب‌های صادره ب...</td>\n",
              "      <td>1.00</td>\n",
              "      <td>0.901492</td>\n",
              "      <td>1.000000</td>\n",
              "      <td>1.000000</td>\n",
              "      <td>0.733164</td>\n",
              "    </tr>\n",
              "    <tr>\n",
              "      <th>10</th>\n",
              "      <td>قبل از استفاده، کدام دفاتر باید توسط نماینده ا...</td>\n",
              "      <td>دفاتری که برای امضاء به متصدی امضاء تسلیم می‌ش...</td>\n",
              "      <td>[ماده 438 - انبارها و حجرهها و صندوق و اسناد و...</td>\n",
              "      <td>دفاتر مذکور در ماده 6 به استثناء دفتر کپیه. (م...</td>\n",
              "      <td>1.00</td>\n",
              "      <td>0.894511</td>\n",
              "      <td>1.000000</td>\n",
              "      <td>1.000000</td>\n",
              "      <td>0.714213</td>\n",
              "    </tr>\n",
              "    <tr>\n",
              "      <th>11</th>\n",
              "      <td>چه مواردی در دفتری که برای امضا به متصدی امضا ...</td>\n",
              "      <td>1. دارا بودن نمره ترتیبی و قیطان کشیده\\n2. شمر...</td>\n",
              "      <td>[ماده 12 - دفتري كه براي امضاء بمتصدي امضاء تس...</td>\n",
              "      <td>دارای نمره ترتیبی و قیطان کشیده باشد و صفحات آ...</td>\n",
              "      <td>0.80</td>\n",
              "      <td>0.858485</td>\n",
              "      <td>0.666667</td>\n",
              "      <td>0.833333</td>\n",
              "      <td>0.601993</td>\n",
              "    </tr>\n",
              "    <tr>\n",
              "      <th>12</th>\n",
              "      <td>ممنوعیت‌هایی در نگهداری دفاتر چه هستند؟</td>\n",
              "      <td>تراشیدن، حک کردن، جای سفید گذاشتن بیش از حد مع...</td>\n",
              "      <td>[ماده 438 - انبارها و حجرهها و صندوق و اسناد و...</td>\n",
              "      <td>تراشیدن، حک‌کردن، جای سفید گذاشتن بیش از حد مع...</td>\n",
              "      <td>1.00</td>\n",
              "      <td>0.919679</td>\n",
              "      <td>1.000000</td>\n",
              "      <td>0.500000</td>\n",
              "      <td>0.746055</td>\n",
              "    </tr>\n",
              "    <tr>\n",
              "      <th>13</th>\n",
              "      <td>دفاتر مطابق مقررات چه اعتباری دارند؟</td>\n",
              "      <td>بدون اطلاعات بیشتر، نمی‌توان پاسخ دقیقی ارائه ...</td>\n",
              "      <td>[]</td>\n",
              "      <td>بین تجار در امور تجارتی سندیت دارند. (ماده 14)</td>\n",
              "      <td>NaN</td>\n",
              "      <td>0.000000</td>\n",
              "      <td>1.000000</td>\n",
              "      <td>0.000000</td>\n",
              "      <td>0.202668</td>\n",
              "    </tr>\n",
              "    <tr>\n",
              "      <th>14</th>\n",
              "      <td>تخلف از کدام مواد مستلزم جزای نقدی است؟</td>\n",
              "      <td>تخلف از ماده 548 مستلزم جزای نقدی است.</td>\n",
              "      <td>[ماده 548 - مخارج تعقيبي كه از طرف يكي از طلبك...</td>\n",
              "      <td>تخلف از ماده 6 و ماده 11. (ماده 15)</td>\n",
              "      <td>0.00</td>\n",
              "      <td>0.905954</td>\n",
              "      <td>0.000000</td>\n",
              "      <td>0.000000</td>\n",
              "      <td>0.594994</td>\n",
              "    </tr>\n",
              "    <tr>\n",
              "      <th>15</th>\n",
              "      <td>چه کسانی باید نام خود را در دفتر ثبت تجارتی به...</td>\n",
              "      <td>کلیه اشخاصی که در نقاط بشغل تجارت اشتغال دارند...</td>\n",
              "      <td>[ماده 16 - در نقاطي كه وزارت عدليه مقتضي دانست...</td>\n",
              "      <td>کلیه اشخاصی که به شغل تجارت اشتغال دارند، اعم ...</td>\n",
              "      <td>NaN</td>\n",
              "      <td>0.935060</td>\n",
              "      <td>1.000000</td>\n",
              "      <td>1.000000</td>\n",
              "      <td>0.738032</td>\n",
              "    </tr>\n",
              "    <tr>\n",
              "      <th>16</th>\n",
              "      <td>وظایف وزارت عدلیه در رابطه با دفتر ثبت تجارتی ...</td>\n",
              "      <td>وظایف وزارت عدلیه در رابطه با دفتر ثبت تجارتی ...</td>\n",
              "      <td>[ماده 438 - انبارها و حجرهها و صندوق و اسناد و...</td>\n",
              "      <td>مقررات مربوط به دفتر ثبت تجارتی را معین می‌کند...</td>\n",
              "      <td>1.00</td>\n",
              "      <td>0.844178</td>\n",
              "      <td>1.000000</td>\n",
              "      <td>0.583333</td>\n",
              "      <td>0.731553</td>\n",
              "    </tr>\n",
              "    <tr>\n",
              "      <th>17</th>\n",
              "      <td>تاجر باید چه اطلاعاتی را در اسناد خود ذکر کند؟</td>\n",
              "      <td>تاجر باید کلیه مراسلات، مخابرات، صورتحسابهای ص...</td>\n",
              "      <td>[ماده 10 - دفتر كپيه دفتري است كه تاجر بايد كل...</td>\n",
              "      <td>تصریح نماید که تحت چه نمره‌ای به ثبت رسیده. (م...</td>\n",
              "      <td>0.75</td>\n",
              "      <td>0.790414</td>\n",
              "      <td>0.800000</td>\n",
              "      <td>1.000000</td>\n",
              "      <td>0.211744</td>\n",
              "    </tr>\n",
              "    <tr>\n",
              "      <th>18</th>\n",
              "      <td>شناسایی کسبه جزء در چه صورتی انجام می‌گیرد؟</td>\n",
              "      <td>با استفاده از کدامکدهای موجود در متن، شناسایی ...</td>\n",
              "      <td>[]</td>\n",
              "      <td>مطابق مقررات نظامنامه وزارت عدلیه. (ماده 19)</td>\n",
              "      <td>NaN</td>\n",
              "      <td>0.909651</td>\n",
              "      <td>1.000000</td>\n",
              "      <td>0.000000</td>\n",
              "      <td>0.577970</td>\n",
              "    </tr>\n",
              "    <tr>\n",
              "      <th>19</th>\n",
              "      <td>انواع شرکت‌های تجارتی کدامند؟</td>\n",
              "      <td>انواع شرکت‌های تجارتی شامل شرکت‌هایی هستند که ...</td>\n",
              "      <td>[ماده 583 - كليه شركتهاي تجارتي مذكور در اين ق...</td>\n",
              "      <td>شرکت سهامی، با مسئولیت محدود، تضامنی، مختلط غی...</td>\n",
              "      <td>1.00</td>\n",
              "      <td>0.957067</td>\n",
              "      <td>1.000000</td>\n",
              "      <td>0.333333</td>\n",
              "      <td>0.718499</td>\n",
              "    </tr>\n",
              "  </tbody>\n",
              "</table>\n",
              "</div>\n",
              "    <div class=\"colab-df-buttons\">\n",
              "\n",
              "  <div class=\"colab-df-container\">\n",
              "    <button class=\"colab-df-convert\" onclick=\"convertToInteractive('df-2e210f80-3347-4843-832c-f6e6b8160d41')\"\n",
              "            title=\"Convert this dataframe to an interactive table.\"\n",
              "            style=\"display:none;\">\n",
              "\n",
              "  <svg xmlns=\"http://www.w3.org/2000/svg\" height=\"24px\" viewBox=\"0 -960 960 960\">\n",
              "    <path d=\"M120-120v-720h720v720H120Zm60-500h600v-160H180v160Zm220 220h160v-160H400v160Zm0 220h160v-160H400v160ZM180-400h160v-160H180v160Zm440 0h160v-160H620v160ZM180-180h160v-160H180v160Zm440 0h160v-160H620v160Z\"/>\n",
              "  </svg>\n",
              "    </button>\n",
              "\n",
              "  <style>\n",
              "    .colab-df-container {\n",
              "      display:flex;\n",
              "      gap: 12px;\n",
              "    }\n",
              "\n",
              "    .colab-df-convert {\n",
              "      background-color: #E8F0FE;\n",
              "      border: none;\n",
              "      border-radius: 50%;\n",
              "      cursor: pointer;\n",
              "      display: none;\n",
              "      fill: #1967D2;\n",
              "      height: 32px;\n",
              "      padding: 0 0 0 0;\n",
              "      width: 32px;\n",
              "    }\n",
              "\n",
              "    .colab-df-convert:hover {\n",
              "      background-color: #E2EBFA;\n",
              "      box-shadow: 0px 1px 2px rgba(60, 64, 67, 0.3), 0px 1px 3px 1px rgba(60, 64, 67, 0.15);\n",
              "      fill: #174EA6;\n",
              "    }\n",
              "\n",
              "    .colab-df-buttons div {\n",
              "      margin-bottom: 4px;\n",
              "    }\n",
              "\n",
              "    [theme=dark] .colab-df-convert {\n",
              "      background-color: #3B4455;\n",
              "      fill: #D2E3FC;\n",
              "    }\n",
              "\n",
              "    [theme=dark] .colab-df-convert:hover {\n",
              "      background-color: #434B5C;\n",
              "      box-shadow: 0px 1px 3px 1px rgba(0, 0, 0, 0.15);\n",
              "      filter: drop-shadow(0px 1px 2px rgba(0, 0, 0, 0.3));\n",
              "      fill: #FFFFFF;\n",
              "    }\n",
              "  </style>\n",
              "\n",
              "    <script>\n",
              "      const buttonEl =\n",
              "        document.querySelector('#df-2e210f80-3347-4843-832c-f6e6b8160d41 button.colab-df-convert');\n",
              "      buttonEl.style.display =\n",
              "        google.colab.kernel.accessAllowed ? 'block' : 'none';\n",
              "\n",
              "      async function convertToInteractive(key) {\n",
              "        const element = document.querySelector('#df-2e210f80-3347-4843-832c-f6e6b8160d41');\n",
              "        const dataTable =\n",
              "          await google.colab.kernel.invokeFunction('convertToInteractive',\n",
              "                                                    [key], {});\n",
              "        if (!dataTable) return;\n",
              "\n",
              "        const docLinkHtml = 'Like what you see? Visit the ' +\n",
              "          '<a target=\"_blank\" href=https://colab.research.google.com/notebooks/data_table.ipynb>data table notebook</a>'\n",
              "          + ' to learn more about interactive tables.';\n",
              "        element.innerHTML = '';\n",
              "        dataTable['output_type'] = 'display_data';\n",
              "        await google.colab.output.renderOutput(dataTable, element);\n",
              "        const docLink = document.createElement('div');\n",
              "        docLink.innerHTML = docLinkHtml;\n",
              "        element.appendChild(docLink);\n",
              "      }\n",
              "    </script>\n",
              "  </div>\n",
              "\n",
              "\n",
              "<div id=\"df-c1e2fdc3-304a-4285-9af7-c7a7fc9b6f68\">\n",
              "  <button class=\"colab-df-quickchart\" onclick=\"quickchart('df-c1e2fdc3-304a-4285-9af7-c7a7fc9b6f68')\"\n",
              "            title=\"Suggest charts\"\n",
              "            style=\"display:none;\">\n",
              "\n",
              "<svg xmlns=\"http://www.w3.org/2000/svg\" height=\"24px\"viewBox=\"0 0 24 24\"\n",
              "     width=\"24px\">\n",
              "    <g>\n",
              "        <path d=\"M19 3H5c-1.1 0-2 .9-2 2v14c0 1.1.9 2 2 2h14c1.1 0 2-.9 2-2V5c0-1.1-.9-2-2-2zM9 17H7v-7h2v7zm4 0h-2V7h2v10zm4 0h-2v-4h2v4z\"/>\n",
              "    </g>\n",
              "</svg>\n",
              "  </button>\n",
              "\n",
              "<style>\n",
              "  .colab-df-quickchart {\n",
              "      --bg-color: #E8F0FE;\n",
              "      --fill-color: #1967D2;\n",
              "      --hover-bg-color: #E2EBFA;\n",
              "      --hover-fill-color: #174EA6;\n",
              "      --disabled-fill-color: #AAA;\n",
              "      --disabled-bg-color: #DDD;\n",
              "  }\n",
              "\n",
              "  [theme=dark] .colab-df-quickchart {\n",
              "      --bg-color: #3B4455;\n",
              "      --fill-color: #D2E3FC;\n",
              "      --hover-bg-color: #434B5C;\n",
              "      --hover-fill-color: #FFFFFF;\n",
              "      --disabled-bg-color: #3B4455;\n",
              "      --disabled-fill-color: #666;\n",
              "  }\n",
              "\n",
              "  .colab-df-quickchart {\n",
              "    background-color: var(--bg-color);\n",
              "    border: none;\n",
              "    border-radius: 50%;\n",
              "    cursor: pointer;\n",
              "    display: none;\n",
              "    fill: var(--fill-color);\n",
              "    height: 32px;\n",
              "    padding: 0;\n",
              "    width: 32px;\n",
              "  }\n",
              "\n",
              "  .colab-df-quickchart:hover {\n",
              "    background-color: var(--hover-bg-color);\n",
              "    box-shadow: 0 1px 2px rgba(60, 64, 67, 0.3), 0 1px 3px 1px rgba(60, 64, 67, 0.15);\n",
              "    fill: var(--button-hover-fill-color);\n",
              "  }\n",
              "\n",
              "  .colab-df-quickchart-complete:disabled,\n",
              "  .colab-df-quickchart-complete:disabled:hover {\n",
              "    background-color: var(--disabled-bg-color);\n",
              "    fill: var(--disabled-fill-color);\n",
              "    box-shadow: none;\n",
              "  }\n",
              "\n",
              "  .colab-df-spinner {\n",
              "    border: 2px solid var(--fill-color);\n",
              "    border-color: transparent;\n",
              "    border-bottom-color: var(--fill-color);\n",
              "    animation:\n",
              "      spin 1s steps(1) infinite;\n",
              "  }\n",
              "\n",
              "  @keyframes spin {\n",
              "    0% {\n",
              "      border-color: transparent;\n",
              "      border-bottom-color: var(--fill-color);\n",
              "      border-left-color: var(--fill-color);\n",
              "    }\n",
              "    20% {\n",
              "      border-color: transparent;\n",
              "      border-left-color: var(--fill-color);\n",
              "      border-top-color: var(--fill-color);\n",
              "    }\n",
              "    30% {\n",
              "      border-color: transparent;\n",
              "      border-left-color: var(--fill-color);\n",
              "      border-top-color: var(--fill-color);\n",
              "      border-right-color: var(--fill-color);\n",
              "    }\n",
              "    40% {\n",
              "      border-color: transparent;\n",
              "      border-right-color: var(--fill-color);\n",
              "      border-top-color: var(--fill-color);\n",
              "    }\n",
              "    60% {\n",
              "      border-color: transparent;\n",
              "      border-right-color: var(--fill-color);\n",
              "    }\n",
              "    80% {\n",
              "      border-color: transparent;\n",
              "      border-right-color: var(--fill-color);\n",
              "      border-bottom-color: var(--fill-color);\n",
              "    }\n",
              "    90% {\n",
              "      border-color: transparent;\n",
              "      border-bottom-color: var(--fill-color);\n",
              "    }\n",
              "  }\n",
              "</style>\n",
              "\n",
              "  <script>\n",
              "    async function quickchart(key) {\n",
              "      const quickchartButtonEl =\n",
              "        document.querySelector('#' + key + ' button');\n",
              "      quickchartButtonEl.disabled = true;  // To prevent multiple clicks.\n",
              "      quickchartButtonEl.classList.add('colab-df-spinner');\n",
              "      try {\n",
              "        const charts = await google.colab.kernel.invokeFunction(\n",
              "            'suggestCharts', [key], {});\n",
              "      } catch (error) {\n",
              "        console.error('Error during call to suggestCharts:', error);\n",
              "      }\n",
              "      quickchartButtonEl.classList.remove('colab-df-spinner');\n",
              "      quickchartButtonEl.classList.add('colab-df-quickchart-complete');\n",
              "    }\n",
              "    (() => {\n",
              "      let quickchartButtonEl =\n",
              "        document.querySelector('#df-c1e2fdc3-304a-4285-9af7-c7a7fc9b6f68 button');\n",
              "      quickchartButtonEl.style.display =\n",
              "        google.colab.kernel.accessAllowed ? 'block' : 'none';\n",
              "    })();\n",
              "  </script>\n",
              "</div>\n",
              "    </div>\n",
              "  </div>\n"
            ],
            "text/plain": [
              "                                             question  \\\n",
              "0                               شرایط تاجر بودن چیست؟   \n",
              "1   خرید یا تحصیل مال منقول برای چه منظوری جزء معا...   \n",
              "2   انواع عملیاتی که جزء معاملات تجارتی محسوب می‌ش...   \n",
              "3   تأسیس و به کار انداختن کارخانه تحت چه شرایطی ج...   \n",
              "4   چه نوع معاملاتی بین تجار و کسبه تجارتی محسوب م...   \n",
              "5              دفاتری که تاجر باید داشته باشد کدامند؟   \n",
              "6       دفتر روزنامه چه نوع اطلاعاتی را باید ثبت کند؟   \n",
              "7                       دفتر کل چگونه باید تنظیم شود؟   \n",
              "8             دفتر دارایی چه اطلاعاتی را شامل می‌شود؟   \n",
              "9   نحوه ثبت مراسلات و مخابرات در دفتر کپیه چگونه ...   \n",
              "10  قبل از استفاده، کدام دفاتر باید توسط نماینده ا...   \n",
              "11  چه مواردی در دفتری که برای امضا به متصدی امضا ...   \n",
              "12            ممنوعیت‌هایی در نگهداری دفاتر چه هستند؟   \n",
              "13               دفاتر مطابق مقررات چه اعتباری دارند؟   \n",
              "14            تخلف از کدام مواد مستلزم جزای نقدی است؟   \n",
              "15  چه کسانی باید نام خود را در دفتر ثبت تجارتی به...   \n",
              "16  وظایف وزارت عدلیه در رابطه با دفتر ثبت تجارتی ...   \n",
              "17     تاجر باید چه اطلاعاتی را در اسناد خود ذکر کند؟   \n",
              "18        شناسایی کسبه جزء در چه صورتی انجام می‌گیرد؟   \n",
              "19                      انواع شرکت‌های تجارتی کدامند؟   \n",
              "\n",
              "                                               answer  \\\n",
              "0   شرایط تاجر بودن شامل انجام معاملات تجاری به صو...   \n",
              "1   خرید یا تحصیل مال منقول برای منظور فروش یا اجا...   \n",
              "2   همه معاملات تجارتی محسوب می‌شوند مگر اینکه ثاب...   \n",
              "3   تأسیس و به کار انداختن کارخانه جزء معاملات تجا...   \n",
              "4   کلیه معاملات بین تجار و کسبه تجارتی محسوب می‌شود.   \n",
              "5                       1. دفتر روزنامه\\n2. دفتر کپیه   \n",
              "6   دفتر روزنامه باید همه روزه مطالبات و دیون و دا...   \n",
              "7                                     باید تنظیم شود.   \n",
              "8   دفتر دارایی شامل اسناد، نوشتجات، اسباب و اثاثی...   \n",
              "9   مراسلات و مخابرات باید توسط تاجر در دفتر کپیه ...   \n",
              "10  دفاتری که برای امضاء به متصدی امضاء تسلیم می‌ش...   \n",
              "11  1. دارا بودن نمره ترتیبی و قیطان کشیده\\n2. شمر...   \n",
              "12  تراشیدن، حک کردن، جای سفید گذاشتن بیش از حد مع...   \n",
              "13  بدون اطلاعات بیشتر، نمی‌توان پاسخ دقیقی ارائه ...   \n",
              "14             تخلف از ماده 548 مستلزم جزای نقدی است.   \n",
              "15  کلیه اشخاصی که در نقاط بشغل تجارت اشتغال دارند...   \n",
              "16  وظایف وزارت عدلیه در رابطه با دفتر ثبت تجارتی ...   \n",
              "17  تاجر باید کلیه مراسلات، مخابرات، صورتحسابهای ص...   \n",
              "18  با استفاده از کدامکدهای موجود در متن، شناسایی ...   \n",
              "19  انواع شرکت‌های تجارتی شامل شرکت‌هایی هستند که ...   \n",
              "\n",
              "                                             contexts  \\\n",
              "0   [ماده 1 - تاجر كسي است كه شغل معمولي خود را مع...   \n",
              "1   [ماده 4 - معاملات غير منقول بهيچوجه تجارتي محس...   \n",
              "2   [ماده 4 - معاملات غير منقول بهيچوجه تجارتي محس...   \n",
              "3   [ماده 1 - تاجر كسي است كه شغل معمولي خود را مع...   \n",
              "4   [ماده 3 - معاملات ذيل باعتبار تاجر بودن متعامل...   \n",
              "5   [ماده 438 - انبارها و حجرهها و صندوق و اسناد و...   \n",
              "6   [ماده 7 - دفتر روزنامه دفتري است كه تاجر بايد ...   \n",
              "7                                                  []   \n",
              "8   [ماده 438 - انبارها و حجرهها و صندوق و اسناد و...   \n",
              "9   [ماده 10 - دفتر كپيه دفتري است كه تاجر بايد كل...   \n",
              "10  [ماده 438 - انبارها و حجرهها و صندوق و اسناد و...   \n",
              "11  [ماده 12 - دفتري كه براي امضاء بمتصدي امضاء تس...   \n",
              "12  [ماده 438 - انبارها و حجرهها و صندوق و اسناد و...   \n",
              "13                                                 []   \n",
              "14  [ماده 548 - مخارج تعقيبي كه از طرف يكي از طلبك...   \n",
              "15  [ماده 16 - در نقاطي كه وزارت عدليه مقتضي دانست...   \n",
              "16  [ماده 438 - انبارها و حجرهها و صندوق و اسناد و...   \n",
              "17  [ماده 10 - دفتر كپيه دفتري است كه تاجر بايد كل...   \n",
              "18                                                 []   \n",
              "19  [ماده 583 - كليه شركتهاي تجارتي مذكور در اين ق...   \n",
              "\n",
              "                                         ground_truth  faithfulness  \\\n",
              "0   تاجر کسی است که شغل معمولی خود را معاملات تجار...          0.00   \n",
              "1   برای فروش یا اجاره، چه تصرفاتی در آن شده باشد ...          1.00   \n",
              "2   عملیات دلالی، حق‌العمل‌کاری، عاملی و تأسیسات م...          0.50   \n",
              "3                 برای رفع حوائج شخصی نباشد. (ماده 2)          0.00   \n",
              "4   کلیه معاملات بین تجار و کسبه و صرافان و بانک‌ه...           NaN   \n",
              "5   دفتر روزنامه، دفتر کل، دفتر دارایی، و دفتر کپی...          1.00   \n",
              "6   مطالبات، دیون، داد و ستد تجارتی و معاملات راجع...          1.00   \n",
              "7   کلیه معاملات را لااقل هفته یک مرتبه از دفتر رو...           NaN   \n",
              "8   صورت جامعی از کلیه دارایی منقول و غیر منقول و ...          1.00   \n",
              "9   کلیه مراسلات و مخابرات و صورت‌حساب‌های صادره ب...          1.00   \n",
              "10  دفاتر مذکور در ماده 6 به استثناء دفتر کپیه. (م...          1.00   \n",
              "11  دارای نمره ترتیبی و قیطان کشیده باشد و صفحات آ...          0.80   \n",
              "12  تراشیدن، حک‌کردن، جای سفید گذاشتن بیش از حد مع...          1.00   \n",
              "13     بین تجار در امور تجارتی سندیت دارند. (ماده 14)           NaN   \n",
              "14                تخلف از ماده 6 و ماده 11. (ماده 15)          0.00   \n",
              "15  کلیه اشخاصی که به شغل تجارت اشتغال دارند، اعم ...           NaN   \n",
              "16  مقررات مربوط به دفتر ثبت تجارتی را معین می‌کند...          1.00   \n",
              "17  تصریح نماید که تحت چه نمره‌ای به ثبت رسیده. (م...          0.75   \n",
              "18       مطابق مقررات نظامنامه وزارت عدلیه. (ماده 19)           NaN   \n",
              "19  شرکت سهامی، با مسئولیت محدود، تضامنی، مختلط غی...          1.00   \n",
              "\n",
              "    answer_relevancy  context_recall  context_precision  answer_correctness  \n",
              "0           0.966249        1.000000           1.000000            0.895567  \n",
              "1           0.918036        1.000000           0.333333            0.728639  \n",
              "2           0.892479        1.000000           0.333333            0.857541  \n",
              "3           0.926233        0.000000           0.000000            0.706671  \n",
              "4           0.945362        1.000000           1.000000            0.737230  \n",
              "5           0.748576        0.750000           1.000000            0.732888  \n",
              "6           0.811721        1.000000           1.000000            0.728294  \n",
              "7           0.000000        1.000000           0.000000            0.205245  \n",
              "8           0.950056        0.000000           0.000000            0.213697  \n",
              "9           0.901492        1.000000           1.000000            0.733164  \n",
              "10          0.894511        1.000000           1.000000            0.714213  \n",
              "11          0.858485        0.666667           0.833333            0.601993  \n",
              "12          0.919679        1.000000           0.500000            0.746055  \n",
              "13          0.000000        1.000000           0.000000            0.202668  \n",
              "14          0.905954        0.000000           0.000000            0.594994  \n",
              "15          0.935060        1.000000           1.000000            0.738032  \n",
              "16          0.844178        1.000000           0.583333            0.731553  \n",
              "17          0.790414        0.800000           1.000000            0.211744  \n",
              "18          0.909651        1.000000           0.000000            0.577970  \n",
              "19          0.957067        1.000000           0.333333            0.718499  "
            ]
          },
          "metadata": {},
          "output_type": "display_data"
        }
      ],
      "source": [
        "res_pd = results.to_pandas()\n",
        "res_pd"
      ]
    },
    {
      "cell_type": "code",
      "execution_count": null,
      "metadata": {
        "id": "9ZdXOi5nw0Vm"
      },
      "outputs": [],
      "source": [
        "res_pd.to_csv('results_article_based.csv', index=True)"
      ]
    }
  ],
  "metadata": {
    "language_info": {
      "name": "python"
    },
    "orig_nbformat": 4,
    "colab": {
      "provenance": [],
      "gpuType": "T4"
    },
    "kernelspec": {
      "name": "python3",
      "display_name": "Python 3"
    },
    "accelerator": "GPU",
    "widgets": {
      "application/vnd.jupyter.widget-state+json": {}
    }
  },
  "nbformat": 4,
  "nbformat_minor": 0
}