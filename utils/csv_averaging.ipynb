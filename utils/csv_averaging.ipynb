{
  "nbformat": 4,
  "nbformat_minor": 0,
  "metadata": {
    "colab": {
      "provenance": []
    },
    "kernelspec": {
      "name": "python3",
      "display_name": "Python 3"
    },
    "language_info": {
      "name": "python"
    }
  },
  "cells": [
    {
      "cell_type": "code",
      "execution_count": null,
      "metadata": {
        "id": "FGTLcI9sc3vB"
      },
      "outputs": [],
      "source": [
        "import os\n",
        "import pandas as pd"
      ]
    },
    {
      "cell_type": "code",
      "source": [
        "import os\n",
        "import pandas as pd\n",
        "\n",
        "folder_path = '/content/'\n",
        "\n",
        "for filename in os.listdir(folder_path):\n",
        "  if filename.endswith('.csv'):\n",
        "    print(f'Processing {filename}')\n",
        "    file_path = os.path.join(folder_path, filename)\n",
        "    df = pd.read_csv(file_path)\n",
        "    row = {}\n",
        "    for column, _ in df.items():\n",
        "      if column in ('faithfulness', 'answer_relevancy', 'context_recall', 'context_precision', 'answer_correctness'):\n",
        "        row[column] = [df[column].mean()]\n",
        "      else:\n",
        "        row[column] = None\n",
        "\n",
        "    row = pd.DataFrame(row)\n",
        "    df = pd.concat([df, row])\n",
        "    df = df.drop(df.columns[0], axis=1)\n",
        "    df.to_csv(f'updated_{filename}', index=True)"
      ],
      "metadata": {
        "colab": {
          "base_uri": "https://localhost:8080/"
        },
        "id": "WareyCULdYw8",
        "outputId": "6c5f77a7-3e38-424d-d6e4-69e40066dd57"
      },
      "execution_count": 52,
      "outputs": [
        {
          "output_type": "stream",
          "name": "stdout",
          "text": [
            "Processing 1_results.csv\n",
            "Processing 5_medium.csv\n",
            "Processing results-4.csv\n",
            "Processing results_hard.csv\n",
            "Processing 2_results_article_based.csv\n"
          ]
        }
      ]
    },
    {
      "cell_type": "code",
      "source": [],
      "metadata": {
        "id": "ecoRLmFQnzL_"
      },
      "execution_count": null,
      "outputs": []
    }
  ]
}